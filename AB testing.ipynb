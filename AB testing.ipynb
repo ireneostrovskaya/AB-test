{
 "cells": [
  {
   "cell_type": "markdown",
   "metadata": {},
   "source": [
    "# Analyzing the startup selling food products. Investigation of user behavior for the company's app.\n",
    "\n",
    "In this project we have to prepare a report with the users behaviour for the company's app. We need to find out the share of users that go from main screen to the purhase screen and to check the equalty of groups."
   ]
  },
  {
   "cell_type": "code",
   "execution_count": 1,
   "metadata": {},
   "outputs": [],
   "source": [
    "import warnings \n",
    "warnings.simplefilter(action='ignore', category=FutureWarning)"
   ]
  },
  {
   "cell_type": "code",
   "execution_count": 2,
   "metadata": {},
   "outputs": [
    {
     "name": "stdout",
     "output_type": "stream",
     "text": [
      "\u001b[33m  WARNING: The scripts fonttools, pyftmerge, pyftsubset and ttx are installed in '/home/jovyan/.local/bin' which is not on PATH.\r\n",
      "  Consider adding this directory to PATH or, if you prefer to suppress this warning, use --no-warn-script-location.\u001b[0m\r\n"
     ]
    }
   ],
   "source": [
    "!pip install -Uq matplotlib --user"
   ]
  },
  {
   "cell_type": "code",
   "execution_count": 3,
   "metadata": {},
   "outputs": [],
   "source": [
    "!pip install -Uq plotly --user"
   ]
  },
  {
   "cell_type": "code",
   "execution_count": 4,
   "metadata": {},
   "outputs": [],
   "source": [
    "!pip install -Uq seaborn --user"
   ]
  },
  {
   "cell_type": "code",
   "execution_count": 5,
   "metadata": {},
   "outputs": [],
   "source": [
    "import pandas as pd \n",
    "import math as mth\n",
    "from scipy import stats as st\n",
    "import numpy as np\n",
    "import matplotlib as mpl\n",
    "import matplotlib.pyplot as plt\n",
    "import seaborn as sns\n",
    "import plotly.express as px\n",
    "import datetime\n",
    "from datetime import datetime"
   ]
  },
  {
   "cell_type": "markdown",
   "metadata": {},
   "source": [
    "# Step 1"
   ]
  },
  {
   "cell_type": "code",
   "execution_count": 6,
   "metadata": {},
   "outputs": [],
   "source": [
    "try:\n",
    "    food_data = pd.read_csv('/datasets/logs_exp_us.csv', sep ='\\t')\n",
    "except IOError as e:\n",
    "    print(e)\n"
   ]
  },
  {
   "cell_type": "markdown",
   "metadata": {},
   "source": [
    "# Step 2. Preparing data for analysis"
   ]
  },
  {
   "cell_type": "code",
   "execution_count": 7,
   "metadata": {},
   "outputs": [
    {
     "data": {
      "text/html": [
       "<div>\n",
       "<style scoped>\n",
       "    .dataframe tbody tr th:only-of-type {\n",
       "        vertical-align: middle;\n",
       "    }\n",
       "\n",
       "    .dataframe tbody tr th {\n",
       "        vertical-align: top;\n",
       "    }\n",
       "\n",
       "    .dataframe thead th {\n",
       "        text-align: right;\n",
       "    }\n",
       "</style>\n",
       "<table border=\"1\" class=\"dataframe\">\n",
       "  <thead>\n",
       "    <tr style=\"text-align: right;\">\n",
       "      <th></th>\n",
       "      <th>EventName</th>\n",
       "      <th>DeviceIDHash</th>\n",
       "      <th>EventTimestamp</th>\n",
       "      <th>ExpId</th>\n",
       "    </tr>\n",
       "  </thead>\n",
       "  <tbody>\n",
       "    <tr>\n",
       "      <th>226713</th>\n",
       "      <td>CartScreenAppear</td>\n",
       "      <td>8147206929408483621</td>\n",
       "      <td>1565179601</td>\n",
       "      <td>246</td>\n",
       "    </tr>\n",
       "    <tr>\n",
       "      <th>231029</th>\n",
       "      <td>CartScreenAppear</td>\n",
       "      <td>5131027327776247607</td>\n",
       "      <td>1565187454</td>\n",
       "      <td>246</td>\n",
       "    </tr>\n",
       "    <tr>\n",
       "      <th>105993</th>\n",
       "      <td>MainScreenAppear</td>\n",
       "      <td>6991683592829765144</td>\n",
       "      <td>1564861329</td>\n",
       "      <td>248</td>\n",
       "    </tr>\n",
       "    <tr>\n",
       "      <th>227146</th>\n",
       "      <td>PaymentScreenSuccessful</td>\n",
       "      <td>1081412553827861688</td>\n",
       "      <td>1565180432</td>\n",
       "      <td>248</td>\n",
       "    </tr>\n",
       "    <tr>\n",
       "      <th>162716</th>\n",
       "      <td>CartScreenAppear</td>\n",
       "      <td>1469821186825308546</td>\n",
       "      <td>1565016229</td>\n",
       "      <td>246</td>\n",
       "    </tr>\n",
       "  </tbody>\n",
       "</table>\n",
       "</div>"
      ],
      "text/plain": [
       "                      EventName         DeviceIDHash  EventTimestamp  ExpId\n",
       "226713         CartScreenAppear  8147206929408483621      1565179601    246\n",
       "231029         CartScreenAppear  5131027327776247607      1565187454    246\n",
       "105993         MainScreenAppear  6991683592829765144      1564861329    248\n",
       "227146  PaymentScreenSuccessful  1081412553827861688      1565180432    248\n",
       "162716         CartScreenAppear  1469821186825308546      1565016229    246"
      ]
     },
     "execution_count": 7,
     "metadata": {},
     "output_type": "execute_result"
    }
   ],
   "source": [
    "food_data.sample(5)"
   ]
  },
  {
   "cell_type": "markdown",
   "metadata": {},
   "source": [
    "We have a database with 3 different groups of users (246,247 and 248). From the database we can figure out the events, the device id and the time,when the event took place."
   ]
  },
  {
   "cell_type": "code",
   "execution_count": 8,
   "metadata": {},
   "outputs": [
    {
     "name": "stdout",
     "output_type": "stream",
     "text": [
      "<class 'pandas.core.frame.DataFrame'>\n",
      "RangeIndex: 244126 entries, 0 to 244125\n",
      "Data columns (total 4 columns):\n",
      " #   Column          Non-Null Count   Dtype \n",
      "---  ------          --------------   ----- \n",
      " 0   EventName       244126 non-null  object\n",
      " 1   DeviceIDHash    244126 non-null  int64 \n",
      " 2   EventTimestamp  244126 non-null  int64 \n",
      " 3   ExpId           244126 non-null  int64 \n",
      "dtypes: int64(3), object(1)\n",
      "memory usage: 7.5+ MB\n"
     ]
    }
   ],
   "source": [
    "food_data.info()"
   ]
  },
  {
   "cell_type": "markdown",
   "metadata": {},
   "source": [
    "There are 4 columns in the dataset, 244126 rows and no missing values here."
   ]
  },
  {
   "cell_type": "code",
   "execution_count": 9,
   "metadata": {},
   "outputs": [],
   "source": [
    "food_data = food_data.rename(columns=str.lower)\n",
    "food_data.columns = ['event_name', 'user_id', 'timestamp', 'experiment_id']"
   ]
  },
  {
   "cell_type": "code",
   "execution_count": 10,
   "metadata": {},
   "outputs": [
    {
     "data": {
      "text/html": [
       "<div>\n",
       "<style scoped>\n",
       "    .dataframe tbody tr th:only-of-type {\n",
       "        vertical-align: middle;\n",
       "    }\n",
       "\n",
       "    .dataframe tbody tr th {\n",
       "        vertical-align: top;\n",
       "    }\n",
       "\n",
       "    .dataframe thead th {\n",
       "        text-align: right;\n",
       "    }\n",
       "</style>\n",
       "<table border=\"1\" class=\"dataframe\">\n",
       "  <thead>\n",
       "    <tr style=\"text-align: right;\">\n",
       "      <th></th>\n",
       "      <th>event_name</th>\n",
       "      <th>user_id</th>\n",
       "      <th>timestamp</th>\n",
       "      <th>experiment_id</th>\n",
       "    </tr>\n",
       "  </thead>\n",
       "  <tbody>\n",
       "    <tr>\n",
       "      <th>0</th>\n",
       "      <td>MainScreenAppear</td>\n",
       "      <td>4575588528974610257</td>\n",
       "      <td>2019-07-25 04:43:36</td>\n",
       "      <td>246</td>\n",
       "    </tr>\n",
       "    <tr>\n",
       "      <th>1</th>\n",
       "      <td>MainScreenAppear</td>\n",
       "      <td>7416695313311560658</td>\n",
       "      <td>2019-07-25 11:11:42</td>\n",
       "      <td>246</td>\n",
       "    </tr>\n",
       "    <tr>\n",
       "      <th>2</th>\n",
       "      <td>PaymentScreenSuccessful</td>\n",
       "      <td>3518123091307005509</td>\n",
       "      <td>2019-07-25 11:28:47</td>\n",
       "      <td>248</td>\n",
       "    </tr>\n",
       "    <tr>\n",
       "      <th>3</th>\n",
       "      <td>CartScreenAppear</td>\n",
       "      <td>3518123091307005509</td>\n",
       "      <td>2019-07-25 11:28:47</td>\n",
       "      <td>248</td>\n",
       "    </tr>\n",
       "    <tr>\n",
       "      <th>4</th>\n",
       "      <td>PaymentScreenSuccessful</td>\n",
       "      <td>6217807653094995999</td>\n",
       "      <td>2019-07-25 11:48:42</td>\n",
       "      <td>248</td>\n",
       "    </tr>\n",
       "  </tbody>\n",
       "</table>\n",
       "</div>"
      ],
      "text/plain": [
       "                event_name              user_id           timestamp  \\\n",
       "0         MainScreenAppear  4575588528974610257 2019-07-25 04:43:36   \n",
       "1         MainScreenAppear  7416695313311560658 2019-07-25 11:11:42   \n",
       "2  PaymentScreenSuccessful  3518123091307005509 2019-07-25 11:28:47   \n",
       "3         CartScreenAppear  3518123091307005509 2019-07-25 11:28:47   \n",
       "4  PaymentScreenSuccessful  6217807653094995999 2019-07-25 11:48:42   \n",
       "\n",
       "   experiment_id  \n",
       "0            246  \n",
       "1            246  \n",
       "2            248  \n",
       "3            248  \n",
       "4            248  "
      ]
     },
     "execution_count": 10,
     "metadata": {},
     "output_type": "execute_result"
    }
   ],
   "source": [
    "food_data['timestamp'] =food_data['timestamp'].apply(lambda x:datetime.fromtimestamp(x))\n",
    "food_data.head()"
   ]
  },
  {
   "cell_type": "markdown",
   "metadata": {},
   "source": [
    "For the more conveneint analysis we changed the column names and the date type."
   ]
  },
  {
   "cell_type": "code",
   "execution_count": 11,
   "metadata": {},
   "outputs": [
    {
     "data": {
      "text/plain": [
       "array(['MainScreenAppear', 'PaymentScreenSuccessful', 'CartScreenAppear',\n",
       "       'OffersScreenAppear', 'Tutorial'], dtype=object)"
      ]
     },
     "execution_count": 11,
     "metadata": {},
     "output_type": "execute_result"
    }
   ],
   "source": [
    "food_data['event_name'].unique()"
   ]
  },
  {
   "cell_type": "markdown",
   "metadata": {},
   "source": [
    "There are 5 events that can occur in the database:\n",
    "'MainScreenAppear', 'PaymentScreenSuccessful', 'CartScreenAppear',\n",
    "'OffersScreenAppear', 'Tutorial'\n"
   ]
  },
  {
   "cell_type": "code",
   "execution_count": 12,
   "metadata": {},
   "outputs": [
    {
     "data": {
      "text/html": [
       "<div>\n",
       "<style scoped>\n",
       "    .dataframe tbody tr th:only-of-type {\n",
       "        vertical-align: middle;\n",
       "    }\n",
       "\n",
       "    .dataframe tbody tr th {\n",
       "        vertical-align: top;\n",
       "    }\n",
       "\n",
       "    .dataframe thead th {\n",
       "        text-align: right;\n",
       "    }\n",
       "</style>\n",
       "<table border=\"1\" class=\"dataframe\">\n",
       "  <thead>\n",
       "    <tr style=\"text-align: right;\">\n",
       "      <th></th>\n",
       "      <th>event_name</th>\n",
       "      <th>user_id</th>\n",
       "      <th>timestamp</th>\n",
       "      <th>experiment_id</th>\n",
       "    </tr>\n",
       "  </thead>\n",
       "  <tbody>\n",
       "    <tr>\n",
       "      <th>count</th>\n",
       "      <td>244126</td>\n",
       "      <td>2.441260e+05</td>\n",
       "      <td>244126</td>\n",
       "      <td>244126.000000</td>\n",
       "    </tr>\n",
       "    <tr>\n",
       "      <th>unique</th>\n",
       "      <td>5</td>\n",
       "      <td>NaN</td>\n",
       "      <td>176654</td>\n",
       "      <td>NaN</td>\n",
       "    </tr>\n",
       "    <tr>\n",
       "      <th>top</th>\n",
       "      <td>MainScreenAppear</td>\n",
       "      <td>NaN</td>\n",
       "      <td>2019-08-04 16:23:19</td>\n",
       "      <td>NaN</td>\n",
       "    </tr>\n",
       "    <tr>\n",
       "      <th>freq</th>\n",
       "      <td>119205</td>\n",
       "      <td>NaN</td>\n",
       "      <td>9</td>\n",
       "      <td>NaN</td>\n",
       "    </tr>\n",
       "    <tr>\n",
       "      <th>first</th>\n",
       "      <td>NaN</td>\n",
       "      <td>NaN</td>\n",
       "      <td>2019-07-25 04:43:36</td>\n",
       "      <td>NaN</td>\n",
       "    </tr>\n",
       "    <tr>\n",
       "      <th>last</th>\n",
       "      <td>NaN</td>\n",
       "      <td>NaN</td>\n",
       "      <td>2019-08-07 21:15:17</td>\n",
       "      <td>NaN</td>\n",
       "    </tr>\n",
       "    <tr>\n",
       "      <th>mean</th>\n",
       "      <td>NaN</td>\n",
       "      <td>4.627568e+18</td>\n",
       "      <td>NaN</td>\n",
       "      <td>247.022296</td>\n",
       "    </tr>\n",
       "    <tr>\n",
       "      <th>std</th>\n",
       "      <td>NaN</td>\n",
       "      <td>2.642425e+18</td>\n",
       "      <td>NaN</td>\n",
       "      <td>0.824434</td>\n",
       "    </tr>\n",
       "    <tr>\n",
       "      <th>min</th>\n",
       "      <td>NaN</td>\n",
       "      <td>6.888747e+15</td>\n",
       "      <td>NaN</td>\n",
       "      <td>246.000000</td>\n",
       "    </tr>\n",
       "    <tr>\n",
       "      <th>25%</th>\n",
       "      <td>NaN</td>\n",
       "      <td>2.372212e+18</td>\n",
       "      <td>NaN</td>\n",
       "      <td>246.000000</td>\n",
       "    </tr>\n",
       "    <tr>\n",
       "      <th>50%</th>\n",
       "      <td>NaN</td>\n",
       "      <td>4.623192e+18</td>\n",
       "      <td>NaN</td>\n",
       "      <td>247.000000</td>\n",
       "    </tr>\n",
       "    <tr>\n",
       "      <th>75%</th>\n",
       "      <td>NaN</td>\n",
       "      <td>6.932517e+18</td>\n",
       "      <td>NaN</td>\n",
       "      <td>248.000000</td>\n",
       "    </tr>\n",
       "    <tr>\n",
       "      <th>max</th>\n",
       "      <td>NaN</td>\n",
       "      <td>9.222603e+18</td>\n",
       "      <td>NaN</td>\n",
       "      <td>248.000000</td>\n",
       "    </tr>\n",
       "  </tbody>\n",
       "</table>\n",
       "</div>"
      ],
      "text/plain": [
       "              event_name       user_id            timestamp  experiment_id\n",
       "count             244126  2.441260e+05               244126  244126.000000\n",
       "unique                 5           NaN               176654            NaN\n",
       "top     MainScreenAppear           NaN  2019-08-04 16:23:19            NaN\n",
       "freq              119205           NaN                    9            NaN\n",
       "first                NaN           NaN  2019-07-25 04:43:36            NaN\n",
       "last                 NaN           NaN  2019-08-07 21:15:17            NaN\n",
       "mean                 NaN  4.627568e+18                  NaN     247.022296\n",
       "std                  NaN  2.642425e+18                  NaN       0.824434\n",
       "min                  NaN  6.888747e+15                  NaN     246.000000\n",
       "25%                  NaN  2.372212e+18                  NaN     246.000000\n",
       "50%                  NaN  4.623192e+18                  NaN     247.000000\n",
       "75%                  NaN  6.932517e+18                  NaN     248.000000\n",
       "max                  NaN  9.222603e+18                  NaN     248.000000"
      ]
     },
     "execution_count": 12,
     "metadata": {},
     "output_type": "execute_result"
    }
   ],
   "source": [
    "food_data.describe(include='all')"
   ]
  },
  {
   "cell_type": "code",
   "execution_count": 13,
   "metadata": {},
   "outputs": [
    {
     "data": {
      "text/plain": [
       "413"
      ]
     },
     "execution_count": 13,
     "metadata": {},
     "output_type": "execute_result"
    }
   ],
   "source": [
    "food_data.duplicated().sum()"
   ]
  },
  {
   "cell_type": "markdown",
   "metadata": {},
   "source": [
    "There are 413 duplicated rows in out data. Let's take a look on that rows more detailed."
   ]
  },
  {
   "cell_type": "code",
   "execution_count": 14,
   "metadata": {},
   "outputs": [
    {
     "data": {
      "text/html": [
       "<div>\n",
       "<style scoped>\n",
       "    .dataframe tbody tr th:only-of-type {\n",
       "        vertical-align: middle;\n",
       "    }\n",
       "\n",
       "    .dataframe tbody tr th {\n",
       "        vertical-align: top;\n",
       "    }\n",
       "\n",
       "    .dataframe thead th {\n",
       "        text-align: right;\n",
       "    }\n",
       "</style>\n",
       "<table border=\"1\" class=\"dataframe\">\n",
       "  <thead>\n",
       "    <tr style=\"text-align: right;\">\n",
       "      <th></th>\n",
       "      <th>event_name</th>\n",
       "      <th>user_id</th>\n",
       "      <th>timestamp</th>\n",
       "      <th>experiment_id</th>\n",
       "    </tr>\n",
       "  </thead>\n",
       "  <tbody>\n",
       "    <tr>\n",
       "      <th>453</th>\n",
       "      <td>MainScreenAppear</td>\n",
       "      <td>5613408041324010552</td>\n",
       "      <td>2019-07-30 08:19:44</td>\n",
       "      <td>248</td>\n",
       "    </tr>\n",
       "    <tr>\n",
       "      <th>2350</th>\n",
       "      <td>CartScreenAppear</td>\n",
       "      <td>1694940645335807244</td>\n",
       "      <td>2019-07-31 21:51:39</td>\n",
       "      <td>248</td>\n",
       "    </tr>\n",
       "    <tr>\n",
       "      <th>3573</th>\n",
       "      <td>MainScreenAppear</td>\n",
       "      <td>434103746454591587</td>\n",
       "      <td>2019-08-01 02:59:37</td>\n",
       "      <td>248</td>\n",
       "    </tr>\n",
       "    <tr>\n",
       "      <th>4076</th>\n",
       "      <td>MainScreenAppear</td>\n",
       "      <td>3761373764179762633</td>\n",
       "      <td>2019-08-01 03:47:46</td>\n",
       "      <td>247</td>\n",
       "    </tr>\n",
       "    <tr>\n",
       "      <th>4803</th>\n",
       "      <td>MainScreenAppear</td>\n",
       "      <td>2835328739789306622</td>\n",
       "      <td>2019-08-01 04:44:01</td>\n",
       "      <td>248</td>\n",
       "    </tr>\n",
       "    <tr>\n",
       "      <th>...</th>\n",
       "      <td>...</td>\n",
       "      <td>...</td>\n",
       "      <td>...</td>\n",
       "      <td>...</td>\n",
       "    </tr>\n",
       "    <tr>\n",
       "      <th>242329</th>\n",
       "      <td>MainScreenAppear</td>\n",
       "      <td>8870358373313968633</td>\n",
       "      <td>2019-08-07 19:26:44</td>\n",
       "      <td>247</td>\n",
       "    </tr>\n",
       "    <tr>\n",
       "      <th>242332</th>\n",
       "      <td>PaymentScreenSuccessful</td>\n",
       "      <td>4718002964983105693</td>\n",
       "      <td>2019-08-07 19:26:45</td>\n",
       "      <td>247</td>\n",
       "    </tr>\n",
       "    <tr>\n",
       "      <th>242360</th>\n",
       "      <td>PaymentScreenSuccessful</td>\n",
       "      <td>2382591782303281935</td>\n",
       "      <td>2019-08-07 19:27:29</td>\n",
       "      <td>246</td>\n",
       "    </tr>\n",
       "    <tr>\n",
       "      <th>242362</th>\n",
       "      <td>CartScreenAppear</td>\n",
       "      <td>2382591782303281935</td>\n",
       "      <td>2019-08-07 19:27:29</td>\n",
       "      <td>246</td>\n",
       "    </tr>\n",
       "    <tr>\n",
       "      <th>242635</th>\n",
       "      <td>MainScreenAppear</td>\n",
       "      <td>4097782667445790512</td>\n",
       "      <td>2019-08-07 19:36:58</td>\n",
       "      <td>246</td>\n",
       "    </tr>\n",
       "  </tbody>\n",
       "</table>\n",
       "<p>413 rows × 4 columns</p>\n",
       "</div>"
      ],
      "text/plain": [
       "                     event_name              user_id           timestamp  \\\n",
       "453            MainScreenAppear  5613408041324010552 2019-07-30 08:19:44   \n",
       "2350           CartScreenAppear  1694940645335807244 2019-07-31 21:51:39   \n",
       "3573           MainScreenAppear   434103746454591587 2019-08-01 02:59:37   \n",
       "4076           MainScreenAppear  3761373764179762633 2019-08-01 03:47:46   \n",
       "4803           MainScreenAppear  2835328739789306622 2019-08-01 04:44:01   \n",
       "...                         ...                  ...                 ...   \n",
       "242329         MainScreenAppear  8870358373313968633 2019-08-07 19:26:44   \n",
       "242332  PaymentScreenSuccessful  4718002964983105693 2019-08-07 19:26:45   \n",
       "242360  PaymentScreenSuccessful  2382591782303281935 2019-08-07 19:27:29   \n",
       "242362         CartScreenAppear  2382591782303281935 2019-08-07 19:27:29   \n",
       "242635         MainScreenAppear  4097782667445790512 2019-08-07 19:36:58   \n",
       "\n",
       "        experiment_id  \n",
       "453               248  \n",
       "2350              248  \n",
       "3573              248  \n",
       "4076              247  \n",
       "4803              248  \n",
       "...               ...  \n",
       "242329            247  \n",
       "242332            247  \n",
       "242360            246  \n",
       "242362            246  \n",
       "242635            246  \n",
       "\n",
       "[413 rows x 4 columns]"
      ]
     },
     "execution_count": 14,
     "metadata": {},
     "output_type": "execute_result"
    }
   ],
   "source": [
    "food_data[food_data.duplicated()]"
   ]
  },
  {
   "cell_type": "code",
   "execution_count": 15,
   "metadata": {},
   "outputs": [
    {
     "name": "stdout",
     "output_type": "stream",
     "text": [
      "event_name : 5\n",
      "user_id : 237\n",
      "timestamp : 352\n",
      "experiment_id : 3\n"
     ]
    }
   ],
   "source": [
    "for i in food_data[food_data.duplicated()].columns:\n",
    "    print(i,':',food_data[food_data.duplicated()][i].nunique())"
   ]
  },
  {
   "cell_type": "markdown",
   "metadata": {},
   "source": [
    "Unfortunately we do have the duplicated rows in all 3 groups and in all 5 events"
   ]
  },
  {
   "cell_type": "code",
   "execution_count": 16,
   "metadata": {},
   "outputs": [
    {
     "data": {
      "text/plain": [
       "array([datetime.date(2019, 7, 30), datetime.date(2019, 7, 31),\n",
       "       datetime.date(2019, 8, 1), datetime.date(2019, 8, 2),\n",
       "       datetime.date(2019, 8, 3), datetime.date(2019, 8, 4),\n",
       "       datetime.date(2019, 8, 5), datetime.date(2019, 8, 6),\n",
       "       datetime.date(2019, 8, 7)], dtype=object)"
      ]
     },
     "execution_count": 16,
     "metadata": {},
     "output_type": "execute_result"
    }
   ],
   "source": [
    "food_data[food_data.duplicated()]['timestamp'].dt.date.unique()"
   ]
  },
  {
   "cell_type": "markdown",
   "metadata": {},
   "source": [
    "As the duplicates occur on the every step and in the test and control groups, we can's simply drop it. It can be a technical problem. So it is better to ask a data engineers about the reasons of duplicates, because there are many and the duplicates are in the whole number of events."
   ]
  },
  {
   "cell_type": "code",
   "execution_count": 17,
   "metadata": {},
   "outputs": [],
   "source": [
    "food_data['dates'] = pd.to_datetime(food_data['timestamp']).dt.date\n",
    "food_data['time'] = pd.to_datetime(food_data['timestamp']).dt.time"
   ]
  },
  {
   "cell_type": "markdown",
   "metadata": {},
   "source": [
    "# Step 3. Analysis"
   ]
  },
  {
   "cell_type": "markdown",
   "metadata": {},
   "source": [
    "Answering the question how many events are in the logs, we see that there are 5 events."
   ]
  },
  {
   "cell_type": "code",
   "execution_count": 18,
   "metadata": {},
   "outputs": [
    {
     "data": {
      "text/plain": [
       "5"
      ]
     },
     "execution_count": 18,
     "metadata": {},
     "output_type": "execute_result"
    }
   ],
   "source": [
    "food_data['event_name'].nunique()"
   ]
  },
  {
   "cell_type": "code",
   "execution_count": 19,
   "metadata": {},
   "outputs": [
    {
     "data": {
      "text/plain": [
       "7551"
      ]
     },
     "execution_count": 19,
     "metadata": {},
     "output_type": "execute_result"
    }
   ],
   "source": [
    "users = food_data['user_id'].nunique()\n",
    "users"
   ]
  },
  {
   "cell_type": "markdown",
   "metadata": {},
   "source": [
    "The number of unique user_ids are 7551"
   ]
  },
  {
   "cell_type": "markdown",
   "metadata": {},
   "source": [
    "The next step is to find the average number of events per user"
   ]
  },
  {
   "cell_type": "code",
   "execution_count": 20,
   "metadata": {},
   "outputs": [
    {
     "data": {
      "text/plain": [
       "32.33028737915508"
      ]
     },
     "execution_count": 20,
     "metadata": {},
     "output_type": "execute_result"
    }
   ],
   "source": [
    "food_data.groupby(['user_id'])['event_name'].count().mean()"
   ]
  },
  {
   "cell_type": "markdown",
   "metadata": {},
   "source": [
    "On the average we have 32 events per user"
   ]
  },
  {
   "cell_type": "code",
   "execution_count": 21,
   "metadata": {},
   "outputs": [
    {
     "data": {
      "text/html": [
       "<div>\n",
       "<style scoped>\n",
       "    .dataframe tbody tr th:only-of-type {\n",
       "        vertical-align: middle;\n",
       "    }\n",
       "\n",
       "    .dataframe tbody tr th {\n",
       "        vertical-align: top;\n",
       "    }\n",
       "\n",
       "    .dataframe thead th {\n",
       "        text-align: right;\n",
       "    }\n",
       "</style>\n",
       "<table border=\"1\" class=\"dataframe\">\n",
       "  <thead>\n",
       "    <tr style=\"text-align: right;\">\n",
       "      <th></th>\n",
       "      <th>user_id</th>\n",
       "      <th>event_name</th>\n",
       "    </tr>\n",
       "  </thead>\n",
       "  <tbody>\n",
       "    <tr>\n",
       "      <th>0</th>\n",
       "      <td>6888746892508752</td>\n",
       "      <td>1</td>\n",
       "    </tr>\n",
       "    <tr>\n",
       "      <th>1</th>\n",
       "      <td>6909561520679493</td>\n",
       "      <td>4</td>\n",
       "    </tr>\n",
       "    <tr>\n",
       "      <th>2</th>\n",
       "      <td>6922444491712477</td>\n",
       "      <td>4</td>\n",
       "    </tr>\n",
       "    <tr>\n",
       "      <th>3</th>\n",
       "      <td>7435777799948366</td>\n",
       "      <td>1</td>\n",
       "    </tr>\n",
       "    <tr>\n",
       "      <th>4</th>\n",
       "      <td>7702139951469979</td>\n",
       "      <td>4</td>\n",
       "    </tr>\n",
       "  </tbody>\n",
       "</table>\n",
       "</div>"
      ],
      "text/plain": [
       "            user_id  event_name\n",
       "0  6888746892508752           1\n",
       "1  6909561520679493           4\n",
       "2  6922444491712477           4\n",
       "3  7435777799948366           1\n",
       "4  7702139951469979           4"
      ]
     },
     "execution_count": 21,
     "metadata": {},
     "output_type": "execute_result"
    }
   ],
   "source": [
    "food_data.groupby(['user_id'])['event_name'].nunique().reset_index().head()"
   ]
  },
  {
   "cell_type": "code",
   "execution_count": 22,
   "metadata": {},
   "outputs": [
    {
     "data": {
      "text/html": [
       "<div>\n",
       "<style scoped>\n",
       "    .dataframe tbody tr th:only-of-type {\n",
       "        vertical-align: middle;\n",
       "    }\n",
       "\n",
       "    .dataframe tbody tr th {\n",
       "        vertical-align: top;\n",
       "    }\n",
       "\n",
       "    .dataframe thead th {\n",
       "        text-align: right;\n",
       "    }\n",
       "</style>\n",
       "<table border=\"1\" class=\"dataframe\">\n",
       "  <thead>\n",
       "    <tr style=\"text-align: right;\">\n",
       "      <th></th>\n",
       "      <th>user_id</th>\n",
       "      <th>event_name</th>\n",
       "    </tr>\n",
       "  </thead>\n",
       "  <tbody>\n",
       "    <tr>\n",
       "      <th>5481</th>\n",
       "      <td>6805622418381348825</td>\n",
       "      <td>4</td>\n",
       "    </tr>\n",
       "    <tr>\n",
       "      <th>600</th>\n",
       "      <td>772422436737688422</td>\n",
       "      <td>1</td>\n",
       "    </tr>\n",
       "    <tr>\n",
       "      <th>6956</th>\n",
       "      <td>8512877645709747403</td>\n",
       "      <td>1</td>\n",
       "    </tr>\n",
       "    <tr>\n",
       "      <th>1887</th>\n",
       "      <td>2396595853709741935</td>\n",
       "      <td>4</td>\n",
       "    </tr>\n",
       "    <tr>\n",
       "      <th>5703</th>\n",
       "      <td>7054594901071911989</td>\n",
       "      <td>4</td>\n",
       "    </tr>\n",
       "    <tr>\n",
       "      <th>6707</th>\n",
       "      <td>8224196328793260986</td>\n",
       "      <td>4</td>\n",
       "    </tr>\n",
       "    <tr>\n",
       "      <th>1093</th>\n",
       "      <td>1414294169776581033</td>\n",
       "      <td>4</td>\n",
       "    </tr>\n",
       "  </tbody>\n",
       "</table>\n",
       "</div>"
      ],
      "text/plain": [
       "                  user_id  event_name\n",
       "5481  6805622418381348825           4\n",
       "600    772422436737688422           1\n",
       "6956  8512877645709747403           1\n",
       "1887  2396595853709741935           4\n",
       "5703  7054594901071911989           4\n",
       "6707  8224196328793260986           4\n",
       "1093  1414294169776581033           4"
      ]
     },
     "execution_count": 22,
     "metadata": {},
     "output_type": "execute_result"
    }
   ],
   "source": [
    "event_users = food_data.groupby(['user_id'])['event_name'].nunique().reset_index()\n",
    "event_users.sample(7)"
   ]
  },
  {
   "cell_type": "code",
   "execution_count": 23,
   "metadata": {},
   "outputs": [
    {
     "data": {
      "text/plain": [
       "4    3035\n",
       "1    2707\n",
       "2    1021\n",
       "5     471\n",
       "3     317\n",
       "Name: event_name, dtype: int64"
      ]
     },
     "execution_count": 23,
     "metadata": {},
     "output_type": "execute_result"
    }
   ],
   "source": [
    "events_food = food_data.groupby(['user_id'])['event_name'].nunique().reset_index()['event_name'].value_counts()\n",
    "events_food"
   ]
  },
  {
   "cell_type": "markdown",
   "metadata": {},
   "source": [
    "If we check the number of events (from main screen to tutorials) per user, we will see the next situation:"
   ]
  },
  {
   "cell_type": "markdown",
   "metadata": {},
   "source": [
    "A lot of users (2707) are on the step 1- on the main screen, only 3035 are on the step 4 and 471 on the step 5, that means that less that 50% are actually buying food on our site."
   ]
  },
  {
   "cell_type": "markdown",
   "metadata": {},
   "source": [
    "It is the time to find out what period of time does the data cover?"
   ]
  },
  {
   "cell_type": "code",
   "execution_count": 24,
   "metadata": {},
   "outputs": [
    {
     "data": {
      "image/png": "[encoded data removed]",
      "text/plain": [
       "<Figure size 792x576 with 1 Axes>"
      ]
     },
     "metadata": {
      "needs_background": "light"
     },
     "output_type": "display_data"
    }
   ],
   "source": [
    "plt.figure(figsize=(11,8))\n",
    "sns.histplot(food_data, x=food_data['timestamp'], color = '#85a3e0')\n",
    "plt.xticks(rotation=45)\n",
    "plt.title('Dates', fontsize=15);"
   ]
  },
  {
   "cell_type": "markdown",
   "metadata": {},
   "source": [
    "Let's turn to this histogram. It shows us the dates when the data starts (min date is 25 July 2019, max - 07 August 2019) But as for data before August, there is clearly a lack of complete information. After 1st of August data behaves the same way."
   ]
  },
  {
   "cell_type": "code",
   "execution_count": 25,
   "metadata": {},
   "outputs": [
    {
     "data": {
      "text/plain": [
       "Timestamp('2019-07-25 04:43:36')"
      ]
     },
     "execution_count": 25,
     "metadata": {},
     "output_type": "execute_result"
    }
   ],
   "source": [
    "food_data['timestamp'].min()"
   ]
  },
  {
   "cell_type": "code",
   "execution_count": 26,
   "metadata": {},
   "outputs": [
    {
     "data": {
      "text/plain": [
       "Timestamp('2019-08-07 21:15:17')"
      ]
     },
     "execution_count": 26,
     "metadata": {},
     "output_type": "execute_result"
    }
   ],
   "source": [
    "food_data['timestamp'].max()"
   ]
  },
  {
   "cell_type": "markdown",
   "metadata": {},
   "source": [
    "As we mentioned above the really complete data is starting from the 1st of august. That means that the test actually started on that date, and we don't have a proper data before this date. The test actually run for a week and before august it could be a preparation for the test or some technical issues. To have a full analysis it is highly recommended to delete data that is before 1st of August."
   ]
  },
  {
   "cell_type": "code",
   "execution_count": 27,
   "metadata": {},
   "outputs": [
    {
     "data": {
      "text/html": [
       "<div>\n",
       "<style scoped>\n",
       "    .dataframe tbody tr th:only-of-type {\n",
       "        vertical-align: middle;\n",
       "    }\n",
       "\n",
       "    .dataframe tbody tr th {\n",
       "        vertical-align: top;\n",
       "    }\n",
       "\n",
       "    .dataframe thead th {\n",
       "        text-align: right;\n",
       "    }\n",
       "</style>\n",
       "<table border=\"1\" class=\"dataframe\">\n",
       "  <thead>\n",
       "    <tr style=\"text-align: right;\">\n",
       "      <th></th>\n",
       "      <th>event_name</th>\n",
       "      <th>user_id</th>\n",
       "      <th>timestamp</th>\n",
       "      <th>experiment_id</th>\n",
       "      <th>dates</th>\n",
       "      <th>time</th>\n",
       "    </tr>\n",
       "  </thead>\n",
       "  <tbody>\n",
       "    <tr>\n",
       "      <th>0</th>\n",
       "      <td>MainScreenAppear</td>\n",
       "      <td>4575588528974610257</td>\n",
       "      <td>2019-07-25 04:43:36</td>\n",
       "      <td>246</td>\n",
       "      <td>2019-07-25</td>\n",
       "      <td>04:43:36</td>\n",
       "    </tr>\n",
       "    <tr>\n",
       "      <th>1</th>\n",
       "      <td>MainScreenAppear</td>\n",
       "      <td>7416695313311560658</td>\n",
       "      <td>2019-07-25 11:11:42</td>\n",
       "      <td>246</td>\n",
       "      <td>2019-07-25</td>\n",
       "      <td>11:11:42</td>\n",
       "    </tr>\n",
       "    <tr>\n",
       "      <th>2</th>\n",
       "      <td>PaymentScreenSuccessful</td>\n",
       "      <td>3518123091307005509</td>\n",
       "      <td>2019-07-25 11:28:47</td>\n",
       "      <td>248</td>\n",
       "      <td>2019-07-25</td>\n",
       "      <td>11:28:47</td>\n",
       "    </tr>\n",
       "    <tr>\n",
       "      <th>3</th>\n",
       "      <td>CartScreenAppear</td>\n",
       "      <td>3518123091307005509</td>\n",
       "      <td>2019-07-25 11:28:47</td>\n",
       "      <td>248</td>\n",
       "      <td>2019-07-25</td>\n",
       "      <td>11:28:47</td>\n",
       "    </tr>\n",
       "    <tr>\n",
       "      <th>4</th>\n",
       "      <td>PaymentScreenSuccessful</td>\n",
       "      <td>6217807653094995999</td>\n",
       "      <td>2019-07-25 11:48:42</td>\n",
       "      <td>248</td>\n",
       "      <td>2019-07-25</td>\n",
       "      <td>11:48:42</td>\n",
       "    </tr>\n",
       "  </tbody>\n",
       "</table>\n",
       "</div>"
      ],
      "text/plain": [
       "                event_name              user_id           timestamp  \\\n",
       "0         MainScreenAppear  4575588528974610257 2019-07-25 04:43:36   \n",
       "1         MainScreenAppear  7416695313311560658 2019-07-25 11:11:42   \n",
       "2  PaymentScreenSuccessful  3518123091307005509 2019-07-25 11:28:47   \n",
       "3         CartScreenAppear  3518123091307005509 2019-07-25 11:28:47   \n",
       "4  PaymentScreenSuccessful  6217807653094995999 2019-07-25 11:48:42   \n",
       "\n",
       "   experiment_id       dates      time  \n",
       "0            246  2019-07-25  04:43:36  \n",
       "1            246  2019-07-25  11:11:42  \n",
       "2            248  2019-07-25  11:28:47  \n",
       "3            248  2019-07-25  11:28:47  \n",
       "4            248  2019-07-25  11:48:42  "
      ]
     },
     "execution_count": 27,
     "metadata": {},
     "output_type": "execute_result"
    }
   ],
   "source": [
    "out = food_data[(food_data['timestamp'] < '2019-08-01')]\n",
    "out.head()"
   ]
  },
  {
   "cell_type": "code",
   "execution_count": 28,
   "metadata": {},
   "outputs": [
    {
     "data": {
      "text/html": [
       "<div>\n",
       "<style scoped>\n",
       "    .dataframe tbody tr th:only-of-type {\n",
       "        vertical-align: middle;\n",
       "    }\n",
       "\n",
       "    .dataframe tbody tr th {\n",
       "        vertical-align: top;\n",
       "    }\n",
       "\n",
       "    .dataframe thead th {\n",
       "        text-align: right;\n",
       "    }\n",
       "</style>\n",
       "<table border=\"1\" class=\"dataframe\">\n",
       "  <thead>\n",
       "    <tr style=\"text-align: right;\">\n",
       "      <th></th>\n",
       "      <th>event_name</th>\n",
       "      <th>user_id</th>\n",
       "      <th>timestamp</th>\n",
       "      <th>experiment_id</th>\n",
       "      <th>dates</th>\n",
       "      <th>time</th>\n",
       "    </tr>\n",
       "  </thead>\n",
       "  <tbody>\n",
       "    <tr>\n",
       "      <th>2828</th>\n",
       "      <td>Tutorial</td>\n",
       "      <td>3737462046622621720</td>\n",
       "      <td>2019-08-01 00:07:28</td>\n",
       "      <td>246</td>\n",
       "      <td>2019-08-01</td>\n",
       "      <td>00:07:28</td>\n",
       "    </tr>\n",
       "    <tr>\n",
       "      <th>2829</th>\n",
       "      <td>MainScreenAppear</td>\n",
       "      <td>3737462046622621720</td>\n",
       "      <td>2019-08-01 00:08:00</td>\n",
       "      <td>246</td>\n",
       "      <td>2019-08-01</td>\n",
       "      <td>00:08:00</td>\n",
       "    </tr>\n",
       "    <tr>\n",
       "      <th>2830</th>\n",
       "      <td>MainScreenAppear</td>\n",
       "      <td>3737462046622621720</td>\n",
       "      <td>2019-08-01 00:08:55</td>\n",
       "      <td>246</td>\n",
       "      <td>2019-08-01</td>\n",
       "      <td>00:08:55</td>\n",
       "    </tr>\n",
       "    <tr>\n",
       "      <th>2831</th>\n",
       "      <td>OffersScreenAppear</td>\n",
       "      <td>3737462046622621720</td>\n",
       "      <td>2019-08-01 00:08:58</td>\n",
       "      <td>246</td>\n",
       "      <td>2019-08-01</td>\n",
       "      <td>00:08:58</td>\n",
       "    </tr>\n",
       "    <tr>\n",
       "      <th>2832</th>\n",
       "      <td>MainScreenAppear</td>\n",
       "      <td>1433840883824088890</td>\n",
       "      <td>2019-08-01 00:08:59</td>\n",
       "      <td>247</td>\n",
       "      <td>2019-08-01</td>\n",
       "      <td>00:08:59</td>\n",
       "    </tr>\n",
       "  </tbody>\n",
       "</table>\n",
       "</div>"
      ],
      "text/plain": [
       "              event_name              user_id           timestamp  \\\n",
       "2828            Tutorial  3737462046622621720 2019-08-01 00:07:28   \n",
       "2829    MainScreenAppear  3737462046622621720 2019-08-01 00:08:00   \n",
       "2830    MainScreenAppear  3737462046622621720 2019-08-01 00:08:55   \n",
       "2831  OffersScreenAppear  3737462046622621720 2019-08-01 00:08:58   \n",
       "2832    MainScreenAppear  1433840883824088890 2019-08-01 00:08:59   \n",
       "\n",
       "      experiment_id       dates      time  \n",
       "2828            246  2019-08-01  00:07:28  \n",
       "2829            246  2019-08-01  00:08:00  \n",
       "2830            246  2019-08-01  00:08:55  \n",
       "2831            246  2019-08-01  00:08:58  \n",
       "2832            247  2019-08-01  00:08:59  "
      ]
     },
     "execution_count": 28,
     "metadata": {},
     "output_type": "execute_result"
    }
   ],
   "source": [
    "food_new = food_data.loc[~((food_data['user_id'].isin(out['user_id'])))]\n",
    "food_new.head()"
   ]
  },
  {
   "cell_type": "code",
   "execution_count": 29,
   "metadata": {},
   "outputs": [
    {
     "data": {
      "text/plain": [
       "array([246, 247, 248])"
      ]
     },
     "execution_count": 29,
     "metadata": {},
     "output_type": "execute_result"
    }
   ],
   "source": [
    "food_new['experiment_id'].unique()"
   ]
  },
  {
   "cell_type": "markdown",
   "metadata": {},
   "source": [
    "After deleting the unnecessary dates we still have all 3 groups presented."
   ]
  },
  {
   "cell_type": "code",
   "execution_count": 30,
   "metadata": {},
   "outputs": [
    {
     "data": {
      "text/plain": [
       "4    2375\n",
       "1    2151\n",
       "2     846\n",
       "5     462\n",
       "3     266\n",
       "Name: event_name, dtype: int64"
      ]
     },
     "execution_count": 30,
     "metadata": {},
     "output_type": "execute_result"
    }
   ],
   "source": [
    "events_food_new = food_new.groupby(['user_id'])['event_name'].nunique().reset_index()['event_name'].value_counts()\n",
    "events_food_new "
   ]
  },
  {
   "cell_type": "markdown",
   "metadata": {},
   "source": [
    "Now the mainscreen is the top for 2151 users and  paymentscreen successful appeared for 2375 users."
   ]
  },
  {
   "cell_type": "code",
   "execution_count": 31,
   "metadata": {},
   "outputs": [
    {
     "data": {
      "text/plain": [
       "6100"
      ]
     },
     "execution_count": 31,
     "metadata": {},
     "output_type": "execute_result"
    }
   ],
   "source": [
    "users_new = food_new['user_id'].nunique()\n",
    "users_new "
   ]
  },
  {
   "cell_type": "markdown",
   "metadata": {},
   "source": [
    "There are 6100 users remaining in the new database."
   ]
  },
  {
   "cell_type": "code",
   "execution_count": 32,
   "metadata": {},
   "outputs": [
    {
     "data": {
      "text/plain": [
       "4    0.782537\n",
       "1    0.794607\n",
       "2    0.828599\n",
       "5    0.980892\n",
       "3    0.839117\n",
       "Name: event_name, dtype: float64"
      ]
     },
     "execution_count": 32,
     "metadata": {},
     "output_type": "execute_result"
    }
   ],
   "source": [
    "share_events=events_food_new /events_food\n",
    "share_events"
   ]
  },
  {
   "cell_type": "code",
   "execution_count": 33,
   "metadata": {},
   "outputs": [
    {
     "data": {
      "text/plain": [
       "0.8078400211892465"
      ]
     },
     "execution_count": 33,
     "metadata": {},
     "output_type": "execute_result"
    }
   ],
   "source": [
    "share_users=users_new / users\n",
    "share_users"
   ]
  },
  {
   "cell_type": "code",
   "execution_count": 34,
   "metadata": {},
   "outputs": [
    {
     "data": {
      "text/html": [
       "<div>\n",
       "<style scoped>\n",
       "    .dataframe tbody tr th:only-of-type {\n",
       "        vertical-align: middle;\n",
       "    }\n",
       "\n",
       "    .dataframe tbody tr th {\n",
       "        vertical-align: top;\n",
       "    }\n",
       "\n",
       "    .dataframe thead th {\n",
       "        text-align: right;\n",
       "    }\n",
       "</style>\n",
       "<table border=\"1\" class=\"dataframe\">\n",
       "  <thead>\n",
       "    <tr style=\"text-align: right;\">\n",
       "      <th></th>\n",
       "      <th>experiment_id</th>\n",
       "      <th>user_id</th>\n",
       "    </tr>\n",
       "  </thead>\n",
       "  <tbody>\n",
       "    <tr>\n",
       "      <th>0</th>\n",
       "      <td>246</td>\n",
       "      <td>2030</td>\n",
       "    </tr>\n",
       "    <tr>\n",
       "      <th>1</th>\n",
       "      <td>247</td>\n",
       "      <td>2036</td>\n",
       "    </tr>\n",
       "    <tr>\n",
       "      <th>2</th>\n",
       "      <td>248</td>\n",
       "      <td>2034</td>\n",
       "    </tr>\n",
       "  </tbody>\n",
       "</table>\n",
       "</div>"
      ],
      "text/plain": [
       "   experiment_id  user_id\n",
       "0            246     2030\n",
       "1            247     2036\n",
       "2            248     2034"
      ]
     },
     "execution_count": 34,
     "metadata": {},
     "output_type": "execute_result"
    }
   ],
   "source": [
    "food_new.groupby(['experiment_id'])['user_id'].nunique().reset_index()"
   ]
  },
  {
   "cell_type": "markdown",
   "metadata": {},
   "source": [
    "After excluding the data we still have 81% of users remaining in the new database. We have users from all 3 groups. As for events: approximately 80% of events are there in the new data base."
   ]
  },
  {
   "cell_type": "markdown",
   "metadata": {},
   "source": [
    "# STEP 4. Event funnel "
   ]
  },
  {
   "cell_type": "markdown",
   "metadata": {},
   "source": [
    "For the further investigation we need to study the events that are in the logs and their frequency of occurrence. "
   ]
  },
  {
   "cell_type": "code",
   "execution_count": 35,
   "metadata": {},
   "outputs": [
    {
     "data": {
      "text/plain": [
       "event_name\n",
       "MainScreenAppear           88913\n",
       "OffersScreenAppear         35963\n",
       "CartScreenAppear           32304\n",
       "PaymentScreenSuccessful    25748\n",
       "Tutorial                    1025\n",
       "Name: user_id, dtype: int64"
      ]
     },
     "execution_count": 35,
     "metadata": {},
     "output_type": "execute_result"
    }
   ],
   "source": [
    "food_new.groupby(['event_name'])['user_id'].count().sort_values(ascending=False)"
   ]
  },
  {
   "cell_type": "markdown",
   "metadata": {},
   "source": [
    "The most frequently we see the mainscreen appear log, the second is the offersscreen and actually the payment is on the 4th place out of 5 possible."
   ]
  },
  {
   "cell_type": "markdown",
   "metadata": {},
   "source": [
    "We are going to detect the number of users who performed each of these actions and sort the events by the number of users. "
   ]
  },
  {
   "cell_type": "code",
   "execution_count": 36,
   "metadata": {},
   "outputs": [
    {
     "data": {
      "text/plain": [
       "event_name\n",
       "MainScreenAppear           6017\n",
       "OffersScreenAppear         3739\n",
       "CartScreenAppear           3014\n",
       "PaymentScreenSuccessful    2852\n",
       "Tutorial                    829\n",
       "Name: user_id, dtype: int64"
      ]
     },
     "execution_count": 36,
     "metadata": {},
     "output_type": "execute_result"
    }
   ],
   "source": [
    "food_new.groupby(['event_name'])['user_id'].nunique().sort_values(ascending=False)"
   ]
  },
  {
   "cell_type": "markdown",
   "metadata": {},
   "source": [
    "From the table above we identified that 6017 users performed mainscreen and only 2852 payd the offer."
   ]
  },
  {
   "cell_type": "code",
   "execution_count": 37,
   "metadata": {},
   "outputs": [
    {
     "data": {
      "text/plain": [
       "event_name\n",
       "MainScreenAppear           0.986393\n",
       "OffersScreenAppear         0.612951\n",
       "CartScreenAppear           0.494098\n",
       "PaymentScreenSuccessful    0.467541\n",
       "Tutorial                   0.135902\n",
       "Name: user_id, dtype: float64"
      ]
     },
     "execution_count": 37,
     "metadata": {},
     "output_type": "execute_result"
    }
   ],
   "source": [
    "food_new.groupby(['event_name'])['user_id'].nunique().sort_values(ascending=False)/food_new['user_id'].nunique()"
   ]
  },
  {
   "cell_type": "markdown",
   "metadata": {},
   "source": [
    "The share of the users that had mainscreen is allmost 99%, the payment screen is 46% of users.\n",
    "Now we can study the sequence of events for some users."
   ]
  },
  {
   "cell_type": "code",
   "execution_count": 38,
   "metadata": {},
   "outputs": [],
   "source": [
    "sorted_data=food_new[food_new['event_name']!='Tutorial'].sort_values(by=['user_id','timestamp'])"
   ]
  },
  {
   "cell_type": "code",
   "execution_count": 39,
   "metadata": {},
   "outputs": [
    {
     "data": {
      "text/html": [
       "<div>\n",
       "<style scoped>\n",
       "    .dataframe tbody tr th:only-of-type {\n",
       "        vertical-align: middle;\n",
       "    }\n",
       "\n",
       "    .dataframe tbody tr th {\n",
       "        vertical-align: top;\n",
       "    }\n",
       "\n",
       "    .dataframe thead th {\n",
       "        text-align: right;\n",
       "    }\n",
       "</style>\n",
       "<table border=\"1\" class=\"dataframe\">\n",
       "  <thead>\n",
       "    <tr style=\"text-align: right;\">\n",
       "      <th></th>\n",
       "      <th>event_name</th>\n",
       "      <th>user_id</th>\n",
       "      <th>timestamp</th>\n",
       "      <th>experiment_id</th>\n",
       "      <th>dates</th>\n",
       "      <th>time</th>\n",
       "    </tr>\n",
       "  </thead>\n",
       "  <tbody>\n",
       "    <tr>\n",
       "      <th>15172</th>\n",
       "      <td>OffersScreenAppear</td>\n",
       "      <td>6932517045703054087</td>\n",
       "      <td>2019-08-01 10:56:52</td>\n",
       "      <td>248</td>\n",
       "      <td>2019-08-01</td>\n",
       "      <td>10:56:52</td>\n",
       "    </tr>\n",
       "    <tr>\n",
       "      <th>5672</th>\n",
       "      <td>MainScreenAppear</td>\n",
       "      <td>2988069914968447512</td>\n",
       "      <td>2019-08-01 05:37:23</td>\n",
       "      <td>246</td>\n",
       "      <td>2019-08-01</td>\n",
       "      <td>05:37:23</td>\n",
       "    </tr>\n",
       "  </tbody>\n",
       "</table>\n",
       "</div>"
      ],
      "text/plain": [
       "               event_name              user_id           timestamp  \\\n",
       "15172  OffersScreenAppear  6932517045703054087 2019-08-01 10:56:52   \n",
       "5672     MainScreenAppear  2988069914968447512 2019-08-01 05:37:23   \n",
       "\n",
       "       experiment_id       dates      time  \n",
       "15172            248  2019-08-01  10:56:52  \n",
       "5672             246  2019-08-01  05:37:23  "
      ]
     },
     "execution_count": 39,
     "metadata": {},
     "output_type": "execute_result"
    }
   ],
   "source": [
    "sorted_data.sample(2)"
   ]
  },
  {
   "cell_type": "code",
   "execution_count": 40,
   "metadata": {},
   "outputs": [],
   "source": [
    "def sequence(user):\n",
    "    sorted_user=sorted_data[sorted_data['user_id']==user].sort_values(by=['user_id','timestamp'])\n",
    "    return sorted_user['event_name'].drop_duplicates().to_list()"
   ]
  },
  {
   "cell_type": "code",
   "execution_count": 41,
   "metadata": {},
   "outputs": [
    {
     "data": {
      "text/plain": [
       "['MainScreenAppear',\n",
       " 'OffersScreenAppear',\n",
       " 'CartScreenAppear',\n",
       " 'PaymentScreenSuccessful']"
      ]
     },
     "execution_count": 41,
     "metadata": {},
     "output_type": "execute_result"
    }
   ],
   "source": [
    "sequence(7002515446915619058)"
   ]
  },
  {
   "cell_type": "code",
   "execution_count": 42,
   "metadata": {},
   "outputs": [
    {
     "data": {
      "text/plain": [
       "['MainScreenAppear',\n",
       " 'CartScreenAppear',\n",
       " 'OffersScreenAppear',\n",
       " 'PaymentScreenSuccessful']"
      ]
     },
     "execution_count": 42,
     "metadata": {},
     "output_type": "execute_result"
    }
   ],
   "source": [
    "sequence(2747519232871077339)"
   ]
  },
  {
   "cell_type": "code",
   "execution_count": null,
   "metadata": {},
   "outputs": [],
   "source": [
    "sequence_empty=[]\n",
    "for i in sorted_data.user_id.unique():\n",
    "    sequence_empty.append([i,sequence(i)])"
   ]
  },
  {
   "cell_type": "markdown",
   "metadata": {},
   "source": [
    "If we want to trace the path that the users commonly have we can built it this way."
   ]
  },
  {
   "cell_type": "code",
   "execution_count": null,
   "metadata": {},
   "outputs": [],
   "source": [
    "path_data=pd.DataFrame(sequence_empty, columns=['user','path'])\n",
    "path_data.head()"
   ]
  },
  {
   "cell_type": "code",
   "execution_count": null,
   "metadata": {},
   "outputs": [],
   "source": [
    "path_data['path'].values_count().head()"
   ]
  },
  {
   "cell_type": "markdown",
   "metadata": {},
   "source": [
    "So now we can describe the path for the users the following way:\n",
    "The most popular one is still just 'MainScreenAppear', however the next one is 'MainScreenAppear, OffersScreenAppear, CartScreenAppear, PaymentScreenSuccessful',which includes payment and the 3rd is again - 'MainScreenAppear, OffersScreenAppear' without cart or payment here."
   ]
  },
  {
   "cell_type": "markdown",
   "metadata": {},
   "source": [
    "Building the event funnel is helping us to find the share of users that proceed from each stage to the next."
   ]
  },
  {
   "cell_type": "code",
   "execution_count": null,
   "metadata": {},
   "outputs": [],
   "source": [
    "funnel=food_new.groupby(['event_name'])['user_id'].nunique().sort_values(ascending=False).reset_index()\n",
    "funnel.drop(funnel[funnel.event_name=='Tutorial'].index,inplace=True)\n",
    "funnel"
   ]
  },
  {
   "cell_type": "code",
   "execution_count": null,
   "metadata": {},
   "outputs": [],
   "source": [
    "funnel['perc']=funnel['user_id'].pct_change()\n",
    "funnel"
   ]
  },
  {
   "cell_type": "markdown",
   "metadata": {},
   "source": [
    "To illustrate the precent of loss let's take a look at the above table. We notice that 37% less users goes from mainscreen to the offers screen, 20% more we loose from the offers page to cart page and else 5% don't procced to check out."
   ]
  },
  {
   "cell_type": "code",
   "execution_count": null,
   "metadata": {},
   "outputs": [],
   "source": [
    "funnel_groups=[]\n",
    "for i in food_new['experiment_id'].unique():\n",
    "    group=food_new[food_new.experiment_id==i].groupby(['event_name','experiment_id'])['user_id'].nunique().reset_index().sort_values(by='user_id',ascending=False)\n",
    "    group.drop(group[group.event_name=='Tutorial'].index,inplace=True)\n",
    "    display(group)\n",
    "    funnel_groups.append(group)"
   ]
  },
  {
   "cell_type": "code",
   "execution_count": null,
   "metadata": {},
   "outputs": [],
   "source": [
    "funnel_groups_246_247 = funnel_groups[0].set_index('event_name').add(funnel_groups[1].set_index('event_name'), fill_value=0).reset_index()\n",
    "funnel_groups_246_247_248 = pd.concat([funnel_groups_246_247, funnel_groups[2]])\n",
    "funnel_groups_246_247_248"
   ]
  },
  {
   "cell_type": "code",
   "execution_count": null,
   "metadata": {
    "scrolled": false
   },
   "outputs": [],
   "source": [
    "funnel_groups=pd.concat(funnel_groups)\n",
    "funnel_groups"
   ]
  },
  {
   "cell_type": "code",
   "execution_count": null,
   "metadata": {},
   "outputs": [],
   "source": [
    "fig=px.funnel(funnel_groups,x='user_id',y='event_name',color='experiment_id', width=800, height=500)\n",
    "fig.update_layout(\n",
    "    title=\"Event funnel for experimental groupse\",\n",
    "    xaxis_title=\"user_id\",\n",
    "    yaxis_title=\"event_name\",\n",
    "    legend_title=\"experiment_id\")\n",
    "fig.show()"
   ]
  },
  {
   "cell_type": "code",
   "execution_count": null,
   "metadata": {},
   "outputs": [],
   "source": [
    "for group in [246, 247, 248]:\n",
    "    new_df = funnel_groups[funnel_groups['experiment_id'] == group]\n",
    "    print(f\"share group {group} = {new_df.at[3, 'user_id'] / new_df.at[1, 'user_id']}\")\n",
    "    \n",
    "    "
   ]
  },
  {
   "cell_type": "markdown",
   "metadata": {},
   "source": [
    "Studying the share of users that make the entire journey from their first event to payment - we have the result of 47% fow every group."
   ]
  },
  {
   "cell_type": "markdown",
   "metadata": {},
   "source": [
    "# Step 5. The results of the experiment\n",
    "1. The quantity of users in new database"
   ]
  },
  {
   "cell_type": "code",
   "execution_count": null,
   "metadata": {},
   "outputs": [],
   "source": [
    "food_1 = food_new.groupby(['experiment_id'])['user_id'].nunique()\n",
    "food_1"
   ]
  },
  {
   "cell_type": "markdown",
   "metadata": {},
   "source": [
    "We see that there are approximately 2000 users in every group. There is no difference between groups, so we can declare that they splited equally and normal within 3 groups."
   ]
  },
  {
   "cell_type": "code",
   "execution_count": null,
   "metadata": {},
   "outputs": [],
   "source": [
    "food_new.groupby(['user_id'])['experiment_id'].nunique().reset_index().query('experiment_id>1')"
   ]
  },
  {
   "cell_type": "markdown",
   "metadata": {},
   "source": [
    "There are no users that are presented in 2 groups the same time."
   ]
  },
  {
   "cell_type": "code",
   "execution_count": null,
   "metadata": {},
   "outputs": [],
   "source": [
    "test_1=food_new[food_new.experiment_id==246]['user_id'].unique()\n",
    "test_2=food_new[food_new.experiment_id==247]['user_id'].unique()\n",
    "test_3=food_new[food_new.experiment_id==248]['user_id'].unique()"
   ]
  },
  {
   "cell_type": "code",
   "execution_count": null,
   "metadata": {},
   "outputs": [],
   "source": [
    "pivot=food_new.pivot_table(index='event_name',columns='experiment_id', values='user_id', aggfunc=lambda x:x.nunique()).reset_index()"
   ]
  },
  {
   "cell_type": "code",
   "execution_count": null,
   "metadata": {},
   "outputs": [],
   "source": [
    "pivot"
   ]
  },
  {
   "cell_type": "code",
   "execution_count": null,
   "metadata": {},
   "outputs": [],
   "source": [
    "pivot_2=funnel_groups_246_247_248.pivot_table(index='event_name',columns='experiment_id', values='user_id').reset_index(\n",
    ")"
   ]
  },
  {
   "cell_type": "code",
   "execution_count": null,
   "metadata": {},
   "outputs": [],
   "source": [
    "pivot_2"
   ]
  },
  {
   "cell_type": "markdown",
   "metadata": {},
   "source": [
    "Checking the hypothesis:\n",
    "\n",
    "Null Hypothesis : There is no difference between 2 groups\n",
    "Alternative Hypothesis: There is difference between 2 groups"
   ]
  },
  {
   "cell_type": "code",
   "execution_count": null,
   "metadata": {},
   "outputs": [],
   "source": [
    "def check_hypothesis(group1,group2,event,alpha=0.05):\n",
    "    success1=pivot[pivot.event_name==event][group1].iloc[0]\n",
    "    success2=pivot[pivot.event_name==event][group2].iloc[0]\n",
    "    \n",
    "    trials1=food_new[food_new.experiment_id==group1]['user_id'].nunique()\n",
    "    trials2=food_new[food_new.experiment_id==group2]['user_id'].nunique()\n",
    "    \n",
    "    p1=success1/trials1\n",
    "    p2=success2/trials2\n",
    "    \n",
    "    p_combined = (success1+success2) / (trials1+trials2)\n",
    "    \n",
    "    difference=p1-p2\n",
    "    \n",
    "    z_value = difference/ mth.sqrt(p_combined *(1-p_combined) * (1/trials1 + 1/trials2))\n",
    "    \n",
    "    distr = st.norm(0,1)\n",
    "\n",
    "    p_value = (1-distr.cdf(abs(z_value))) *2\n",
    "    print('p_value', p_value)\n",
    "\n",
    "    if(p_value < alpha):\n",
    "        print(\"Rejecting the null hypothesis for\", event, 'in groups', group1, group2)\n",
    "    else:\n",
    "        print(\"Failed to reject the null hypothesis for\", event, 'in groups', group1, group2)"
   ]
  },
  {
   "cell_type": "code",
   "execution_count": null,
   "metadata": {},
   "outputs": [],
   "source": [
    "trials1=food_new[food_new.experiment_id==246]['user_id'].nunique()\n",
    "trials1"
   ]
  },
  {
   "cell_type": "code",
   "execution_count": null,
   "metadata": {},
   "outputs": [],
   "source": [
    "trials2=food_new[food_new.experiment_id==247]['user_id'].nunique()\n",
    "trials2"
   ]
  },
  {
   "cell_type": "code",
   "execution_count": null,
   "metadata": {},
   "outputs": [],
   "source": [
    "trials1_2=trials1+trials2\n",
    "trials1_2"
   ]
  },
  {
   "cell_type": "code",
   "execution_count": null,
   "metadata": {},
   "outputs": [],
   "source": [
    "trials3=food_new[food_new.experiment_id==248]['user_id'].nunique()\n",
    "trials3"
   ]
  },
  {
   "cell_type": "markdown",
   "metadata": {},
   "source": [
    "Selecting the most popular event. In each of the control groups, we should find the number of users who performed this action, to find their share, to check whether the difference between the groups is statistically significant, then  repeat the procedure for all other events \n",
    "As we already checked the most popular event is Mainscreenappear. Let's check the hypothesis within 246 and 247 groups for that event."
   ]
  },
  {
   "cell_type": "code",
   "execution_count": null,
   "metadata": {},
   "outputs": [],
   "source": [
    "check_hypothesis(246,247, 'MainScreenAppear', alpha=0.05)"
   ]
  },
  {
   "cell_type": "markdown",
   "metadata": {},
   "source": [
    "We can conclude that that the 2 groups are equally devided with the same proportions. Now we are able to check the same hypothesis for other groups and events."
   ]
  },
  {
   "cell_type": "code",
   "execution_count": null,
   "metadata": {},
   "outputs": [],
   "source": [
    "for i in pivot.event_name.unique():\n",
    "    check_hypothesis(246,247,i,alpha=0.05)"
   ]
  },
  {
   "cell_type": "markdown",
   "metadata": {},
   "source": [
    "The groups were split correctly."
   ]
  },
  {
   "cell_type": "code",
   "execution_count": null,
   "metadata": {},
   "outputs": [],
   "source": [
    "for i in pivot.event_name.unique():\n",
    "    check_hypothesis(246,248,i,alpha=0.05)"
   ]
  },
  {
   "cell_type": "code",
   "execution_count": null,
   "metadata": {},
   "outputs": [],
   "source": [
    "for i in pivot.event_name.unique():\n",
    "    check_hypothesis(247,248,i,alpha=0.05)"
   ]
  },
  {
   "cell_type": "code",
   "execution_count": null,
   "metadata": {},
   "outputs": [],
   "source": [
    "def check_hypothesis_new(df,group1,group2,event,alpha=0.05):\n",
    "    success1=df.query('experiment_id == @group1 and event_name == @event').user_id.nunique()\n",
    "    success2=df.query('experiment_id == @group2 and event_name == @event').user_id.nunique()\n",
    "    \n",
    "    trials1=df.query('experiment_id == @group1').user_id.nunique()\n",
    "    trials2=df.query('experiment_id == @group2').user_id.nunique()\n",
    "\n",
    "    p1 = success1/trials1\n",
    "    p2 = success2/trials2\n",
    "    \n",
    "    p_combined = (success1+success2) / (trials1+trials2)\n",
    "    \n",
    "    difference = p1-p2\n",
    "    \n",
    "    z_value = difference/ mth.sqrt(p_combined *(1-p_combined) * (1/trials1_2 + 1/trials3))\n",
    "    \n",
    "    distr = st.norm(0,1)\n",
    "\n",
    "    p_value = (1-distr.cdf(abs(z_value))) *2\n",
    "    print('p_value', p_value)\n",
    "\n",
    "    if(p_value < alpha):\n",
    "        print(\"Rejecting the null hypothesis for\", event, 'in groups', group1, group2)\n",
    "    else:\n",
    "        print(\"Failed to reject the null hypothesis for\", event, 'in groups', group1, group2)\n",
    "        \n",
    "for i in pivot_2.event_name.unique():\n",
    "    check_hypothesis_new(food_new,[246,247],248,i,alpha=0.05)    "
   ]
  },
  {
   "cell_type": "markdown",
   "metadata": {},
   "source": [
    "As we are making a proportion tests several times, we checked the equalty of groups devided, we checked all the proportions by events by groups seperately with each other, the 246 and the 248 group, the 247 and the 248 group, both 246 and 247 to 248 group, the results were the same and they are not changing as we have no need to make the Bonferroni correction to decrease the type 1 error in our test, because when we decrease the type 1 error we increase the number of type II errors."
   ]
  },
  {
   "cell_type": "markdown",
   "metadata": {},
   "source": [
    "# Conclusion"
   ]
  },
  {
   "cell_type": "markdown",
   "metadata": {},
   "source": [
    "We made an analysis for a food selling company. The data base had the information since 25 of July till 07 August, it contained 3 groups of users that were on the experiment. As we moved on we figured out that the data before 1st of August is incomplete, so we decided to study only the data from August. There were no missing values, also no users were on the 2 groups at the same time, but we had a lot of duplicated rows for whole number of events and groups. \n",
    "Analysing the users behaviour it became clear that the most popular event that occured was mainscreenappear and only 13% converted and made the whole path from mainscreen to payment. \n",
    "Analysing the proportions that we had for the events and groups seperately there were no difference between proportions for all the events and groups and there was a difference when we united 246 and 247 groups and compared it to 248. "
   ]
  }
 ],
 "metadata": {
  "ExecuteTimeLog": [
   {
    "duration": 5,
    "start_time": "2022-02-16T15:39:45.269Z"
   },
   {
    "duration": 10506,
    "start_time": "2022-02-16T15:39:45.781Z"
   },
   {
    "duration": 27766,
    "start_time": "2022-02-16T15:39:56.290Z"
   },
   {
    "duration": 4989,
    "start_time": "2022-02-16T15:40:24.059Z"
   },
   {
    "duration": 2765,
    "start_time": "2022-02-16T15:40:29.052Z"
   },
   {
    "duration": 364,
    "start_time": "2022-02-16T15:40:31.820Z"
   },
   {
    "duration": 24,
    "start_time": "2022-02-16T15:41:02.175Z"
   },
   {
    "duration": 353,
    "start_time": "2022-02-16T15:42:29.529Z"
   },
   {
    "duration": 18,
    "start_time": "2022-02-16T15:42:30.508Z"
   },
   {
    "duration": 84,
    "start_time": "2022-02-16T15:42:57.101Z"
   },
   {
    "duration": 18,
    "start_time": "2022-02-16T15:42:57.775Z"
   },
   {
    "duration": 99,
    "start_time": "2022-02-16T15:43:17.942Z"
   },
   {
    "duration": 16,
    "start_time": "2022-02-16T15:43:18.767Z"
   },
   {
    "duration": 191,
    "start_time": "2022-02-16T15:46:14.480Z"
   },
   {
    "duration": 17,
    "start_time": "2022-02-16T15:46:15.655Z"
   },
   {
    "duration": 19,
    "start_time": "2022-02-16T15:46:33.802Z"
   },
   {
    "duration": 23,
    "start_time": "2022-02-16T15:47:13.995Z"
   },
   {
    "duration": 43,
    "start_time": "2022-02-16T15:47:26.314Z"
   },
   {
    "duration": 15,
    "start_time": "2022-02-16T15:48:38.915Z"
   },
   {
    "duration": 506,
    "start_time": "2022-02-16T15:48:39.744Z"
   },
   {
    "duration": 49,
    "start_time": "2022-02-16T15:49:14.534Z"
   },
   {
    "duration": 11,
    "start_time": "2022-02-16T15:49:27.300Z"
   },
   {
    "duration": 109,
    "start_time": "2022-02-16T15:49:43.462Z"
   },
   {
    "duration": 15,
    "start_time": "2022-02-16T16:09:55.424Z"
   },
   {
    "duration": 7,
    "start_time": "2022-02-16T16:09:55.920Z"
   },
   {
    "duration": 11,
    "start_time": "2022-02-16T16:09:56.716Z"
   },
   {
    "duration": 2468,
    "start_time": "2022-02-16T16:12:57.023Z"
   },
   {
    "duration": -255,
    "start_time": "2022-02-16T16:12:59.749Z"
   },
   {
    "duration": 4,
    "start_time": "2022-02-16T16:15:09.434Z"
   },
   {
    "duration": 159,
    "start_time": "2022-02-16T16:15:09.873Z"
   },
   {
    "duration": 17,
    "start_time": "2022-02-16T16:15:10.219Z"
   },
   {
    "duration": 23,
    "start_time": "2022-02-16T16:15:10.458Z"
   },
   {
    "duration": 81,
    "start_time": "2022-02-16T16:15:10.612Z"
   },
   {
    "duration": 16,
    "start_time": "2022-02-16T16:15:10.819Z"
   },
   {
    "duration": 228,
    "start_time": "2022-02-16T16:15:10.979Z"
   },
   {
    "duration": 11,
    "start_time": "2022-02-16T16:15:11.210Z"
   },
   {
    "duration": 322,
    "start_time": "2022-02-18T07:02:21.322Z"
   },
   {
    "duration": 5,
    "start_time": "2022-02-18T07:02:28.819Z"
   },
   {
    "duration": 10368,
    "start_time": "2022-02-18T07:02:28.828Z"
   },
   {
    "duration": 21805,
    "start_time": "2022-02-18T07:02:39.200Z"
   },
   {
    "duration": 4142,
    "start_time": "2022-02-18T07:03:01.008Z"
   },
   {
    "duration": 2564,
    "start_time": "2022-02-18T07:03:05.152Z"
   },
   {
    "duration": 192,
    "start_time": "2022-02-18T07:03:07.718Z"
   },
   {
    "duration": 28,
    "start_time": "2022-02-18T07:03:07.912Z"
   },
   {
    "duration": 27,
    "start_time": "2022-02-18T07:03:07.943Z"
   },
   {
    "duration": 102,
    "start_time": "2022-02-18T07:03:07.974Z"
   },
   {
    "duration": 17,
    "start_time": "2022-02-18T07:03:08.078Z"
   },
   {
    "duration": 270,
    "start_time": "2022-02-18T07:03:08.098Z"
   },
   {
    "duration": 22,
    "start_time": "2022-02-18T07:03:16.804Z"
   },
   {
    "duration": 113,
    "start_time": "2022-02-18T07:07:49.914Z"
   },
   {
    "duration": 111,
    "start_time": "2022-02-18T07:08:11.664Z"
   },
   {
    "duration": 80,
    "start_time": "2022-02-18T07:10:51.265Z"
   },
   {
    "duration": 91,
    "start_time": "2022-02-18T07:11:40.105Z"
   },
   {
    "duration": 412,
    "start_time": "2022-02-18T07:15:34.126Z"
   },
   {
    "duration": 94,
    "start_time": "2022-02-18T07:17:24.183Z"
   },
   {
    "duration": 9,
    "start_time": "2022-02-18T07:20:08.156Z"
   },
   {
    "duration": 23,
    "start_time": "2022-02-18T07:21:10.225Z"
   },
   {
    "duration": 25,
    "start_time": "2022-02-18T07:21:35.735Z"
   },
   {
    "duration": 223,
    "start_time": "2022-02-18T07:25:07.114Z"
   },
   {
    "duration": 220,
    "start_time": "2022-02-18T07:26:41.984Z"
   },
   {
    "duration": 461,
    "start_time": "2022-02-18T07:35:02.193Z"
   },
   {
    "duration": 488,
    "start_time": "2022-02-18T07:35:02.657Z"
   },
   {
    "duration": 11148,
    "start_time": "2022-02-18T07:35:03.148Z"
   },
   {
    "duration": 8,
    "start_time": "2022-02-18T07:35:44.909Z"
   },
   {
    "duration": 8,
    "start_time": "2022-02-18T07:35:56.188Z"
   },
   {
    "duration": 11044,
    "start_time": "2022-02-18T07:36:16.770Z"
   },
   {
    "duration": 5,
    "start_time": "2022-02-18T07:37:09.275Z"
   },
   {
    "duration": 156,
    "start_time": "2022-02-18T07:37:10.358Z"
   },
   {
    "duration": 20,
    "start_time": "2022-02-18T07:37:10.568Z"
   },
   {
    "duration": 21,
    "start_time": "2022-02-18T07:37:10.938Z"
   },
   {
    "duration": 13,
    "start_time": "2022-02-18T07:37:11.203Z"
   },
   {
    "duration": 233,
    "start_time": "2022-02-18T07:37:11.398Z"
   },
   {
    "duration": 20,
    "start_time": "2022-02-18T07:37:11.634Z"
   },
   {
    "duration": 101,
    "start_time": "2022-02-18T07:37:11.848Z"
   },
   {
    "duration": 67,
    "start_time": "2022-02-18T07:37:11.997Z"
   },
   {
    "duration": 84,
    "start_time": "2022-02-18T07:37:12.208Z"
   },
   {
    "duration": 342,
    "start_time": "2022-02-18T07:37:12.539Z"
   },
   {
    "duration": 80,
    "start_time": "2022-02-18T07:37:12.884Z"
   },
   {
    "duration": 20,
    "start_time": "2022-02-18T07:37:13.428Z"
   },
   {
    "duration": 8,
    "start_time": "2022-02-18T07:37:13.698Z"
   },
   {
    "duration": 24,
    "start_time": "2022-02-18T07:37:14.607Z"
   },
   {
    "duration": 234,
    "start_time": "2022-02-18T07:37:14.924Z"
   },
   {
    "duration": 221,
    "start_time": "2022-02-18T07:37:15.483Z"
   },
   {
    "duration": 11126,
    "start_time": "2022-02-18T07:37:17.524Z"
   },
   {
    "duration": 11,
    "start_time": "2022-02-18T07:37:28.654Z"
   },
   {
    "duration": 58,
    "start_time": "2022-02-18T07:37:28.668Z"
   },
   {
    "duration": 430,
    "start_time": "2022-02-18T12:50:15.689Z"
   },
   {
    "duration": 3,
    "start_time": "2022-02-18T12:50:22.462Z"
   },
   {
    "duration": 6580,
    "start_time": "2022-02-18T12:50:22.468Z"
   },
   {
    "duration": 18257,
    "start_time": "2022-02-18T12:50:29.050Z"
   },
   {
    "duration": 2754,
    "start_time": "2022-02-18T12:50:47.309Z"
   },
   {
    "duration": 1620,
    "start_time": "2022-02-18T12:50:50.065Z"
   },
   {
    "duration": 113,
    "start_time": "2022-02-18T12:50:51.686Z"
   },
   {
    "duration": 15,
    "start_time": "2022-02-18T12:50:51.801Z"
   },
   {
    "duration": 24,
    "start_time": "2022-02-18T12:50:51.818Z"
   },
   {
    "duration": 11,
    "start_time": "2022-02-18T12:50:51.844Z"
   },
   {
    "duration": 157,
    "start_time": "2022-02-18T12:50:51.857Z"
   },
   {
    "duration": 18,
    "start_time": "2022-02-18T12:50:52.015Z"
   },
   {
    "duration": 70,
    "start_time": "2022-02-18T12:50:52.035Z"
   },
   {
    "duration": 62,
    "start_time": "2022-02-18T12:50:52.107Z"
   },
   {
    "duration": 52,
    "start_time": "2022-02-18T12:50:52.171Z"
   },
   {
    "duration": 219,
    "start_time": "2022-02-18T12:50:52.232Z"
   },
   {
    "duration": 46,
    "start_time": "2022-02-18T12:50:52.453Z"
   },
   {
    "duration": 14,
    "start_time": "2022-02-18T12:50:52.500Z"
   },
   {
    "duration": 6,
    "start_time": "2022-02-18T12:50:52.531Z"
   },
   {
    "duration": 21,
    "start_time": "2022-02-18T12:50:52.538Z"
   },
   {
    "duration": 145,
    "start_time": "2022-02-18T12:50:52.561Z"
   },
   {
    "duration": 139,
    "start_time": "2022-02-18T12:50:52.707Z"
   },
   {
    "duration": 6538,
    "start_time": "2022-02-18T12:50:52.847Z"
   },
   {
    "duration": 7,
    "start_time": "2022-02-18T12:50:59.390Z"
   },
   {
    "duration": 100,
    "start_time": "2022-02-18T12:50:59.398Z"
   },
   {
    "duration": 365,
    "start_time": "2022-02-18T12:55:59.746Z"
   },
   {
    "duration": 1297,
    "start_time": "2022-02-18T12:56:14.800Z"
   },
   {
    "duration": 492,
    "start_time": "2022-02-18T12:56:27.895Z"
   },
   {
    "duration": 428,
    "start_time": "2022-02-18T12:56:40.642Z"
   },
   {
    "duration": 505,
    "start_time": "2022-02-18T13:02:22.520Z"
   },
   {
    "duration": 357,
    "start_time": "2022-02-18T13:06:06.983Z"
   },
   {
    "duration": 405,
    "start_time": "2022-02-18T13:07:29.473Z"
   },
   {
    "duration": 765,
    "start_time": "2022-02-18T13:09:55.639Z"
   },
   {
    "duration": 711,
    "start_time": "2022-02-18T13:10:04.977Z"
   },
   {
    "duration": 535,
    "start_time": "2022-02-18T13:10:24.137Z"
   },
   {
    "duration": 577,
    "start_time": "2022-02-18T13:10:31.655Z"
   },
   {
    "duration": 510,
    "start_time": "2022-02-18T13:12:19.898Z"
   },
   {
    "duration": 473,
    "start_time": "2022-02-18T13:15:14.744Z"
   },
   {
    "duration": 466,
    "start_time": "2022-02-18T13:15:33.388Z"
   },
   {
    "duration": 433,
    "start_time": "2022-02-18T13:22:05.771Z"
   },
   {
    "duration": 156,
    "start_time": "2022-02-18T13:46:30.384Z"
   },
   {
    "duration": 101,
    "start_time": "2022-02-18T13:46:37.074Z"
   },
   {
    "duration": 2306,
    "start_time": "2022-02-18T13:46:52.201Z"
   },
   {
    "duration": 2191,
    "start_time": "2022-02-18T13:47:18.578Z"
   },
   {
    "duration": 2393,
    "start_time": "2022-02-18T13:47:34.718Z"
   },
   {
    "duration": 124,
    "start_time": "2022-02-18T13:57:28.005Z"
   },
   {
    "duration": 9,
    "start_time": "2022-02-18T13:57:39.547Z"
   },
   {
    "duration": 304,
    "start_time": "2022-02-18T13:58:13.065Z"
   },
   {
    "duration": 383,
    "start_time": "2022-02-18T13:58:21.783Z"
   },
   {
    "duration": 2453,
    "start_time": "2022-02-18T13:58:30.699Z"
   },
   {
    "duration": 462,
    "start_time": "2022-02-18T13:59:04.131Z"
   },
   {
    "duration": 8001,
    "start_time": "2022-02-18T13:59:18.156Z"
   },
   {
    "duration": 7605,
    "start_time": "2022-02-18T13:59:29.592Z"
   },
   {
    "duration": 1182,
    "start_time": "2022-02-18T13:59:49.831Z"
   },
   {
    "duration": 2148,
    "start_time": "2022-02-18T14:05:39.772Z"
   },
   {
    "duration": 386,
    "start_time": "2022-02-18T14:05:53.800Z"
   },
   {
    "duration": 389,
    "start_time": "2022-02-18T14:06:43.638Z"
   },
   {
    "duration": 352,
    "start_time": "2022-02-18T14:06:58.456Z"
   },
   {
    "duration": 1259,
    "start_time": "2022-02-18T14:09:09.157Z"
   },
   {
    "duration": 23,
    "start_time": "2022-02-18T14:09:32.927Z"
   },
   {
    "duration": 15,
    "start_time": "2022-02-18T14:09:42.896Z"
   },
   {
    "duration": 308,
    "start_time": "2022-02-18T14:11:01.019Z"
   },
   {
    "duration": 15,
    "start_time": "2022-02-18T14:11:04.569Z"
   },
   {
    "duration": 8,
    "start_time": "2022-02-18T14:11:05.379Z"
   },
   {
    "duration": 292,
    "start_time": "2022-02-18T14:11:49.221Z"
   },
   {
    "duration": 347,
    "start_time": "2022-02-18T14:12:02.801Z"
   },
   {
    "duration": 323,
    "start_time": "2022-02-18T14:12:13.527Z"
   },
   {
    "duration": 321,
    "start_time": "2022-02-18T14:12:50.193Z"
   },
   {
    "duration": 309,
    "start_time": "2022-02-18T14:12:58.371Z"
   },
   {
    "duration": 10,
    "start_time": "2022-02-18T14:13:11.843Z"
   },
   {
    "duration": 5,
    "start_time": "2022-02-18T14:15:03.953Z"
   },
   {
    "duration": 12,
    "start_time": "2022-02-18T14:16:24.149Z"
   },
   {
    "duration": 363,
    "start_time": "2022-02-19T08:21:23.061Z"
   },
   {
    "duration": 497,
    "start_time": "2022-02-19T08:21:37.961Z"
   },
   {
    "duration": 11,
    "start_time": "2022-02-19T08:21:49.371Z"
   },
   {
    "duration": 374,
    "start_time": "2022-02-19T08:30:08.977Z"
   },
   {
    "duration": 9,
    "start_time": "2022-02-19T08:36:33.149Z"
   },
   {
    "duration": 14,
    "start_time": "2022-02-19T08:37:11.534Z"
   },
   {
    "duration": 13,
    "start_time": "2022-02-19T08:37:30.687Z"
   },
   {
    "duration": 18,
    "start_time": "2022-02-19T08:40:00.501Z"
   },
   {
    "duration": 35,
    "start_time": "2022-02-19T08:40:06.712Z"
   },
   {
    "duration": 358,
    "start_time": "2022-02-19T08:40:43.119Z"
   },
   {
    "duration": 30,
    "start_time": "2022-02-19T08:40:56.333Z"
   },
   {
    "duration": 9,
    "start_time": "2022-02-19T08:42:20.295Z"
   },
   {
    "duration": 12,
    "start_time": "2022-02-19T08:42:29.647Z"
   },
   {
    "duration": 31,
    "start_time": "2022-02-19T08:42:42.993Z"
   },
   {
    "duration": 307,
    "start_time": "2022-02-19T08:42:50.308Z"
   },
   {
    "duration": 49,
    "start_time": "2022-02-19T08:43:06.677Z"
   },
   {
    "duration": 343,
    "start_time": "2022-02-19T08:43:53.536Z"
   },
   {
    "duration": 4,
    "start_time": "2022-02-19T08:44:10.924Z"
   },
   {
    "duration": 6,
    "start_time": "2022-02-19T08:44:19.750Z"
   },
   {
    "duration": 306,
    "start_time": "2022-02-19T08:44:59.463Z"
   },
   {
    "duration": 5,
    "start_time": "2022-02-19T08:45:40.731Z"
   },
   {
    "duration": 10,
    "start_time": "2022-02-19T08:45:51.005Z"
   },
   {
    "duration": 91,
    "start_time": "2022-02-19T09:05:03.755Z"
   },
   {
    "duration": 110,
    "start_time": "2022-02-19T09:05:33.878Z"
   },
   {
    "duration": 105,
    "start_time": "2022-02-19T09:05:44.586Z"
   },
   {
    "duration": 114,
    "start_time": "2022-02-19T09:05:57.782Z"
   },
   {
    "duration": 97,
    "start_time": "2022-02-19T09:06:05.856Z"
   },
   {
    "duration": 105,
    "start_time": "2022-02-19T09:06:13.030Z"
   },
   {
    "duration": 359,
    "start_time": "2022-02-19T09:06:27.500Z"
   },
   {
    "duration": 29,
    "start_time": "2022-02-19T09:06:36.084Z"
   },
   {
    "duration": 345,
    "start_time": "2022-02-19T09:08:37.692Z"
   },
   {
    "duration": 20,
    "start_time": "2022-02-19T09:08:51.540Z"
   },
   {
    "duration": 32,
    "start_time": "2022-02-19T09:08:59.214Z"
   },
   {
    "duration": 1250,
    "start_time": "2022-02-19T09:09:14.778Z"
   },
   {
    "duration": 25,
    "start_time": "2022-02-19T09:09:38.668Z"
   },
   {
    "duration": 27,
    "start_time": "2022-02-19T09:10:19.596Z"
   },
   {
    "duration": 5,
    "start_time": "2022-02-19T09:11:46.818Z"
   },
   {
    "duration": 23,
    "start_time": "2022-02-19T09:13:03.571Z"
   },
   {
    "duration": 24,
    "start_time": "2022-02-19T09:13:27.041Z"
   },
   {
    "duration": 109,
    "start_time": "2022-02-19T09:13:41.047Z"
   },
   {
    "duration": 5,
    "start_time": "2022-02-19T09:14:25.261Z"
   },
   {
    "duration": 361,
    "start_time": "2022-02-19T09:22:34.314Z"
   },
   {
    "duration": 15,
    "start_time": "2022-02-19T09:22:50.186Z"
   },
   {
    "duration": 34,
    "start_time": "2022-02-19T09:24:30.408Z"
   },
   {
    "duration": 34,
    "start_time": "2022-02-19T09:25:54.288Z"
   },
   {
    "duration": 87,
    "start_time": "2022-02-19T09:49:12.058Z"
   },
   {
    "duration": 12,
    "start_time": "2022-02-19T09:49:12.552Z"
   },
   {
    "duration": 3,
    "start_time": "2022-02-19T09:52:30.993Z"
   },
   {
    "duration": 8,
    "start_time": "2022-02-19T09:52:47.290Z"
   },
   {
    "duration": 13,
    "start_time": "2022-02-19T09:53:41.976Z"
   },
   {
    "duration": 7,
    "start_time": "2022-02-19T09:54:01.525Z"
   },
   {
    "duration": 311,
    "start_time": "2022-02-19T09:56:21.649Z"
   },
   {
    "duration": 15663,
    "start_time": "2022-02-19T09:56:26.593Z"
   },
   {
    "duration": 310,
    "start_time": "2022-02-19T09:56:42.257Z"
   },
   {
    "duration": 13,
    "start_time": "2022-02-19T09:57:02.300Z"
   },
   {
    "duration": 19,
    "start_time": "2022-02-19T09:58:10.238Z"
   },
   {
    "duration": 4,
    "start_time": "2022-02-19T17:26:06.201Z"
   },
   {
    "duration": 6312,
    "start_time": "2022-02-19T17:26:06.207Z"
   },
   {
    "duration": 13854,
    "start_time": "2022-02-19T17:26:12.522Z"
   },
   {
    "duration": 3682,
    "start_time": "2022-02-19T17:26:26.379Z"
   },
   {
    "duration": 2211,
    "start_time": "2022-02-19T17:26:30.063Z"
   },
   {
    "duration": 199,
    "start_time": "2022-02-19T17:26:32.277Z"
   },
   {
    "duration": 25,
    "start_time": "2022-02-19T17:26:32.478Z"
   },
   {
    "duration": 34,
    "start_time": "2022-02-19T17:26:32.507Z"
   },
   {
    "duration": 16,
    "start_time": "2022-02-19T17:26:32.544Z"
   },
   {
    "duration": 304,
    "start_time": "2022-02-19T17:26:32.562Z"
   },
   {
    "duration": 23,
    "start_time": "2022-02-19T17:26:32.868Z"
   },
   {
    "duration": 126,
    "start_time": "2022-02-19T17:26:32.893Z"
   },
   {
    "duration": 55,
    "start_time": "2022-02-19T17:26:33.021Z"
   },
   {
    "duration": 77,
    "start_time": "2022-02-19T17:26:33.077Z"
   },
   {
    "duration": 276,
    "start_time": "2022-02-19T17:26:33.156Z"
   },
   {
    "duration": 55,
    "start_time": "2022-02-19T17:26:33.434Z"
   },
   {
    "duration": 175,
    "start_time": "2022-02-19T17:26:33.491Z"
   },
   {
    "duration": 18,
    "start_time": "2022-02-19T17:26:33.668Z"
   },
   {
    "duration": 7,
    "start_time": "2022-02-19T17:26:33.688Z"
   },
   {
    "duration": 56,
    "start_time": "2022-02-19T17:26:33.697Z"
   },
   {
    "duration": 179,
    "start_time": "2022-02-19T17:26:33.755Z"
   },
   {
    "duration": 168,
    "start_time": "2022-02-19T17:26:33.936Z"
   },
   {
    "duration": 653,
    "start_time": "2022-02-19T17:26:34.108Z"
   },
   {
    "duration": 6,
    "start_time": "2022-02-19T17:26:34.763Z"
   },
   {
    "duration": 8,
    "start_time": "2022-02-19T17:26:34.771Z"
   },
   {
    "duration": 42,
    "start_time": "2022-02-19T17:26:34.781Z"
   },
   {
    "duration": 26,
    "start_time": "2022-02-19T17:26:34.825Z"
   },
   {
    "duration": 4,
    "start_time": "2022-02-19T17:26:34.853Z"
   },
   {
    "duration": 153,
    "start_time": "2022-02-19T17:26:34.859Z"
   },
   {
    "duration": 6,
    "start_time": "2022-02-19T17:26:35.014Z"
   },
   {
    "duration": 20,
    "start_time": "2022-02-19T17:26:35.022Z"
   },
   {
    "duration": 39,
    "start_time": "2022-02-19T17:26:35.043Z"
   },
   {
    "duration": 73,
    "start_time": "2022-02-19T17:26:35.083Z"
   },
   {
    "duration": 167,
    "start_time": "2022-02-19T17:26:35.158Z"
   },
   {
    "duration": 18,
    "start_time": "2022-02-19T17:26:35.328Z"
   },
   {
    "duration": 10,
    "start_time": "2022-02-19T17:26:35.348Z"
   },
   {
    "duration": 13,
    "start_time": "2022-02-19T17:26:35.360Z"
   },
   {
    "duration": 9,
    "start_time": "2022-02-19T17:26:35.375Z"
   },
   {
    "duration": 17261,
    "start_time": "2022-02-19T17:26:35.386Z"
   },
   {
    "duration": 16,
    "start_time": "2022-02-19T17:26:52.649Z"
   },
   {
    "duration": 1191,
    "start_time": "2022-02-19T17:26:52.667Z"
   },
   {
    "duration": 4,
    "start_time": "2022-02-19T17:35:50.378Z"
   },
   {
    "duration": 4,
    "start_time": "2022-02-19T17:35:56.723Z"
   },
   {
    "duration": 3011,
    "start_time": "2022-02-19T17:35:56.729Z"
   },
   {
    "duration": 2917,
    "start_time": "2022-02-19T17:35:59.743Z"
   },
   {
    "duration": 2721,
    "start_time": "2022-02-19T17:36:02.663Z"
   },
   {
    "duration": 2352,
    "start_time": "2022-02-19T17:36:05.387Z"
   },
   {
    "duration": 190,
    "start_time": "2022-02-19T17:36:07.741Z"
   },
   {
    "duration": 24,
    "start_time": "2022-02-19T17:36:07.934Z"
   },
   {
    "duration": 26,
    "start_time": "2022-02-19T17:36:07.961Z"
   },
   {
    "duration": 38,
    "start_time": "2022-02-19T17:36:07.989Z"
   },
   {
    "duration": 292,
    "start_time": "2022-02-19T17:36:08.029Z"
   },
   {
    "duration": 24,
    "start_time": "2022-02-19T17:36:08.323Z"
   },
   {
    "duration": 139,
    "start_time": "2022-02-19T17:36:08.349Z"
   },
   {
    "duration": 84,
    "start_time": "2022-02-19T17:36:08.491Z"
   },
   {
    "duration": 69,
    "start_time": "2022-02-19T17:36:08.578Z"
   },
   {
    "duration": 260,
    "start_time": "2022-02-19T17:36:08.649Z"
   },
   {
    "duration": 58,
    "start_time": "2022-02-19T17:36:08.911Z"
   },
   {
    "duration": 164,
    "start_time": "2022-02-19T17:36:08.971Z"
   },
   {
    "duration": 16,
    "start_time": "2022-02-19T17:36:09.137Z"
   },
   {
    "duration": 6,
    "start_time": "2022-02-19T17:36:09.157Z"
   },
   {
    "duration": 59,
    "start_time": "2022-02-19T17:36:09.164Z"
   },
   {
    "duration": 165,
    "start_time": "2022-02-19T17:36:09.225Z"
   },
   {
    "duration": 160,
    "start_time": "2022-02-19T17:36:09.392Z"
   },
   {
    "duration": 572,
    "start_time": "2022-02-19T17:36:09.554Z"
   },
   {
    "duration": 5,
    "start_time": "2022-02-19T17:36:10.128Z"
   },
   {
    "duration": 17,
    "start_time": "2022-02-19T17:36:10.134Z"
   },
   {
    "duration": 31,
    "start_time": "2022-02-19T17:36:10.152Z"
   },
   {
    "duration": 34,
    "start_time": "2022-02-19T17:36:10.185Z"
   },
   {
    "duration": 4,
    "start_time": "2022-02-19T17:36:10.221Z"
   },
   {
    "duration": 132,
    "start_time": "2022-02-19T17:36:10.227Z"
   },
   {
    "duration": 7,
    "start_time": "2022-02-19T17:36:10.361Z"
   },
   {
    "duration": 33,
    "start_time": "2022-02-19T17:36:10.370Z"
   },
   {
    "duration": 51,
    "start_time": "2022-02-19T17:36:10.405Z"
   },
   {
    "duration": 40,
    "start_time": "2022-02-19T17:36:10.459Z"
   },
   {
    "duration": 125,
    "start_time": "2022-02-19T17:36:10.502Z"
   },
   {
    "duration": 15,
    "start_time": "2022-02-19T17:36:10.628Z"
   },
   {
    "duration": 16,
    "start_time": "2022-02-19T17:36:10.645Z"
   },
   {
    "duration": 33,
    "start_time": "2022-02-19T17:36:10.664Z"
   },
   {
    "duration": 25,
    "start_time": "2022-02-19T17:36:10.699Z"
   },
   {
    "duration": 16778,
    "start_time": "2022-02-19T17:36:10.726Z"
   },
   {
    "duration": 19,
    "start_time": "2022-02-19T17:36:27.506Z"
   },
   {
    "duration": 17,
    "start_time": "2022-02-19T17:36:27.526Z"
   },
   {
    "duration": 336,
    "start_time": "2022-02-20T17:52:51.635Z"
   },
   {
    "duration": 7,
    "start_time": "2022-02-20T17:53:00.686Z"
   },
   {
    "duration": 8728,
    "start_time": "2022-02-20T17:53:00.696Z"
   },
   {
    "duration": 20317,
    "start_time": "2022-02-20T17:53:09.428Z"
   },
   {
    "duration": 4195,
    "start_time": "2022-02-20T17:53:29.748Z"
   },
   {
    "duration": 2620,
    "start_time": "2022-02-20T17:53:33.946Z"
   },
   {
    "duration": 730,
    "start_time": "2022-02-20T17:53:36.569Z"
   },
   {
    "duration": 25,
    "start_time": "2022-02-20T17:53:37.302Z"
   },
   {
    "duration": 31,
    "start_time": "2022-02-20T17:53:37.333Z"
   },
   {
    "duration": 19,
    "start_time": "2022-02-20T17:53:37.368Z"
   },
   {
    "duration": 291,
    "start_time": "2022-02-20T17:53:37.390Z"
   },
   {
    "duration": 23,
    "start_time": "2022-02-20T17:53:37.684Z"
   },
   {
    "duration": 116,
    "start_time": "2022-02-20T17:53:37.709Z"
   },
   {
    "duration": 87,
    "start_time": "2022-02-20T17:53:37.828Z"
   },
   {
    "duration": 95,
    "start_time": "2022-02-20T17:53:37.917Z"
   },
   {
    "duration": 360,
    "start_time": "2022-02-20T17:53:38.015Z"
   },
   {
    "duration": 85,
    "start_time": "2022-02-20T17:53:38.378Z"
   },
   {
    "duration": 235,
    "start_time": "2022-02-20T17:53:38.466Z"
   },
   {
    "duration": 22,
    "start_time": "2022-02-20T17:53:38.704Z"
   },
   {
    "duration": 25,
    "start_time": "2022-02-20T17:53:38.729Z"
   },
   {
    "duration": 48,
    "start_time": "2022-02-20T17:53:38.756Z"
   },
   {
    "duration": 263,
    "start_time": "2022-02-20T17:53:38.806Z"
   },
   {
    "duration": 231,
    "start_time": "2022-02-20T17:53:39.072Z"
   },
   {
    "duration": 955,
    "start_time": "2022-02-20T17:53:39.310Z"
   },
   {
    "duration": 7,
    "start_time": "2022-02-20T17:53:40.269Z"
   },
   {
    "duration": 31,
    "start_time": "2022-02-20T17:53:40.278Z"
   },
   {
    "duration": 32,
    "start_time": "2022-02-20T17:53:40.311Z"
   },
   {
    "duration": 40,
    "start_time": "2022-02-20T17:53:40.349Z"
   },
   {
    "duration": 166,
    "start_time": "2022-02-20T17:53:40.392Z"
   },
   {
    "duration": 1115,
    "start_time": "2022-02-20T17:53:40.561Z"
   },
   {
    "duration": 366,
    "start_time": "2022-02-20T17:53:41.678Z"
   },
   {
    "duration": 27,
    "start_time": "2022-02-20T17:53:42.048Z"
   },
   {
    "duration": 86,
    "start_time": "2022-02-20T17:53:42.078Z"
   },
   {
    "duration": 54,
    "start_time": "2022-02-20T17:53:42.167Z"
   },
   {
    "duration": 179,
    "start_time": "2022-02-20T17:53:42.224Z"
   },
   {
    "duration": 24,
    "start_time": "2022-02-20T17:53:42.406Z"
   },
   {
    "duration": 18,
    "start_time": "2022-02-20T17:53:42.433Z"
   },
   {
    "duration": 19,
    "start_time": "2022-02-20T17:53:42.454Z"
   },
   {
    "duration": 13,
    "start_time": "2022-02-20T17:53:42.476Z"
   },
   {
    "duration": 27804,
    "start_time": "2022-02-20T17:53:42.491Z"
   },
   {
    "duration": 22,
    "start_time": "2022-02-20T17:54:10.297Z"
   },
   {
    "duration": 45,
    "start_time": "2022-02-20T17:54:10.322Z"
   },
   {
    "duration": 78,
    "start_time": "2022-02-20T17:54:10.370Z"
   },
   {
    "duration": 7,
    "start_time": "2022-02-20T17:55:50.594Z"
   },
   {
    "duration": 14,
    "start_time": "2022-02-20T17:56:00.684Z"
   },
   {
    "duration": 109,
    "start_time": "2022-02-20T18:06:45.075Z"
   },
   {
    "duration": 141,
    "start_time": "2022-02-20T18:18:40.753Z"
   },
   {
    "duration": 495,
    "start_time": "2022-02-20T18:20:58.488Z"
   },
   {
    "duration": 118,
    "start_time": "2022-02-20T18:21:39.818Z"
   },
   {
    "duration": 150,
    "start_time": "2022-02-20T18:21:50.041Z"
   },
   {
    "duration": 13,
    "start_time": "2022-02-20T18:21:50.709Z"
   },
   {
    "duration": 334,
    "start_time": "2022-02-20T18:21:52.062Z"
   },
   {
    "duration": 837,
    "start_time": "2022-02-20T18:22:03.583Z"
   },
   {
    "duration": 126,
    "start_time": "2022-02-20T18:24:03.507Z"
   },
   {
    "duration": 13,
    "start_time": "2022-02-20T18:24:13.564Z"
   },
   {
    "duration": 104,
    "start_time": "2022-02-20T18:24:14.613Z"
   },
   {
    "duration": 101,
    "start_time": "2022-02-20T18:24:39.385Z"
   },
   {
    "duration": 115,
    "start_time": "2022-02-20T18:25:32.312Z"
   },
   {
    "duration": 113,
    "start_time": "2022-02-20T18:25:50.181Z"
   },
   {
    "duration": 422,
    "start_time": "2022-02-20T18:25:57.200Z"
   },
   {
    "duration": 15,
    "start_time": "2022-02-20T18:26:00.560Z"
   },
   {
    "duration": 100,
    "start_time": "2022-02-20T18:26:01.434Z"
   },
   {
    "duration": 127,
    "start_time": "2022-02-20T18:26:06.441Z"
   },
   {
    "duration": 14,
    "start_time": "2022-02-20T18:26:06.911Z"
   },
   {
    "duration": 93,
    "start_time": "2022-02-20T18:26:07.412Z"
   },
   {
    "duration": 3,
    "start_time": "2022-02-22T07:12:14.392Z"
   },
   {
    "duration": 6574,
    "start_time": "2022-02-22T07:12:14.397Z"
   },
   {
    "duration": 13700,
    "start_time": "2022-02-22T07:12:20.974Z"
   },
   {
    "duration": 3114,
    "start_time": "2022-02-22T07:12:34.677Z"
   },
   {
    "duration": 1925,
    "start_time": "2022-02-22T07:12:37.794Z"
   },
   {
    "duration": 648,
    "start_time": "2022-02-22T07:12:39.721Z"
   },
   {
    "duration": 19,
    "start_time": "2022-02-22T07:12:40.372Z"
   },
   {
    "duration": 16,
    "start_time": "2022-02-22T07:12:40.393Z"
   },
   {
    "duration": 14,
    "start_time": "2022-02-22T07:12:40.411Z"
   },
   {
    "duration": 230,
    "start_time": "2022-02-22T07:12:40.427Z"
   },
   {
    "duration": 18,
    "start_time": "2022-02-22T07:12:40.659Z"
   },
   {
    "duration": 96,
    "start_time": "2022-02-22T07:12:40.679Z"
   },
   {
    "duration": 61,
    "start_time": "2022-02-22T07:12:40.777Z"
   },
   {
    "duration": 57,
    "start_time": "2022-02-22T07:12:40.840Z"
   },
   {
    "duration": 269,
    "start_time": "2022-02-22T07:12:40.899Z"
   },
   {
    "duration": 63,
    "start_time": "2022-02-22T07:12:41.171Z"
   },
   {
    "duration": 162,
    "start_time": "2022-02-22T07:12:41.236Z"
   },
   {
    "duration": 21,
    "start_time": "2022-02-22T07:12:41.400Z"
   },
   {
    "duration": 6,
    "start_time": "2022-02-22T07:12:41.425Z"
   },
   {
    "duration": 41,
    "start_time": "2022-02-22T07:12:41.433Z"
   },
   {
    "duration": 185,
    "start_time": "2022-02-22T07:12:41.476Z"
   },
   {
    "duration": 171,
    "start_time": "2022-02-22T07:12:41.663Z"
   },
   {
    "duration": 787,
    "start_time": "2022-02-22T07:12:41.836Z"
   },
   {
    "duration": 4,
    "start_time": "2022-02-22T07:12:42.625Z"
   },
   {
    "duration": 18,
    "start_time": "2022-02-22T07:12:42.631Z"
   },
   {
    "duration": 41,
    "start_time": "2022-02-22T07:12:42.651Z"
   },
   {
    "duration": 26,
    "start_time": "2022-02-22T07:12:42.694Z"
   },
   {
    "duration": 4,
    "start_time": "2022-02-22T07:12:42.722Z"
   },
   {
    "duration": 137,
    "start_time": "2022-02-22T07:12:42.728Z"
   },
   {
    "duration": 5,
    "start_time": "2022-02-22T07:12:42.867Z"
   },
   {
    "duration": 21,
    "start_time": "2022-02-22T07:12:42.873Z"
   },
   {
    "duration": 43,
    "start_time": "2022-02-22T07:12:42.896Z"
   },
   {
    "duration": 38,
    "start_time": "2022-02-22T07:12:42.940Z"
   },
   {
    "duration": 120,
    "start_time": "2022-02-22T07:12:42.980Z"
   },
   {
    "duration": 22,
    "start_time": "2022-02-22T07:12:43.102Z"
   },
   {
    "duration": 17,
    "start_time": "2022-02-22T07:12:43.125Z"
   },
   {
    "duration": 18,
    "start_time": "2022-02-22T07:12:43.143Z"
   },
   {
    "duration": 19,
    "start_time": "2022-02-22T07:12:43.162Z"
   },
   {
    "duration": 17446,
    "start_time": "2022-02-22T07:12:43.183Z"
   },
   {
    "duration": 15,
    "start_time": "2022-02-22T07:13:00.631Z"
   },
   {
    "duration": 39,
    "start_time": "2022-02-22T07:13:00.648Z"
   },
   {
    "duration": 258,
    "start_time": "2022-02-22T07:13:00.689Z"
   },
   {
    "duration": 417,
    "start_time": "2022-02-22T07:13:00.949Z"
   },
   {
    "duration": 1389,
    "start_time": "2022-02-22T07:13:01.369Z"
   },
   {
    "duration": 1450,
    "start_time": "2022-02-22T07:13:02.760Z"
   },
   {
    "duration": 2041,
    "start_time": "2022-02-22T07:13:04.212Z"
   },
   {
    "duration": 23,
    "start_time": "2022-02-22T07:18:14.343Z"
   },
   {
    "duration": 31,
    "start_time": "2022-02-22T07:20:42.611Z"
   },
   {
    "duration": 32,
    "start_time": "2022-02-22T07:21:04.901Z"
   },
   {
    "duration": 27,
    "start_time": "2022-02-22T11:57:04.537Z"
   },
   {
    "duration": 3,
    "start_time": "2022-02-22T17:34:30.768Z"
   },
   {
    "duration": 45328,
    "start_time": "2022-02-22T17:34:30.779Z"
   },
   {
    "duration": 3,
    "start_time": "2022-02-22T17:36:00.718Z"
   },
   {
    "duration": 54263,
    "start_time": "2022-02-22T17:36:00.723Z"
   },
   {
    "duration": 65356,
    "start_time": "2022-02-22T17:36:54.989Z"
   },
   {
    "duration": 9248,
    "start_time": "2022-02-22T17:38:00.350Z"
   },
   {
    "duration": 1842,
    "start_time": "2022-02-22T17:38:09.601Z"
   },
   {
    "duration": 137,
    "start_time": "2022-02-22T17:38:11.444Z"
   },
   {
    "duration": 22,
    "start_time": "2022-02-22T17:38:11.583Z"
   },
   {
    "duration": 19,
    "start_time": "2022-02-22T17:38:11.608Z"
   },
   {
    "duration": 45,
    "start_time": "2022-02-22T17:38:11.629Z"
   },
   {
    "duration": 193,
    "start_time": "2022-02-22T17:38:11.676Z"
   },
   {
    "duration": 18,
    "start_time": "2022-02-22T17:38:11.871Z"
   },
   {
    "duration": 102,
    "start_time": "2022-02-22T17:38:11.891Z"
   },
   {
    "duration": 68,
    "start_time": "2022-02-22T17:38:11.996Z"
   },
   {
    "duration": 65,
    "start_time": "2022-02-22T17:38:12.066Z"
   },
   {
    "duration": 298,
    "start_time": "2022-02-22T17:38:12.132Z"
   },
   {
    "duration": 57,
    "start_time": "2022-02-22T17:38:12.432Z"
   },
   {
    "duration": 150,
    "start_time": "2022-02-22T17:38:12.490Z"
   },
   {
    "duration": 18,
    "start_time": "2022-02-22T17:38:12.642Z"
   },
   {
    "duration": 6,
    "start_time": "2022-02-22T17:38:12.661Z"
   },
   {
    "duration": 39,
    "start_time": "2022-02-22T17:38:12.669Z"
   },
   {
    "duration": 188,
    "start_time": "2022-02-22T17:38:12.709Z"
   },
   {
    "duration": 213,
    "start_time": "2022-02-22T17:38:12.899Z"
   },
   {
    "duration": 691,
    "start_time": "2022-02-22T17:38:13.116Z"
   },
   {
    "duration": 5,
    "start_time": "2022-02-22T17:38:13.810Z"
   },
   {
    "duration": 10,
    "start_time": "2022-02-22T17:38:13.816Z"
   },
   {
    "duration": 18,
    "start_time": "2022-02-22T17:38:13.828Z"
   },
   {
    "duration": 27,
    "start_time": "2022-02-22T17:38:13.860Z"
   },
   {
    "duration": 5,
    "start_time": "2022-02-22T17:38:13.888Z"
   },
   {
    "duration": 130,
    "start_time": "2022-02-22T17:38:13.894Z"
   },
   {
    "duration": 6,
    "start_time": "2022-02-22T17:38:14.026Z"
   },
   {
    "duration": 33,
    "start_time": "2022-02-22T17:38:14.034Z"
   },
   {
    "duration": 38,
    "start_time": "2022-02-22T17:38:14.070Z"
   },
   {
    "duration": 66,
    "start_time": "2022-02-22T17:38:14.110Z"
   },
   {
    "duration": 120,
    "start_time": "2022-02-22T17:38:14.178Z"
   },
   {
    "duration": 14,
    "start_time": "2022-02-22T17:38:14.300Z"
   },
   {
    "duration": 4,
    "start_time": "2022-02-22T17:38:14.316Z"
   },
   {
    "duration": 15,
    "start_time": "2022-02-22T17:38:14.322Z"
   },
   {
    "duration": 27,
    "start_time": "2022-02-22T17:38:14.339Z"
   },
   {
    "duration": 16850,
    "start_time": "2022-02-22T17:38:14.368Z"
   },
   {
    "duration": 16,
    "start_time": "2022-02-22T17:38:31.220Z"
   },
   {
    "duration": 29,
    "start_time": "2022-02-22T17:38:31.237Z"
   },
   {
    "duration": 40,
    "start_time": "2022-02-22T17:38:31.268Z"
   },
   {
    "duration": 10,
    "start_time": "2022-02-22T17:38:31.310Z"
   },
   {
    "duration": 106,
    "start_time": "2022-02-22T17:38:31.322Z"
   },
   {
    "duration": 9,
    "start_time": "2022-02-22T17:38:31.430Z"
   },
   {
    "duration": 393,
    "start_time": "2022-02-22T17:38:31.460Z"
   },
   {
    "duration": 25,
    "start_time": "2022-02-22T17:38:31.856Z"
   },
   {
    "duration": 89,
    "start_time": "2022-02-22T17:38:31.883Z"
   },
   {
    "duration": 85,
    "start_time": "2022-02-22T17:38:31.974Z"
   },
   {
    "duration": 60,
    "start_time": "2022-02-22T17:38:32.061Z"
   },
   {
    "duration": -142084,
    "start_time": "2022-02-22T17:40:54.207Z"
   },
   {
    "duration": 45,
    "start_time": "2022-02-22T17:39:22.936Z"
   },
   {
    "duration": 9,
    "start_time": "2022-02-22T17:39:25.062Z"
   },
   {
    "duration": 66,
    "start_time": "2022-02-22T17:39:26.352Z"
   },
   {
    "duration": 59,
    "start_time": "2022-02-22T18:04:21.771Z"
   },
   {
    "duration": 6,
    "start_time": "2022-02-22T18:04:43.560Z"
   },
   {
    "duration": 4,
    "start_time": "2022-02-23T06:43:02.318Z"
   },
   {
    "duration": 10449,
    "start_time": "2022-02-23T06:43:02.325Z"
   },
   {
    "duration": 21880,
    "start_time": "2022-02-23T06:43:12.778Z"
   },
   {
    "duration": 5788,
    "start_time": "2022-02-23T06:43:34.661Z"
   },
   {
    "duration": 2961,
    "start_time": "2022-02-23T06:43:40.452Z"
   },
   {
    "duration": 372,
    "start_time": "2022-02-23T06:43:43.415Z"
   },
   {
    "duration": 979,
    "start_time": "2022-02-23T06:43:43.791Z"
   },
   {
    "duration": 54,
    "start_time": "2022-02-23T06:43:44.773Z"
   },
   {
    "duration": 60,
    "start_time": "2022-02-23T06:43:44.830Z"
   },
   {
    "duration": 258,
    "start_time": "2022-02-23T06:43:44.893Z"
   },
   {
    "duration": 23,
    "start_time": "2022-02-23T06:43:45.153Z"
   },
   {
    "duration": 618,
    "start_time": "2022-02-23T06:43:45.178Z"
   },
   {
    "duration": 81,
    "start_time": "2022-02-23T06:43:45.798Z"
   },
   {
    "duration": 104,
    "start_time": "2022-02-23T06:43:45.882Z"
   },
   {
    "duration": 362,
    "start_time": "2022-02-23T06:43:45.988Z"
   },
   {
    "duration": 82,
    "start_time": "2022-02-23T06:43:46.352Z"
   },
   {
    "duration": 232,
    "start_time": "2022-02-23T06:43:46.437Z"
   },
   {
    "duration": 21,
    "start_time": "2022-02-23T06:43:46.672Z"
   },
   {
    "duration": 18,
    "start_time": "2022-02-23T06:43:46.699Z"
   },
   {
    "duration": 48,
    "start_time": "2022-02-23T06:43:46.721Z"
   },
   {
    "duration": 251,
    "start_time": "2022-02-23T06:43:46.771Z"
   },
   {
    "duration": 223,
    "start_time": "2022-02-23T06:43:47.025Z"
   },
   {
    "duration": 948,
    "start_time": "2022-02-23T06:43:47.250Z"
   },
   {
    "duration": 9,
    "start_time": "2022-02-23T06:43:48.201Z"
   },
   {
    "duration": 8,
    "start_time": "2022-02-23T06:43:48.213Z"
   },
   {
    "duration": 24,
    "start_time": "2022-02-23T06:43:48.224Z"
   },
   {
    "duration": 76,
    "start_time": "2022-02-23T06:43:48.250Z"
   },
   {
    "duration": 6,
    "start_time": "2022-02-23T06:43:48.329Z"
   },
   {
    "duration": 189,
    "start_time": "2022-02-23T06:43:48.337Z"
   },
   {
    "duration": 7,
    "start_time": "2022-02-23T06:43:48.529Z"
   },
   {
    "duration": 25,
    "start_time": "2022-02-23T06:43:48.538Z"
   },
   {
    "duration": 80,
    "start_time": "2022-02-23T06:43:48.566Z"
   },
   {
    "duration": 63,
    "start_time": "2022-02-23T06:43:48.649Z"
   },
   {
    "duration": 151,
    "start_time": "2022-02-23T06:43:48.715Z"
   },
   {
    "duration": 19,
    "start_time": "2022-02-23T06:43:48.869Z"
   },
   {
    "duration": 20,
    "start_time": "2022-02-23T06:43:48.890Z"
   },
   {
    "duration": 13,
    "start_time": "2022-02-23T06:43:48.913Z"
   },
   {
    "duration": 12,
    "start_time": "2022-02-23T06:43:48.929Z"
   },
   {
    "duration": 27276,
    "start_time": "2022-02-23T06:43:48.944Z"
   },
   {
    "duration": 21,
    "start_time": "2022-02-23T06:44:16.222Z"
   },
   {
    "duration": 19,
    "start_time": "2022-02-23T06:44:16.245Z"
   },
   {
    "duration": 80,
    "start_time": "2022-02-23T06:44:16.266Z"
   },
   {
    "duration": 12,
    "start_time": "2022-02-23T06:44:16.349Z"
   },
   {
    "duration": 117,
    "start_time": "2022-02-23T06:44:16.363Z"
   },
   {
    "duration": 27,
    "start_time": "2022-02-23T06:44:16.483Z"
   },
   {
    "duration": 592,
    "start_time": "2022-02-23T06:44:16.512Z"
   },
   {
    "duration": 30,
    "start_time": "2022-02-23T06:44:17.106Z"
   },
   {
    "duration": 87,
    "start_time": "2022-02-23T06:44:17.138Z"
   },
   {
    "duration": 84,
    "start_time": "2022-02-23T06:44:17.227Z"
   },
   {
    "duration": 103,
    "start_time": "2022-02-23T06:44:17.313Z"
   },
   {
    "duration": 10,
    "start_time": "2022-02-23T06:44:17.418Z"
   },
   {
    "duration": 13,
    "start_time": "2022-02-23T06:44:17.430Z"
   },
   {
    "duration": 30,
    "start_time": "2022-02-23T06:59:31.711Z"
   },
   {
    "duration": 643,
    "start_time": "2022-02-23T07:01:38.895Z"
   },
   {
    "duration": 114,
    "start_time": "2022-02-23T07:01:53.930Z"
   },
   {
    "duration": 9,
    "start_time": "2022-02-23T07:02:42.351Z"
   },
   {
    "duration": 28,
    "start_time": "2022-02-23T07:02:43.611Z"
   },
   {
    "duration": 117,
    "start_time": "2022-02-23T07:02:44.361Z"
   },
   {
    "duration": 118,
    "start_time": "2022-02-23T07:04:50.279Z"
   },
   {
    "duration": 132,
    "start_time": "2022-02-23T07:05:08.471Z"
   },
   {
    "duration": 369,
    "start_time": "2022-02-23T17:29:41.564Z"
   },
   {
    "duration": 3,
    "start_time": "2022-02-23T17:29:47.912Z"
   },
   {
    "duration": 7621,
    "start_time": "2022-02-23T17:29:47.917Z"
   },
   {
    "duration": 14691,
    "start_time": "2022-02-23T17:29:55.540Z"
   },
   {
    "duration": 2838,
    "start_time": "2022-02-23T17:30:10.233Z"
   },
   {
    "duration": 1953,
    "start_time": "2022-02-23T17:30:13.073Z"
   },
   {
    "duration": 112,
    "start_time": "2022-02-23T17:30:15.028Z"
   },
   {
    "duration": 16,
    "start_time": "2022-02-23T17:30:15.142Z"
   },
   {
    "duration": 13,
    "start_time": "2022-02-23T17:30:15.161Z"
   },
   {
    "duration": 10,
    "start_time": "2022-02-23T17:30:15.176Z"
   },
   {
    "duration": 154,
    "start_time": "2022-02-23T17:30:15.188Z"
   },
   {
    "duration": 13,
    "start_time": "2022-02-23T17:30:15.343Z"
   },
   {
    "duration": 68,
    "start_time": "2022-02-23T17:30:15.358Z"
   },
   {
    "duration": 61,
    "start_time": "2022-02-23T17:30:15.428Z"
   },
   {
    "duration": 61,
    "start_time": "2022-02-23T17:30:15.491Z"
   },
   {
    "duration": 201,
    "start_time": "2022-02-23T17:30:15.554Z"
   },
   {
    "duration": 41,
    "start_time": "2022-02-23T17:30:15.756Z"
   },
   {
    "duration": 133,
    "start_time": "2022-02-23T17:30:15.799Z"
   },
   {
    "duration": 13,
    "start_time": "2022-02-23T17:30:15.934Z"
   },
   {
    "duration": 5,
    "start_time": "2022-02-23T17:30:15.949Z"
   },
   {
    "duration": 30,
    "start_time": "2022-02-23T17:30:15.955Z"
   },
   {
    "duration": 153,
    "start_time": "2022-02-23T17:30:15.987Z"
   },
   {
    "duration": 139,
    "start_time": "2022-02-23T17:30:16.142Z"
   },
   {
    "duration": 657,
    "start_time": "2022-02-23T17:30:16.284Z"
   },
   {
    "duration": 5,
    "start_time": "2022-02-23T17:30:16.943Z"
   },
   {
    "duration": 5,
    "start_time": "2022-02-23T17:30:16.949Z"
   },
   {
    "duration": 14,
    "start_time": "2022-02-23T17:30:16.955Z"
   },
   {
    "duration": 22,
    "start_time": "2022-02-23T17:30:16.970Z"
   },
   {
    "duration": 4,
    "start_time": "2022-02-23T17:30:16.993Z"
   },
   {
    "duration": 129,
    "start_time": "2022-02-23T17:30:16.998Z"
   },
   {
    "duration": 4,
    "start_time": "2022-02-23T17:30:17.128Z"
   },
   {
    "duration": 22,
    "start_time": "2022-02-23T17:30:17.134Z"
   },
   {
    "duration": 30,
    "start_time": "2022-02-23T17:30:17.158Z"
   },
   {
    "duration": 33,
    "start_time": "2022-02-23T17:30:17.190Z"
   },
   {
    "duration": 109,
    "start_time": "2022-02-23T17:30:17.225Z"
   },
   {
    "duration": 17,
    "start_time": "2022-02-23T17:30:17.336Z"
   },
   {
    "duration": 4,
    "start_time": "2022-02-23T17:30:17.355Z"
   },
   {
    "duration": 9,
    "start_time": "2022-02-23T17:30:17.361Z"
   },
   {
    "duration": 6,
    "start_time": "2022-02-23T17:30:17.371Z"
   },
   {
    "duration": 15015,
    "start_time": "2022-02-23T17:30:17.379Z"
   },
   {
    "duration": 14,
    "start_time": "2022-02-23T17:30:32.395Z"
   },
   {
    "duration": 14,
    "start_time": "2022-02-23T17:30:32.411Z"
   },
   {
    "duration": 50,
    "start_time": "2022-02-23T17:30:32.426Z"
   },
   {
    "duration": 8,
    "start_time": "2022-02-23T17:30:32.478Z"
   },
   {
    "duration": 84,
    "start_time": "2022-02-23T17:30:32.487Z"
   },
   {
    "duration": 1303,
    "start_time": "2022-02-23T17:30:32.572Z"
   },
   {
    "duration": 944,
    "start_time": "2022-02-23T17:30:33.877Z"
   },
   {
    "duration": 98,
    "start_time": "2022-02-23T17:30:34.822Z"
   },
   {
    "duration": -65970,
    "start_time": "2022-02-23T17:31:40.892Z"
   },
   {
    "duration": -65974,
    "start_time": "2022-02-23T17:31:40.897Z"
   },
   {
    "duration": -65976,
    "start_time": "2022-02-23T17:31:40.900Z"
   },
   {
    "duration": -65978,
    "start_time": "2022-02-23T17:31:40.903Z"
   },
   {
    "duration": -65980,
    "start_time": "2022-02-23T17:31:40.906Z"
   },
   {
    "duration": -65982,
    "start_time": "2022-02-23T17:31:40.909Z"
   },
   {
    "duration": -65984,
    "start_time": "2022-02-23T17:31:40.912Z"
   },
   {
    "duration": -65986,
    "start_time": "2022-02-23T17:31:40.915Z"
   },
   {
    "duration": -65988,
    "start_time": "2022-02-23T17:31:40.918Z"
   },
   {
    "duration": -65989,
    "start_time": "2022-02-23T17:31:40.921Z"
   },
   {
    "duration": 3,
    "start_time": "2022-02-23T17:33:40.657Z"
   },
   {
    "duration": 3,
    "start_time": "2022-02-23T17:33:47.401Z"
   },
   {
    "duration": 3,
    "start_time": "2022-02-23T17:36:02.721Z"
   },
   {
    "duration": 4,
    "start_time": "2022-02-23T17:36:54.817Z"
   },
   {
    "duration": 19,
    "start_time": "2022-02-23T17:37:11.698Z"
   },
   {
    "duration": 26,
    "start_time": "2022-02-23T17:37:12.226Z"
   },
   {
    "duration": 21,
    "start_time": "2022-02-23T17:37:12.400Z"
   },
   {
    "duration": 33,
    "start_time": "2022-02-23T17:37:12.732Z"
   },
   {
    "duration": 7,
    "start_time": "2022-02-23T17:37:12.956Z"
   },
   {
    "duration": 6,
    "start_time": "2022-02-23T17:37:13.494Z"
   },
   {
    "duration": 21,
    "start_time": "2022-02-23T17:37:14.191Z"
   },
   {
    "duration": 71,
    "start_time": "2022-02-23T17:37:14.776Z"
   },
   {
    "duration": 75,
    "start_time": "2022-02-23T17:37:15.394Z"
   },
   {
    "duration": 69,
    "start_time": "2022-02-23T17:37:15.772Z"
   },
   {
    "duration": 447,
    "start_time": "2022-02-23T18:02:59.844Z"
   },
   {
    "duration": 317,
    "start_time": "2022-02-23T18:03:14.362Z"
   },
   {
    "duration": 5,
    "start_time": "2022-02-23T18:03:16.298Z"
   },
   {
    "duration": 419,
    "start_time": "2022-02-23T18:03:16.844Z"
   },
   {
    "duration": 346,
    "start_time": "2022-02-23T18:03:31.234Z"
   },
   {
    "duration": 9,
    "start_time": "2022-02-23T18:03:39.399Z"
   },
   {
    "duration": 11,
    "start_time": "2022-02-23T18:03:45.466Z"
   },
   {
    "duration": 7,
    "start_time": "2022-02-23T18:52:23.351Z"
   },
   {
    "duration": -167,
    "start_time": "2022-02-23T18:53:14.642Z"
   },
   {
    "duration": 10046,
    "start_time": "2022-02-23T18:53:26.828Z"
   },
   {
    "duration": 305,
    "start_time": "2022-02-23T18:54:06.589Z"
   },
   {
    "duration": 2,
    "start_time": "2022-02-23T18:54:18.824Z"
   },
   {
    "duration": 4,
    "start_time": "2022-02-23T19:08:30.500Z"
   },
   {
    "duration": 2514,
    "start_time": "2022-02-23T19:08:30.505Z"
   },
   {
    "duration": 2433,
    "start_time": "2022-02-23T19:08:33.021Z"
   },
   {
    "duration": 2496,
    "start_time": "2022-02-23T19:08:35.457Z"
   },
   {
    "duration": 1673,
    "start_time": "2022-02-23T19:08:37.954Z"
   },
   {
    "duration": 118,
    "start_time": "2022-02-23T19:08:39.628Z"
   },
   {
    "duration": 15,
    "start_time": "2022-02-23T19:08:39.747Z"
   },
   {
    "duration": 14,
    "start_time": "2022-02-23T19:08:39.763Z"
   },
   {
    "duration": 10,
    "start_time": "2022-02-23T19:08:39.780Z"
   },
   {
    "duration": 159,
    "start_time": "2022-02-23T19:08:39.792Z"
   },
   {
    "duration": 14,
    "start_time": "2022-02-23T19:08:39.953Z"
   },
   {
    "duration": 86,
    "start_time": "2022-02-23T19:08:39.969Z"
   },
   {
    "duration": 52,
    "start_time": "2022-02-23T19:08:40.057Z"
   },
   {
    "duration": 59,
    "start_time": "2022-02-23T19:08:40.111Z"
   },
   {
    "duration": 215,
    "start_time": "2022-02-23T19:08:40.172Z"
   },
   {
    "duration": 45,
    "start_time": "2022-02-23T19:08:40.389Z"
   },
   {
    "duration": 133,
    "start_time": "2022-02-23T19:08:40.446Z"
   },
   {
    "duration": 16,
    "start_time": "2022-02-23T19:08:40.581Z"
   },
   {
    "duration": 8,
    "start_time": "2022-02-23T19:08:40.598Z"
   },
   {
    "duration": 52,
    "start_time": "2022-02-23T19:08:40.607Z"
   },
   {
    "duration": 158,
    "start_time": "2022-02-23T19:08:40.661Z"
   },
   {
    "duration": 154,
    "start_time": "2022-02-23T19:08:40.821Z"
   },
   {
    "duration": 525,
    "start_time": "2022-02-23T19:08:40.976Z"
   },
   {
    "duration": 5,
    "start_time": "2022-02-23T19:08:41.502Z"
   },
   {
    "duration": 5,
    "start_time": "2022-02-23T19:08:41.508Z"
   },
   {
    "duration": 18,
    "start_time": "2022-02-23T19:08:41.514Z"
   },
   {
    "duration": 22,
    "start_time": "2022-02-23T19:08:41.548Z"
   },
   {
    "duration": 4,
    "start_time": "2022-02-23T19:08:41.572Z"
   },
   {
    "duration": 117,
    "start_time": "2022-02-23T19:08:41.577Z"
   },
   {
    "duration": 4,
    "start_time": "2022-02-23T19:08:41.696Z"
   },
   {
    "duration": 14,
    "start_time": "2022-02-23T19:08:41.702Z"
   },
   {
    "duration": 46,
    "start_time": "2022-02-23T19:08:41.718Z"
   },
   {
    "duration": 31,
    "start_time": "2022-02-23T19:08:41.766Z"
   },
   {
    "duration": 100,
    "start_time": "2022-02-23T19:08:41.798Z"
   },
   {
    "duration": 11,
    "start_time": "2022-02-23T19:08:41.900Z"
   },
   {
    "duration": 5,
    "start_time": "2022-02-23T19:08:41.913Z"
   },
   {
    "duration": 12,
    "start_time": "2022-02-23T19:08:41.920Z"
   },
   {
    "duration": 15,
    "start_time": "2022-02-23T19:08:41.933Z"
   },
   {
    "duration": 14786,
    "start_time": "2022-02-23T19:08:41.949Z"
   },
   {
    "duration": 13,
    "start_time": "2022-02-23T19:08:56.737Z"
   },
   {
    "duration": 16,
    "start_time": "2022-02-23T19:08:56.752Z"
   },
   {
    "duration": 35,
    "start_time": "2022-02-23T19:08:56.770Z"
   },
   {
    "duration": 7,
    "start_time": "2022-02-23T19:08:56.806Z"
   },
   {
    "duration": 84,
    "start_time": "2022-02-23T19:08:56.815Z"
   },
   {
    "duration": 8,
    "start_time": "2022-02-23T19:08:56.901Z"
   },
   {
    "duration": 9,
    "start_time": "2022-02-23T19:08:56.911Z"
   },
   {
    "duration": 431,
    "start_time": "2022-02-23T19:08:56.921Z"
   },
   {
    "duration": 3,
    "start_time": "2022-02-23T19:08:57.354Z"
   },
   {
    "duration": 7,
    "start_time": "2022-02-23T19:08:57.359Z"
   },
   {
    "duration": 6,
    "start_time": "2022-02-23T19:08:57.367Z"
   },
   {
    "duration": 26,
    "start_time": "2022-02-23T19:08:57.375Z"
   },
   {
    "duration": 37,
    "start_time": "2022-02-23T19:08:57.447Z"
   },
   {
    "duration": 76,
    "start_time": "2022-02-23T19:08:57.486Z"
   },
   {
    "duration": 32,
    "start_time": "2022-02-23T19:08:57.564Z"
   },
   {
    "duration": 6,
    "start_time": "2022-02-23T19:08:57.598Z"
   },
   {
    "duration": 42,
    "start_time": "2022-02-23T19:08:57.605Z"
   },
   {
    "duration": 16,
    "start_time": "2022-02-23T19:08:57.649Z"
   },
   {
    "duration": 17,
    "start_time": "2022-02-23T19:08:57.666Z"
   },
   {
    "duration": 91,
    "start_time": "2022-02-23T19:08:57.684Z"
   },
   {
    "duration": 81,
    "start_time": "2022-02-23T19:08:57.778Z"
   },
   {
    "duration": 69,
    "start_time": "2022-02-23T19:08:57.861Z"
   },
   {
    "duration": 455,
    "start_time": "2022-02-23T19:08:57.947Z"
   },
   {
    "duration": 3,
    "start_time": "2022-02-23T19:10:20.838Z"
   },
   {
    "duration": 2750,
    "start_time": "2022-02-23T19:10:20.842Z"
   },
   {
    "duration": 2699,
    "start_time": "2022-02-23T19:10:23.594Z"
   },
   {
    "duration": 2262,
    "start_time": "2022-02-23T19:10:26.295Z"
   },
   {
    "duration": 1499,
    "start_time": "2022-02-23T19:10:28.559Z"
   },
   {
    "duration": 125,
    "start_time": "2022-02-23T19:10:30.060Z"
   },
   {
    "duration": 15,
    "start_time": "2022-02-23T19:10:30.187Z"
   },
   {
    "duration": 14,
    "start_time": "2022-02-23T19:10:30.204Z"
   },
   {
    "duration": 12,
    "start_time": "2022-02-23T19:10:30.219Z"
   },
   {
    "duration": 141,
    "start_time": "2022-02-23T19:10:30.246Z"
   },
   {
    "duration": 15,
    "start_time": "2022-02-23T19:10:30.388Z"
   },
   {
    "duration": 82,
    "start_time": "2022-02-23T19:10:30.404Z"
   },
   {
    "duration": 47,
    "start_time": "2022-02-23T19:10:30.488Z"
   },
   {
    "duration": 58,
    "start_time": "2022-02-23T19:10:30.537Z"
   },
   {
    "duration": 243,
    "start_time": "2022-02-23T19:10:30.597Z"
   },
   {
    "duration": 47,
    "start_time": "2022-02-23T19:10:30.842Z"
   },
   {
    "duration": 144,
    "start_time": "2022-02-23T19:10:30.890Z"
   },
   {
    "duration": 18,
    "start_time": "2022-02-23T19:10:31.035Z"
   },
   {
    "duration": 5,
    "start_time": "2022-02-23T19:10:31.057Z"
   },
   {
    "duration": 36,
    "start_time": "2022-02-23T19:10:31.064Z"
   },
   {
    "duration": 155,
    "start_time": "2022-02-23T19:10:31.101Z"
   },
   {
    "duration": 136,
    "start_time": "2022-02-23T19:10:31.258Z"
   },
   {
    "duration": 554,
    "start_time": "2022-02-23T19:10:31.395Z"
   },
   {
    "duration": 5,
    "start_time": "2022-02-23T19:10:31.951Z"
   },
   {
    "duration": 5,
    "start_time": "2022-02-23T19:10:31.958Z"
   },
   {
    "duration": 16,
    "start_time": "2022-02-23T19:10:31.964Z"
   },
   {
    "duration": 22,
    "start_time": "2022-02-23T19:10:31.981Z"
   },
   {
    "duration": 4,
    "start_time": "2022-02-23T19:10:32.005Z"
   },
   {
    "duration": 140,
    "start_time": "2022-02-23T19:10:32.010Z"
   },
   {
    "duration": 4,
    "start_time": "2022-02-23T19:10:32.152Z"
   },
   {
    "duration": 17,
    "start_time": "2022-02-23T19:10:32.158Z"
   },
   {
    "duration": 32,
    "start_time": "2022-02-23T19:10:32.176Z"
   },
   {
    "duration": 62,
    "start_time": "2022-02-23T19:10:32.209Z"
   },
   {
    "duration": 95,
    "start_time": "2022-02-23T19:10:32.273Z"
   },
   {
    "duration": 11,
    "start_time": "2022-02-23T19:10:32.370Z"
   },
   {
    "duration": 7,
    "start_time": "2022-02-23T19:10:32.383Z"
   },
   {
    "duration": 9,
    "start_time": "2022-02-23T19:10:32.391Z"
   },
   {
    "duration": 7,
    "start_time": "2022-02-23T19:10:32.401Z"
   },
   {
    "duration": 14985,
    "start_time": "2022-02-23T19:10:32.409Z"
   },
   {
    "duration": 13,
    "start_time": "2022-02-23T19:10:47.396Z"
   },
   {
    "duration": 14,
    "start_time": "2022-02-23T19:10:47.411Z"
   },
   {
    "duration": 49,
    "start_time": "2022-02-23T19:10:47.426Z"
   },
   {
    "duration": 9,
    "start_time": "2022-02-23T19:10:47.477Z"
   },
   {
    "duration": 77,
    "start_time": "2022-02-23T19:10:47.487Z"
   },
   {
    "duration": 10,
    "start_time": "2022-02-23T19:10:47.566Z"
   },
   {
    "duration": 9,
    "start_time": "2022-02-23T19:10:47.578Z"
   },
   {
    "duration": 470,
    "start_time": "2022-02-23T19:10:47.589Z"
   },
   {
    "duration": 4,
    "start_time": "2022-02-23T19:10:48.061Z"
   },
   {
    "duration": 4,
    "start_time": "2022-02-23T19:10:48.066Z"
   },
   {
    "duration": 4,
    "start_time": "2022-02-23T19:10:48.072Z"
   },
   {
    "duration": 22,
    "start_time": "2022-02-23T19:10:48.077Z"
   },
   {
    "duration": 81,
    "start_time": "2022-02-23T19:10:48.101Z"
   },
   {
    "duration": 87,
    "start_time": "2022-02-23T19:10:48.184Z"
   },
   {
    "duration": 74,
    "start_time": "2022-02-23T19:10:48.273Z"
   },
   {
    "duration": 6,
    "start_time": "2022-02-23T19:10:48.351Z"
   },
   {
    "duration": 6,
    "start_time": "2022-02-23T19:10:48.359Z"
   },
   {
    "duration": 14,
    "start_time": "2022-02-23T19:10:48.366Z"
   },
   {
    "duration": 17,
    "start_time": "2022-02-23T19:10:48.382Z"
   },
   {
    "duration": 98,
    "start_time": "2022-02-23T19:10:48.400Z"
   },
   {
    "duration": 92,
    "start_time": "2022-02-23T19:10:48.500Z"
   },
   {
    "duration": 87,
    "start_time": "2022-02-23T19:10:48.594Z"
   },
   {
    "duration": 486,
    "start_time": "2022-02-23T19:10:48.683Z"
   },
   {
    "duration": 5,
    "start_time": "2022-02-23T19:18:27.779Z"
   },
   {
    "duration": 116,
    "start_time": "2022-02-23T19:30:05.425Z"
   },
   {
    "duration": 536,
    "start_time": "2022-02-23T19:32:16.706Z"
   },
   {
    "duration": 579,
    "start_time": "2022-02-23T19:36:43.310Z"
   },
   {
    "duration": 125,
    "start_time": "2022-02-23T19:37:53.721Z"
   },
   {
    "duration": 584,
    "start_time": "2022-02-23T19:38:21.897Z"
   },
   {
    "duration": 3,
    "start_time": "2022-02-23T19:41:31.030Z"
   },
   {
    "duration": 2664,
    "start_time": "2022-02-23T19:41:31.034Z"
   },
   {
    "duration": 2598,
    "start_time": "2022-02-23T19:41:33.701Z"
   },
   {
    "duration": 2353,
    "start_time": "2022-02-23T19:41:36.301Z"
   },
   {
    "duration": 1493,
    "start_time": "2022-02-23T19:41:38.655Z"
   },
   {
    "duration": 111,
    "start_time": "2022-02-23T19:41:40.149Z"
   },
   {
    "duration": 14,
    "start_time": "2022-02-23T19:41:40.262Z"
   },
   {
    "duration": 13,
    "start_time": "2022-02-23T19:41:40.278Z"
   },
   {
    "duration": 10,
    "start_time": "2022-02-23T19:41:40.293Z"
   },
   {
    "duration": 156,
    "start_time": "2022-02-23T19:41:40.305Z"
   },
   {
    "duration": 13,
    "start_time": "2022-02-23T19:41:40.463Z"
   },
   {
    "duration": 78,
    "start_time": "2022-02-23T19:41:40.477Z"
   },
   {
    "duration": 44,
    "start_time": "2022-02-23T19:41:40.556Z"
   },
   {
    "duration": 61,
    "start_time": "2022-02-23T19:41:40.602Z"
   },
   {
    "duration": 210,
    "start_time": "2022-02-23T19:41:40.664Z"
   },
   {
    "duration": 45,
    "start_time": "2022-02-23T19:41:40.876Z"
   },
   {
    "duration": 144,
    "start_time": "2022-02-23T19:41:40.923Z"
   },
   {
    "duration": 13,
    "start_time": "2022-02-23T19:41:41.069Z"
   },
   {
    "duration": 5,
    "start_time": "2022-02-23T19:41:41.083Z"
   },
   {
    "duration": 32,
    "start_time": "2022-02-23T19:41:41.089Z"
   },
   {
    "duration": 158,
    "start_time": "2022-02-23T19:41:41.123Z"
   },
   {
    "duration": 145,
    "start_time": "2022-02-23T19:41:41.283Z"
   },
   {
    "duration": 552,
    "start_time": "2022-02-23T19:41:41.432Z"
   },
   {
    "duration": 5,
    "start_time": "2022-02-23T19:41:41.986Z"
   },
   {
    "duration": 7,
    "start_time": "2022-02-23T19:41:41.993Z"
   },
   {
    "duration": 14,
    "start_time": "2022-02-23T19:41:42.001Z"
   },
   {
    "duration": 39,
    "start_time": "2022-02-23T19:41:42.017Z"
   },
   {
    "duration": 4,
    "start_time": "2022-02-23T19:41:42.058Z"
   },
   {
    "duration": 120,
    "start_time": "2022-02-23T19:41:42.063Z"
   },
   {
    "duration": 4,
    "start_time": "2022-02-23T19:41:42.185Z"
   },
   {
    "duration": 15,
    "start_time": "2022-02-23T19:41:42.191Z"
   },
   {
    "duration": 51,
    "start_time": "2022-02-23T19:41:42.208Z"
   },
   {
    "duration": 33,
    "start_time": "2022-02-23T19:41:42.261Z"
   },
   {
    "duration": 104,
    "start_time": "2022-02-23T19:41:42.295Z"
   },
   {
    "duration": 12,
    "start_time": "2022-02-23T19:41:42.401Z"
   },
   {
    "duration": 9,
    "start_time": "2022-02-23T19:41:42.415Z"
   },
   {
    "duration": 10,
    "start_time": "2022-02-23T19:41:42.426Z"
   },
   {
    "duration": 7,
    "start_time": "2022-02-23T19:41:42.446Z"
   },
   {
    "duration": 14708,
    "start_time": "2022-02-23T19:41:42.455Z"
   },
   {
    "duration": 12,
    "start_time": "2022-02-23T19:41:57.165Z"
   },
   {
    "duration": 17,
    "start_time": "2022-02-23T19:41:57.178Z"
   },
   {
    "duration": 38,
    "start_time": "2022-02-23T19:41:57.196Z"
   },
   {
    "duration": 15,
    "start_time": "2022-02-23T19:41:57.235Z"
   },
   {
    "duration": 67,
    "start_time": "2022-02-23T19:41:57.252Z"
   },
   {
    "duration": 399,
    "start_time": "2022-02-23T19:41:57.320Z"
   },
   {
    "duration": -82,
    "start_time": "2022-02-23T19:41:57.803Z"
   },
   {
    "duration": -85,
    "start_time": "2022-02-23T19:41:57.807Z"
   },
   {
    "duration": -89,
    "start_time": "2022-02-23T19:41:57.812Z"
   },
   {
    "duration": -92,
    "start_time": "2022-02-23T19:41:57.816Z"
   },
   {
    "duration": -94,
    "start_time": "2022-02-23T19:41:57.819Z"
   },
   {
    "duration": -96,
    "start_time": "2022-02-23T19:41:57.822Z"
   },
   {
    "duration": -150,
    "start_time": "2022-02-23T19:41:57.877Z"
   },
   {
    "duration": -160,
    "start_time": "2022-02-23T19:41:57.888Z"
   },
   {
    "duration": -164,
    "start_time": "2022-02-23T19:41:57.893Z"
   },
   {
    "duration": -166,
    "start_time": "2022-02-23T19:41:57.896Z"
   },
   {
    "duration": -169,
    "start_time": "2022-02-23T19:41:57.900Z"
   },
   {
    "duration": -171,
    "start_time": "2022-02-23T19:41:57.903Z"
   },
   {
    "duration": -174,
    "start_time": "2022-02-23T19:41:57.907Z"
   },
   {
    "duration": -176,
    "start_time": "2022-02-23T19:41:57.910Z"
   },
   {
    "duration": -179,
    "start_time": "2022-02-23T19:41:57.913Z"
   },
   {
    "duration": -181,
    "start_time": "2022-02-23T19:41:57.916Z"
   },
   {
    "duration": -183,
    "start_time": "2022-02-23T19:41:57.919Z"
   },
   {
    "duration": 13,
    "start_time": "2022-02-23T19:42:58.490Z"
   },
   {
    "duration": 7,
    "start_time": "2022-02-23T19:43:46.105Z"
   },
   {
    "duration": 380,
    "start_time": "2022-02-23T19:43:55.676Z"
   },
   {
    "duration": 4,
    "start_time": "2022-02-23T19:43:59.673Z"
   },
   {
    "duration": 4,
    "start_time": "2022-02-23T19:43:59.845Z"
   },
   {
    "duration": 3,
    "start_time": "2022-02-23T19:44:00.023Z"
   },
   {
    "duration": 21,
    "start_time": "2022-02-23T19:44:00.399Z"
   },
   {
    "duration": 31,
    "start_time": "2022-02-23T19:44:01.015Z"
   },
   {
    "duration": 33,
    "start_time": "2022-02-23T19:44:01.521Z"
   },
   {
    "duration": 33,
    "start_time": "2022-02-23T19:44:02.020Z"
   },
   {
    "duration": 7,
    "start_time": "2022-02-23T19:44:02.299Z"
   },
   {
    "duration": 5,
    "start_time": "2022-02-23T19:44:04.465Z"
   },
   {
    "duration": 11,
    "start_time": "2022-02-23T19:44:05.751Z"
   },
   {
    "duration": 7,
    "start_time": "2022-02-23T19:46:38.670Z"
   },
   {
    "duration": 362,
    "start_time": "2022-02-23T19:46:54.987Z"
   },
   {
    "duration": 7,
    "start_time": "2022-02-23T19:46:59.256Z"
   },
   {
    "duration": 14,
    "start_time": "2022-02-23T19:46:59.742Z"
   },
   {
    "duration": 7,
    "start_time": "2022-02-23T19:47:00.311Z"
   },
   {
    "duration": 102,
    "start_time": "2022-02-23T19:47:49.145Z"
   },
   {
    "duration": 12,
    "start_time": "2022-02-23T19:48:17.185Z"
   },
   {
    "duration": 6,
    "start_time": "2022-02-23T19:48:26.043Z"
   },
   {
    "duration": 3,
    "start_time": "2022-02-23T19:49:40.195Z"
   },
   {
    "duration": 2442,
    "start_time": "2022-02-23T19:49:40.200Z"
   },
   {
    "duration": 2234,
    "start_time": "2022-02-23T19:49:42.645Z"
   },
   {
    "duration": 2420,
    "start_time": "2022-02-23T19:49:44.881Z"
   },
   {
    "duration": 1493,
    "start_time": "2022-02-23T19:49:47.303Z"
   },
   {
    "duration": 148,
    "start_time": "2022-02-23T19:49:48.798Z"
   },
   {
    "duration": 15,
    "start_time": "2022-02-23T19:49:48.948Z"
   },
   {
    "duration": 15,
    "start_time": "2022-02-23T19:49:48.964Z"
   },
   {
    "duration": 14,
    "start_time": "2022-02-23T19:49:48.981Z"
   },
   {
    "duration": 165,
    "start_time": "2022-02-23T19:49:48.997Z"
   },
   {
    "duration": 15,
    "start_time": "2022-02-23T19:49:49.163Z"
   },
   {
    "duration": 86,
    "start_time": "2022-02-23T19:49:49.179Z"
   },
   {
    "duration": 48,
    "start_time": "2022-02-23T19:49:49.266Z"
   },
   {
    "duration": 67,
    "start_time": "2022-02-23T19:49:49.316Z"
   },
   {
    "duration": 226,
    "start_time": "2022-02-23T19:49:49.384Z"
   },
   {
    "duration": 55,
    "start_time": "2022-02-23T19:49:49.612Z"
   },
   {
    "duration": 144,
    "start_time": "2022-02-23T19:49:49.669Z"
   },
   {
    "duration": 14,
    "start_time": "2022-02-23T19:49:49.815Z"
   },
   {
    "duration": 5,
    "start_time": "2022-02-23T19:49:49.830Z"
   },
   {
    "duration": 33,
    "start_time": "2022-02-23T19:49:49.846Z"
   },
   {
    "duration": 167,
    "start_time": "2022-02-23T19:49:49.880Z"
   },
   {
    "duration": 156,
    "start_time": "2022-02-23T19:49:50.049Z"
   },
   {
    "duration": 548,
    "start_time": "2022-02-23T19:49:50.207Z"
   },
   {
    "duration": 6,
    "start_time": "2022-02-23T19:49:50.757Z"
   },
   {
    "duration": 7,
    "start_time": "2022-02-23T19:49:50.765Z"
   },
   {
    "duration": 14,
    "start_time": "2022-02-23T19:49:50.773Z"
   },
   {
    "duration": 24,
    "start_time": "2022-02-23T19:49:50.792Z"
   },
   {
    "duration": 29,
    "start_time": "2022-02-23T19:49:50.818Z"
   },
   {
    "duration": 115,
    "start_time": "2022-02-23T19:49:50.849Z"
   },
   {
    "duration": 5,
    "start_time": "2022-02-23T19:49:50.965Z"
   },
   {
    "duration": 18,
    "start_time": "2022-02-23T19:49:50.972Z"
   },
   {
    "duration": 34,
    "start_time": "2022-02-23T19:49:50.991Z"
   },
   {
    "duration": 50,
    "start_time": "2022-02-23T19:49:51.026Z"
   },
   {
    "duration": 110,
    "start_time": "2022-02-23T19:49:51.077Z"
   },
   {
    "duration": 13,
    "start_time": "2022-02-23T19:49:51.189Z"
   },
   {
    "duration": 6,
    "start_time": "2022-02-23T19:49:51.203Z"
   },
   {
    "duration": 13,
    "start_time": "2022-02-23T19:49:51.211Z"
   },
   {
    "duration": 7,
    "start_time": "2022-02-23T19:49:51.226Z"
   },
   {
    "duration": 15383,
    "start_time": "2022-02-23T19:49:51.246Z"
   },
   {
    "duration": 18,
    "start_time": "2022-02-23T19:50:06.631Z"
   },
   {
    "duration": 10,
    "start_time": "2022-02-23T19:50:06.651Z"
   },
   {
    "duration": 38,
    "start_time": "2022-02-23T19:50:06.663Z"
   },
   {
    "duration": 7,
    "start_time": "2022-02-23T19:50:06.703Z"
   },
   {
    "duration": 87,
    "start_time": "2022-02-23T19:50:06.712Z"
   },
   {
    "duration": 10,
    "start_time": "2022-02-23T19:50:06.801Z"
   },
   {
    "duration": 14,
    "start_time": "2022-02-23T19:50:06.813Z"
   },
   {
    "duration": 401,
    "start_time": "2022-02-23T19:50:06.828Z"
   },
   {
    "duration": 4,
    "start_time": "2022-02-23T19:50:07.230Z"
   },
   {
    "duration": 5,
    "start_time": "2022-02-23T19:50:07.235Z"
   },
   {
    "duration": 5,
    "start_time": "2022-02-23T19:50:07.241Z"
   },
   {
    "duration": 23,
    "start_time": "2022-02-23T19:50:07.247Z"
   },
   {
    "duration": 26,
    "start_time": "2022-02-23T19:50:07.272Z"
   },
   {
    "duration": 25,
    "start_time": "2022-02-23T19:50:07.346Z"
   },
   {
    "duration": 79,
    "start_time": "2022-02-23T19:50:07.372Z"
   },
   {
    "duration": 7,
    "start_time": "2022-02-23T19:50:07.452Z"
   },
   {
    "duration": 14,
    "start_time": "2022-02-23T19:50:07.460Z"
   },
   {
    "duration": 6,
    "start_time": "2022-02-23T19:50:07.475Z"
   },
   {
    "duration": 5,
    "start_time": "2022-02-23T19:50:07.482Z"
   },
   {
    "duration": 16,
    "start_time": "2022-02-23T19:50:07.489Z"
   },
   {
    "duration": 42,
    "start_time": "2022-02-23T19:50:07.507Z"
   },
   {
    "duration": 70,
    "start_time": "2022-02-23T19:50:07.550Z"
   },
   {
    "duration": 99,
    "start_time": "2022-02-23T19:50:07.622Z"
   },
   {
    "duration": 83,
    "start_time": "2022-02-23T19:50:07.723Z"
   },
   {
    "duration": 8304,
    "start_time": "2022-02-23T19:50:07.808Z"
   },
   {
    "duration": -271,
    "start_time": "2022-02-23T19:50:16.385Z"
   },
   {
    "duration": 5,
    "start_time": "2022-02-23T19:52:31.650Z"
   },
   {
    "duration": 661,
    "start_time": "2022-02-23T19:52:33.230Z"
   },
   {
    "duration": 5,
    "start_time": "2022-02-23T19:53:44.200Z"
   },
   {
    "duration": 11,
    "start_time": "2022-02-23T19:53:45.084Z"
   },
   {
    "duration": 21,
    "start_time": "2022-02-23T19:53:46.642Z"
   },
   {
    "duration": 72,
    "start_time": "2022-02-23T19:53:49.276Z"
   },
   {
    "duration": 81,
    "start_time": "2022-02-23T19:53:51.194Z"
   },
   {
    "duration": 73,
    "start_time": "2022-02-23T19:53:52.604Z"
   },
   {
    "duration": 6,
    "start_time": "2022-02-23T20:03:16.885Z"
   },
   {
    "duration": 683,
    "start_time": "2022-02-23T20:03:17.816Z"
   },
   {
    "duration": 335,
    "start_time": "2022-02-23T20:04:01.382Z"
   },
   {
    "duration": 5,
    "start_time": "2022-02-23T20:04:04.818Z"
   },
   {
    "duration": 321,
    "start_time": "2022-02-23T20:04:08.590Z"
   },
   {
    "duration": 327,
    "start_time": "2022-02-23T20:04:35.362Z"
   },
   {
    "duration": 148,
    "start_time": "2022-02-23T20:20:21.137Z"
   },
   {
    "duration": 137,
    "start_time": "2022-02-23T20:20:22.211Z"
   },
   {
    "duration": 3,
    "start_time": "2022-02-23T20:28:04.513Z"
   },
   {
    "duration": 2576,
    "start_time": "2022-02-23T20:28:04.518Z"
   },
   {
    "duration": 2504,
    "start_time": "2022-02-23T20:28:07.097Z"
   },
   {
    "duration": 2950,
    "start_time": "2022-02-23T20:28:09.603Z"
   },
   {
    "duration": 1536,
    "start_time": "2022-02-23T20:28:12.554Z"
   },
   {
    "duration": 126,
    "start_time": "2022-02-23T20:28:14.092Z"
   },
   {
    "duration": 15,
    "start_time": "2022-02-23T20:28:14.219Z"
   },
   {
    "duration": 33,
    "start_time": "2022-02-23T20:28:14.235Z"
   },
   {
    "duration": 12,
    "start_time": "2022-02-23T20:28:14.270Z"
   },
   {
    "duration": 153,
    "start_time": "2022-02-23T20:28:14.284Z"
   },
   {
    "duration": 19,
    "start_time": "2022-02-23T20:28:14.438Z"
   },
   {
    "duration": 70,
    "start_time": "2022-02-23T20:28:14.458Z"
   },
   {
    "duration": 61,
    "start_time": "2022-02-23T20:28:14.529Z"
   },
   {
    "duration": 69,
    "start_time": "2022-02-23T20:28:14.591Z"
   },
   {
    "duration": 246,
    "start_time": "2022-02-23T20:28:14.661Z"
   },
   {
    "duration": 50,
    "start_time": "2022-02-23T20:28:14.908Z"
   },
   {
    "duration": 140,
    "start_time": "2022-02-23T20:28:14.959Z"
   },
   {
    "duration": 14,
    "start_time": "2022-02-23T20:28:15.101Z"
   },
   {
    "duration": 5,
    "start_time": "2022-02-23T20:28:15.116Z"
   },
   {
    "duration": 47,
    "start_time": "2022-02-23T20:28:15.122Z"
   },
   {
    "duration": 146,
    "start_time": "2022-02-23T20:28:15.171Z"
   },
   {
    "duration": 147,
    "start_time": "2022-02-23T20:28:15.318Z"
   },
   {
    "duration": 533,
    "start_time": "2022-02-23T20:28:15.467Z"
   },
   {
    "duration": 5,
    "start_time": "2022-02-23T20:28:16.002Z"
   },
   {
    "duration": 7,
    "start_time": "2022-02-23T20:28:16.008Z"
   },
   {
    "duration": 14,
    "start_time": "2022-02-23T20:28:16.017Z"
   },
   {
    "duration": 24,
    "start_time": "2022-02-23T20:28:16.049Z"
   },
   {
    "duration": 4,
    "start_time": "2022-02-23T20:28:16.075Z"
   },
   {
    "duration": 119,
    "start_time": "2022-02-23T20:28:16.081Z"
   },
   {
    "duration": 4,
    "start_time": "2022-02-23T20:28:16.202Z"
   },
   {
    "duration": 14,
    "start_time": "2022-02-23T20:28:16.208Z"
   },
   {
    "duration": 47,
    "start_time": "2022-02-23T20:28:16.224Z"
   },
   {
    "duration": 32,
    "start_time": "2022-02-23T20:28:16.272Z"
   },
   {
    "duration": 105,
    "start_time": "2022-02-23T20:28:16.305Z"
   },
   {
    "duration": 14,
    "start_time": "2022-02-23T20:28:16.412Z"
   },
   {
    "duration": 18,
    "start_time": "2022-02-23T20:28:16.428Z"
   },
   {
    "duration": 11,
    "start_time": "2022-02-23T20:28:16.448Z"
   },
   {
    "duration": 11,
    "start_time": "2022-02-23T20:28:16.460Z"
   },
   {
    "duration": 14914,
    "start_time": "2022-02-23T20:28:16.473Z"
   },
   {
    "duration": 14,
    "start_time": "2022-02-23T20:28:31.389Z"
   },
   {
    "duration": 14,
    "start_time": "2022-02-23T20:28:31.404Z"
   },
   {
    "duration": 55,
    "start_time": "2022-02-23T20:28:31.420Z"
   },
   {
    "duration": 10,
    "start_time": "2022-02-23T20:28:31.477Z"
   },
   {
    "duration": 90,
    "start_time": "2022-02-23T20:28:31.489Z"
   },
   {
    "duration": 10,
    "start_time": "2022-02-23T20:28:31.581Z"
   },
   {
    "duration": 10,
    "start_time": "2022-02-23T20:28:31.592Z"
   },
   {
    "duration": 384,
    "start_time": "2022-02-23T20:28:31.603Z"
   },
   {
    "duration": 3,
    "start_time": "2022-02-23T20:28:31.988Z"
   },
   {
    "duration": 4,
    "start_time": "2022-02-23T20:28:31.993Z"
   },
   {
    "duration": 5,
    "start_time": "2022-02-23T20:28:31.999Z"
   },
   {
    "duration": 57,
    "start_time": "2022-02-23T20:28:32.005Z"
   },
   {
    "duration": 90,
    "start_time": "2022-02-23T20:28:32.063Z"
   },
   {
    "duration": 32,
    "start_time": "2022-02-23T20:28:32.154Z"
   },
   {
    "duration": 90,
    "start_time": "2022-02-23T20:28:32.188Z"
   },
   {
    "duration": 6,
    "start_time": "2022-02-23T20:28:32.280Z"
   },
   {
    "duration": 14,
    "start_time": "2022-02-23T20:28:32.287Z"
   },
   {
    "duration": 6,
    "start_time": "2022-02-23T20:28:32.302Z"
   },
   {
    "duration": 6,
    "start_time": "2022-02-23T20:28:32.309Z"
   },
   {
    "duration": 34,
    "start_time": "2022-02-23T20:28:32.316Z"
   },
   {
    "duration": 19,
    "start_time": "2022-02-23T20:28:32.352Z"
   },
   {
    "duration": 93,
    "start_time": "2022-02-23T20:28:32.373Z"
   },
   {
    "duration": 91,
    "start_time": "2022-02-23T20:28:32.468Z"
   },
   {
    "duration": 92,
    "start_time": "2022-02-23T20:28:32.560Z"
   },
   {
    "duration": 5,
    "start_time": "2022-02-23T20:28:32.654Z"
   },
   {
    "duration": 767,
    "start_time": "2022-02-23T20:28:32.660Z"
   },
   {
    "duration": -4580,
    "start_time": "2022-02-23T20:28:38.009Z"
   },
   {
    "duration": 8300,
    "start_time": "2022-02-23T21:01:51.957Z"
   },
   {
    "duration": 3,
    "start_time": "2022-02-23T21:02:23.635Z"
   },
   {
    "duration": 2520,
    "start_time": "2022-02-23T21:02:23.640Z"
   },
   {
    "duration": 2260,
    "start_time": "2022-02-23T21:02:26.162Z"
   },
   {
    "duration": 2296,
    "start_time": "2022-02-23T21:02:28.424Z"
   },
   {
    "duration": 1525,
    "start_time": "2022-02-23T21:02:30.721Z"
   },
   {
    "duration": 117,
    "start_time": "2022-02-23T21:02:32.247Z"
   },
   {
    "duration": 16,
    "start_time": "2022-02-23T21:02:32.366Z"
   },
   {
    "duration": 15,
    "start_time": "2022-02-23T21:02:32.384Z"
   },
   {
    "duration": 12,
    "start_time": "2022-02-23T21:02:32.401Z"
   },
   {
    "duration": 164,
    "start_time": "2022-02-23T21:02:32.415Z"
   },
   {
    "duration": 15,
    "start_time": "2022-02-23T21:02:32.581Z"
   },
   {
    "duration": 88,
    "start_time": "2022-02-23T21:02:32.598Z"
   },
   {
    "duration": 47,
    "start_time": "2022-02-23T21:02:32.687Z"
   },
   {
    "duration": 51,
    "start_time": "2022-02-23T21:02:32.746Z"
   },
   {
    "duration": 219,
    "start_time": "2022-02-23T21:02:32.798Z"
   },
   {
    "duration": 53,
    "start_time": "2022-02-23T21:02:33.019Z"
   },
   {
    "duration": 137,
    "start_time": "2022-02-23T21:02:33.074Z"
   },
   {
    "duration": 14,
    "start_time": "2022-02-23T21:02:33.213Z"
   },
   {
    "duration": 5,
    "start_time": "2022-02-23T21:02:33.230Z"
   },
   {
    "duration": 31,
    "start_time": "2022-02-23T21:02:33.247Z"
   },
   {
    "duration": 148,
    "start_time": "2022-02-23T21:02:33.280Z"
   },
   {
    "duration": 146,
    "start_time": "2022-02-23T21:02:33.430Z"
   },
   {
    "duration": 537,
    "start_time": "2022-02-23T21:02:33.578Z"
   },
   {
    "duration": 5,
    "start_time": "2022-02-23T21:02:34.116Z"
   },
   {
    "duration": 10,
    "start_time": "2022-02-23T21:02:34.122Z"
   },
   {
    "duration": 21,
    "start_time": "2022-02-23T21:02:34.134Z"
   },
   {
    "duration": 24,
    "start_time": "2022-02-23T21:02:34.156Z"
   },
   {
    "duration": 4,
    "start_time": "2022-02-23T21:02:34.182Z"
   },
   {
    "duration": 123,
    "start_time": "2022-02-23T21:02:34.187Z"
   },
   {
    "duration": 4,
    "start_time": "2022-02-23T21:02:34.312Z"
   },
   {
    "duration": 14,
    "start_time": "2022-02-23T21:02:34.318Z"
   },
   {
    "duration": 30,
    "start_time": "2022-02-23T21:02:34.346Z"
   },
   {
    "duration": 32,
    "start_time": "2022-02-23T21:02:34.378Z"
   },
   {
    "duration": 109,
    "start_time": "2022-02-23T21:02:34.412Z"
   },
   {
    "duration": 12,
    "start_time": "2022-02-23T21:02:34.522Z"
   },
   {
    "duration": 11,
    "start_time": "2022-02-23T21:02:34.535Z"
   },
   {
    "duration": 10,
    "start_time": "2022-02-23T21:02:34.548Z"
   },
   {
    "duration": 6,
    "start_time": "2022-02-23T21:02:34.560Z"
   },
   {
    "duration": 14791,
    "start_time": "2022-02-23T21:02:34.567Z"
   },
   {
    "duration": 12,
    "start_time": "2022-02-23T21:02:49.360Z"
   },
   {
    "duration": 22,
    "start_time": "2022-02-23T21:02:49.374Z"
   },
   {
    "duration": 44,
    "start_time": "2022-02-23T21:02:49.397Z"
   },
   {
    "duration": 7,
    "start_time": "2022-02-23T21:02:49.443Z"
   },
   {
    "duration": 74,
    "start_time": "2022-02-23T21:02:49.452Z"
   },
   {
    "duration": 23,
    "start_time": "2022-02-23T21:02:49.527Z"
   },
   {
    "duration": 385,
    "start_time": "2022-02-23T21:02:49.551Z"
   },
   {
    "duration": 3,
    "start_time": "2022-02-23T21:02:49.937Z"
   },
   {
    "duration": 9,
    "start_time": "2022-02-23T21:02:49.942Z"
   },
   {
    "duration": 4,
    "start_time": "2022-02-23T21:02:49.952Z"
   },
   {
    "duration": 21,
    "start_time": "2022-02-23T21:02:49.958Z"
   },
   {
    "duration": 77,
    "start_time": "2022-02-23T21:02:49.980Z"
   },
   {
    "duration": 26,
    "start_time": "2022-02-23T21:02:50.058Z"
   },
   {
    "duration": 87,
    "start_time": "2022-02-23T21:02:50.085Z"
   },
   {
    "duration": 7,
    "start_time": "2022-02-23T21:02:50.173Z"
   },
   {
    "duration": 8351,
    "start_time": "2022-02-23T21:02:50.183Z"
   },
   {
    "duration": -38835,
    "start_time": "2022-02-23T21:03:37.372Z"
   },
   {
    "duration": -38837,
    "start_time": "2022-02-23T21:03:37.375Z"
   },
   {
    "duration": -38841,
    "start_time": "2022-02-23T21:03:37.380Z"
   },
   {
    "duration": -38844,
    "start_time": "2022-02-23T21:03:37.384Z"
   },
   {
    "duration": -38846,
    "start_time": "2022-02-23T21:03:37.388Z"
   },
   {
    "duration": -38880,
    "start_time": "2022-02-23T21:03:37.423Z"
   },
   {
    "duration": -38887,
    "start_time": "2022-02-23T21:03:37.432Z"
   },
   {
    "duration": -38894,
    "start_time": "2022-02-23T21:03:37.440Z"
   },
   {
    "duration": -38900,
    "start_time": "2022-02-23T21:03:37.447Z"
   },
   {
    "duration": -38903,
    "start_time": "2022-02-23T21:03:37.452Z"
   },
   {
    "duration": 9178,
    "start_time": "2022-02-23T21:06:04.903Z"
   },
   {
    "duration": 69,
    "start_time": "2022-02-23T21:07:15.806Z"
   },
   {
    "duration": 8,
    "start_time": "2022-02-23T21:07:19.226Z"
   },
   {
    "duration": 52,
    "start_time": "2022-02-23T21:07:21.287Z"
   },
   {
    "duration": 3,
    "start_time": "2022-02-23T21:07:23.957Z"
   },
   {
    "duration": 7,
    "start_time": "2022-02-23T21:07:23.962Z"
   },
   {
    "duration": 6,
    "start_time": "2022-02-23T21:07:23.970Z"
   },
   {
    "duration": 20,
    "start_time": "2022-02-23T21:07:26.824Z"
   },
   {
    "duration": 36,
    "start_time": "2022-02-23T21:07:28.695Z"
   },
   {
    "duration": 25,
    "start_time": "2022-02-23T21:07:30.501Z"
   },
   {
    "duration": 34,
    "start_time": "2022-02-23T21:07:31.143Z"
   },
   {
    "duration": 7,
    "start_time": "2022-02-23T21:07:32.239Z"
   },
   {
    "duration": 7952,
    "start_time": "2022-02-23T21:08:03.599Z"
   },
   {
    "duration": 363,
    "start_time": "2022-02-23T21:08:33.026Z"
   },
   {
    "duration": 7998,
    "start_time": "2022-02-23T21:08:55.764Z"
   },
   {
    "duration": 5,
    "start_time": "2022-02-23T21:09:27.042Z"
   },
   {
    "duration": 12,
    "start_time": "2022-02-23T21:09:28.400Z"
   },
   {
    "duration": 20,
    "start_time": "2022-02-23T21:09:34.128Z"
   },
   {
    "duration": 78,
    "start_time": "2022-02-23T21:09:45.976Z"
   },
   {
    "duration": 76,
    "start_time": "2022-02-23T21:09:48.088Z"
   },
   {
    "duration": 83,
    "start_time": "2022-02-23T21:09:51.279Z"
   },
   {
    "duration": 5,
    "start_time": "2022-02-23T21:09:52.317Z"
   },
   {
    "duration": 3,
    "start_time": "2022-02-23T21:13:32.328Z"
   },
   {
    "duration": 2539,
    "start_time": "2022-02-23T21:13:32.333Z"
   },
   {
    "duration": 2365,
    "start_time": "2022-02-23T21:13:34.874Z"
   },
   {
    "duration": 2290,
    "start_time": "2022-02-23T21:13:37.241Z"
   },
   {
    "duration": 1577,
    "start_time": "2022-02-23T21:13:39.533Z"
   },
   {
    "duration": 113,
    "start_time": "2022-02-23T21:13:41.112Z"
   },
   {
    "duration": 18,
    "start_time": "2022-02-23T21:13:41.227Z"
   },
   {
    "duration": 13,
    "start_time": "2022-02-23T21:13:41.247Z"
   },
   {
    "duration": 10,
    "start_time": "2022-02-23T21:13:41.262Z"
   },
   {
    "duration": 155,
    "start_time": "2022-02-23T21:13:41.274Z"
   },
   {
    "duration": 17,
    "start_time": "2022-02-23T21:13:41.430Z"
   },
   {
    "duration": 70,
    "start_time": "2022-02-23T21:13:41.448Z"
   },
   {
    "duration": 64,
    "start_time": "2022-02-23T21:13:41.520Z"
   },
   {
    "duration": 61,
    "start_time": "2022-02-23T21:13:41.586Z"
   },
   {
    "duration": 215,
    "start_time": "2022-02-23T21:13:41.649Z"
   },
   {
    "duration": 45,
    "start_time": "2022-02-23T21:13:41.866Z"
   },
   {
    "duration": 149,
    "start_time": "2022-02-23T21:13:41.913Z"
   },
   {
    "duration": 14,
    "start_time": "2022-02-23T21:13:42.064Z"
   },
   {
    "duration": 5,
    "start_time": "2022-02-23T21:13:42.081Z"
   },
   {
    "duration": 37,
    "start_time": "2022-02-23T21:13:42.089Z"
   },
   {
    "duration": 161,
    "start_time": "2022-02-23T21:13:42.128Z"
   },
   {
    "duration": 143,
    "start_time": "2022-02-23T21:13:42.291Z"
   },
   {
    "duration": 540,
    "start_time": "2022-02-23T21:13:42.435Z"
   },
   {
    "duration": 5,
    "start_time": "2022-02-23T21:13:42.976Z"
   },
   {
    "duration": 8,
    "start_time": "2022-02-23T21:13:42.982Z"
   },
   {
    "duration": 15,
    "start_time": "2022-02-23T21:13:42.991Z"
   },
   {
    "duration": 43,
    "start_time": "2022-02-23T21:13:43.008Z"
   },
   {
    "duration": 4,
    "start_time": "2022-02-23T21:13:43.053Z"
   },
   {
    "duration": 118,
    "start_time": "2022-02-23T21:13:43.058Z"
   },
   {
    "duration": 4,
    "start_time": "2022-02-23T21:13:43.178Z"
   },
   {
    "duration": 16,
    "start_time": "2022-02-23T21:13:43.184Z"
   },
   {
    "duration": 29,
    "start_time": "2022-02-23T21:13:43.201Z"
   },
   {
    "duration": 32,
    "start_time": "2022-02-23T21:13:43.246Z"
   },
   {
    "duration": 106,
    "start_time": "2022-02-23T21:13:43.279Z"
   },
   {
    "duration": 12,
    "start_time": "2022-02-23T21:13:43.386Z"
   },
   {
    "duration": 7,
    "start_time": "2022-02-23T21:13:43.400Z"
   },
   {
    "duration": 8,
    "start_time": "2022-02-23T21:13:43.409Z"
   },
   {
    "duration": 7,
    "start_time": "2022-02-23T21:13:43.419Z"
   },
   {
    "duration": 14753,
    "start_time": "2022-02-23T21:13:43.446Z"
   },
   {
    "duration": 12,
    "start_time": "2022-02-23T21:13:58.201Z"
   },
   {
    "duration": 12,
    "start_time": "2022-02-23T21:13:58.214Z"
   },
   {
    "duration": 46,
    "start_time": "2022-02-23T21:13:58.227Z"
   },
   {
    "duration": 7,
    "start_time": "2022-02-23T21:13:58.274Z"
   },
   {
    "duration": 86,
    "start_time": "2022-02-23T21:13:58.282Z"
   },
   {
    "duration": 11,
    "start_time": "2022-02-23T21:13:58.369Z"
   },
   {
    "duration": 7,
    "start_time": "2022-02-23T21:13:58.381Z"
   },
   {
    "duration": 413,
    "start_time": "2022-02-23T21:13:58.390Z"
   },
   {
    "duration": 3,
    "start_time": "2022-02-23T21:13:58.805Z"
   },
   {
    "duration": 8,
    "start_time": "2022-02-23T21:13:58.810Z"
   },
   {
    "duration": 6,
    "start_time": "2022-02-23T21:13:58.819Z"
   },
   {
    "duration": 35,
    "start_time": "2022-02-23T21:13:58.827Z"
   },
   {
    "duration": 83,
    "start_time": "2022-02-23T21:13:58.864Z"
   },
   {
    "duration": 25,
    "start_time": "2022-02-23T21:13:58.949Z"
   },
   {
    "duration": 75,
    "start_time": "2022-02-23T21:13:58.975Z"
   },
   {
    "duration": 6,
    "start_time": "2022-02-23T21:13:59.056Z"
   },
   {
    "duration": 8249,
    "start_time": "2022-02-23T21:13:59.064Z"
   },
   {
    "duration": -247,
    "start_time": "2022-02-23T21:14:07.562Z"
   },
   {
    "duration": -250,
    "start_time": "2022-02-23T21:14:07.566Z"
   },
   {
    "duration": -254,
    "start_time": "2022-02-23T21:14:07.571Z"
   },
   {
    "duration": -257,
    "start_time": "2022-02-23T21:14:07.575Z"
   },
   {
    "duration": -260,
    "start_time": "2022-02-23T21:14:07.579Z"
   },
   {
    "duration": -263,
    "start_time": "2022-02-23T21:14:07.583Z"
   },
   {
    "duration": -266,
    "start_time": "2022-02-23T21:14:07.587Z"
   },
   {
    "duration": -269,
    "start_time": "2022-02-23T21:14:07.591Z"
   },
   {
    "duration": -272,
    "start_time": "2022-02-23T21:14:07.595Z"
   },
   {
    "duration": -275,
    "start_time": "2022-02-23T21:14:07.599Z"
   },
   {
    "duration": 14,
    "start_time": "2022-02-23T21:15:00.623Z"
   },
   {
    "duration": 8,
    "start_time": "2022-02-23T21:15:01.514Z"
   },
   {
    "duration": 8,
    "start_time": "2022-02-23T21:15:39.118Z"
   },
   {
    "duration": 13,
    "start_time": "2022-02-23T21:15:39.447Z"
   },
   {
    "duration": 24,
    "start_time": "2022-02-23T21:15:39.940Z"
   },
   {
    "duration": 114,
    "start_time": "2022-02-23T21:15:40.290Z"
   },
   {
    "duration": 113,
    "start_time": "2022-02-23T21:15:40.674Z"
   },
   {
    "duration": 124,
    "start_time": "2022-02-23T21:15:40.874Z"
   },
   {
    "duration": 13,
    "start_time": "2022-02-23T21:15:41.075Z"
   },
   {
    "duration": 1399,
    "start_time": "2022-02-23T21:15:41.275Z"
   },
   {
    "duration": 5,
    "start_time": "2022-02-23T21:16:21.641Z"
   },
   {
    "duration": 4,
    "start_time": "2022-02-23T21:23:29.773Z"
   },
   {
    "duration": 370,
    "start_time": "2022-02-23T21:25:04.037Z"
   },
   {
    "duration": 322,
    "start_time": "2022-02-23T21:25:34.251Z"
   },
   {
    "duration": 120,
    "start_time": "2022-02-23T21:33:26.812Z"
   },
   {
    "duration": 107,
    "start_time": "2022-02-23T21:34:07.762Z"
   },
   {
    "duration": 240,
    "start_time": "2022-02-23T21:38:33.157Z"
   },
   {
    "duration": 330,
    "start_time": "2022-02-23T21:38:40.962Z"
   },
   {
    "duration": 43,
    "start_time": "2022-02-23T21:38:52.420Z"
   },
   {
    "duration": 321,
    "start_time": "2022-02-23T21:39:55.486Z"
   },
   {
    "duration": 21,
    "start_time": "2022-02-23T21:41:02.578Z"
   },
   {
    "duration": 11,
    "start_time": "2022-02-23T21:43:26.152Z"
   },
   {
    "duration": 12,
    "start_time": "2022-02-23T21:43:32.852Z"
   },
   {
    "duration": 2,
    "start_time": "2022-02-23T21:44:12.844Z"
   },
   {
    "duration": 3,
    "start_time": "2022-02-23T21:44:22.512Z"
   },
   {
    "duration": 332,
    "start_time": "2022-02-23T21:44:48.506Z"
   },
   {
    "duration": 17,
    "start_time": "2022-02-23T21:44:58.540Z"
   },
   {
    "duration": 8634,
    "start_time": "2022-02-23T21:47:03.870Z"
   },
   {
    "duration": 349,
    "start_time": "2022-02-23T21:47:22.393Z"
   },
   {
    "duration": 697,
    "start_time": "2022-02-23T21:47:30.379Z"
   },
   {
    "duration": 8613,
    "start_time": "2022-02-23T21:49:27.652Z"
   },
   {
    "duration": 5,
    "start_time": "2022-02-23T22:09:55.202Z"
   },
   {
    "duration": 17,
    "start_time": "2022-02-23T22:09:56.375Z"
   },
   {
    "duration": 3,
    "start_time": "2022-02-24T07:59:25.457Z"
   },
   {
    "duration": 3,
    "start_time": "2022-02-24T08:01:03.256Z"
   },
   {
    "duration": 6764,
    "start_time": "2022-02-24T08:01:03.262Z"
   },
   {
    "duration": 23734,
    "start_time": "2022-02-24T08:01:10.029Z"
   },
   {
    "duration": 2889,
    "start_time": "2022-02-24T08:01:33.765Z"
   },
   {
    "duration": 2128,
    "start_time": "2022-02-24T08:01:36.656Z"
   },
   {
    "duration": 116,
    "start_time": "2022-02-24T08:01:38.785Z"
   },
   {
    "duration": 211,
    "start_time": "2022-02-24T08:01:38.903Z"
   },
   {
    "duration": 14,
    "start_time": "2022-02-24T08:01:39.117Z"
   },
   {
    "duration": 11,
    "start_time": "2022-02-24T08:01:39.133Z"
   },
   {
    "duration": 148,
    "start_time": "2022-02-24T08:01:39.146Z"
   },
   {
    "duration": 14,
    "start_time": "2022-02-24T08:01:39.296Z"
   },
   {
    "duration": 78,
    "start_time": "2022-02-24T08:01:39.312Z"
   },
   {
    "duration": 62,
    "start_time": "2022-02-24T08:01:39.392Z"
   },
   {
    "duration": 53,
    "start_time": "2022-02-24T08:01:39.456Z"
   },
   {
    "duration": 224,
    "start_time": "2022-02-24T08:01:39.511Z"
   },
   {
    "duration": 44,
    "start_time": "2022-02-24T08:01:39.736Z"
   },
   {
    "duration": 145,
    "start_time": "2022-02-24T08:01:39.781Z"
   },
   {
    "duration": 14,
    "start_time": "2022-02-24T08:01:39.928Z"
   },
   {
    "duration": 5,
    "start_time": "2022-02-24T08:01:39.944Z"
   },
   {
    "duration": 32,
    "start_time": "2022-02-24T08:01:39.951Z"
   },
   {
    "duration": 165,
    "start_time": "2022-02-24T08:01:39.985Z"
   },
   {
    "duration": 146,
    "start_time": "2022-02-24T08:01:40.151Z"
   },
   {
    "duration": 660,
    "start_time": "2022-02-24T08:01:40.300Z"
   },
   {
    "duration": 6,
    "start_time": "2022-02-24T08:01:40.962Z"
   },
   {
    "duration": 6,
    "start_time": "2022-02-24T08:01:40.969Z"
   },
   {
    "duration": 20,
    "start_time": "2022-02-24T08:01:40.977Z"
   },
   {
    "duration": 23,
    "start_time": "2022-02-24T08:01:40.999Z"
   },
   {
    "duration": 4,
    "start_time": "2022-02-24T08:01:41.032Z"
   },
   {
    "duration": 116,
    "start_time": "2022-02-24T08:01:41.037Z"
   },
   {
    "duration": 5,
    "start_time": "2022-02-24T08:01:41.155Z"
   },
   {
    "duration": 14,
    "start_time": "2022-02-24T08:01:41.162Z"
   },
   {
    "duration": 30,
    "start_time": "2022-02-24T08:01:41.178Z"
   },
   {
    "duration": 51,
    "start_time": "2022-02-24T08:01:41.210Z"
   },
   {
    "duration": 99,
    "start_time": "2022-02-24T08:01:41.262Z"
   },
   {
    "duration": 12,
    "start_time": "2022-02-24T08:01:41.362Z"
   },
   {
    "duration": 3,
    "start_time": "2022-02-24T08:01:41.376Z"
   },
   {
    "duration": 9,
    "start_time": "2022-02-24T08:01:41.381Z"
   },
   {
    "duration": 6,
    "start_time": "2022-02-24T08:01:41.392Z"
   },
   {
    "duration": 15020,
    "start_time": "2022-02-24T08:01:41.399Z"
   },
   {
    "duration": 18,
    "start_time": "2022-02-24T08:01:56.420Z"
   },
   {
    "duration": 10,
    "start_time": "2022-02-24T08:01:56.439Z"
   },
   {
    "duration": 32,
    "start_time": "2022-02-24T08:01:56.451Z"
   },
   {
    "duration": 6,
    "start_time": "2022-02-24T08:01:56.485Z"
   },
   {
    "duration": 83,
    "start_time": "2022-02-24T08:01:56.493Z"
   },
   {
    "duration": 11,
    "start_time": "2022-02-24T08:01:56.577Z"
   },
   {
    "duration": 8,
    "start_time": "2022-02-24T08:01:56.589Z"
   },
   {
    "duration": 401,
    "start_time": "2022-02-24T08:01:56.599Z"
   },
   {
    "duration": 3,
    "start_time": "2022-02-24T08:01:57.002Z"
   },
   {
    "duration": 9,
    "start_time": "2022-02-24T08:01:57.007Z"
   },
   {
    "duration": 5,
    "start_time": "2022-02-24T08:01:57.017Z"
   },
   {
    "duration": 23,
    "start_time": "2022-02-24T08:01:57.023Z"
   },
   {
    "duration": 25,
    "start_time": "2022-02-24T08:01:57.048Z"
   },
   {
    "duration": 76,
    "start_time": "2022-02-24T08:01:57.075Z"
   },
   {
    "duration": 85,
    "start_time": "2022-02-24T08:01:57.153Z"
   },
   {
    "duration": 6,
    "start_time": "2022-02-24T08:01:57.240Z"
   },
   {
    "duration": 17,
    "start_time": "2022-02-24T08:01:57.247Z"
   },
   {
    "duration": 9,
    "start_time": "2022-02-24T08:01:57.265Z"
   },
   {
    "duration": 6,
    "start_time": "2022-02-24T08:01:57.275Z"
   },
   {
    "duration": 12,
    "start_time": "2022-02-24T08:01:57.282Z"
   },
   {
    "duration": 42,
    "start_time": "2022-02-24T08:01:57.296Z"
   },
   {
    "duration": 4,
    "start_time": "2022-02-24T08:01:57.339Z"
   },
   {
    "duration": 12,
    "start_time": "2022-02-24T08:01:57.344Z"
   },
   {
    "duration": 17,
    "start_time": "2022-02-24T08:01:57.357Z"
   },
   {
    "duration": 92,
    "start_time": "2022-02-24T08:01:57.376Z"
   },
   {
    "duration": 77,
    "start_time": "2022-02-24T08:01:57.470Z"
   },
   {
    "duration": 83,
    "start_time": "2022-02-24T08:01:57.549Z"
   },
   {
    "duration": 5,
    "start_time": "2022-02-24T08:01:57.634Z"
   },
   {
    "duration": 18,
    "start_time": "2022-02-24T08:01:57.643Z"
   },
   {
    "duration": 3,
    "start_time": "2022-02-24T08:02:38.343Z"
   },
   {
    "duration": 2481,
    "start_time": "2022-02-24T08:02:38.348Z"
   },
   {
    "duration": 2378,
    "start_time": "2022-02-24T08:02:40.831Z"
   },
   {
    "duration": 2337,
    "start_time": "2022-02-24T08:02:43.212Z"
   },
   {
    "duration": 1487,
    "start_time": "2022-02-24T08:02:45.552Z"
   },
   {
    "duration": 111,
    "start_time": "2022-02-24T08:02:47.040Z"
   },
   {
    "duration": 16,
    "start_time": "2022-02-24T08:02:47.152Z"
   },
   {
    "duration": 14,
    "start_time": "2022-02-24T08:02:47.170Z"
   },
   {
    "duration": 10,
    "start_time": "2022-02-24T08:02:47.186Z"
   },
   {
    "duration": 159,
    "start_time": "2022-02-24T08:02:47.198Z"
   },
   {
    "duration": 13,
    "start_time": "2022-02-24T08:02:47.359Z"
   },
   {
    "duration": 81,
    "start_time": "2022-02-24T08:02:47.373Z"
   },
   {
    "duration": 44,
    "start_time": "2022-02-24T08:02:47.455Z"
   },
   {
    "duration": 61,
    "start_time": "2022-02-24T08:02:47.501Z"
   },
   {
    "duration": 208,
    "start_time": "2022-02-24T08:02:47.564Z"
   },
   {
    "duration": 42,
    "start_time": "2022-02-24T08:02:47.774Z"
   },
   {
    "duration": 137,
    "start_time": "2022-02-24T08:02:47.817Z"
   },
   {
    "duration": 13,
    "start_time": "2022-02-24T08:02:47.956Z"
   },
   {
    "duration": 5,
    "start_time": "2022-02-24T08:02:47.971Z"
   },
   {
    "duration": 31,
    "start_time": "2022-02-24T08:02:47.978Z"
   },
   {
    "duration": 137,
    "start_time": "2022-02-24T08:02:48.032Z"
   },
   {
    "duration": 144,
    "start_time": "2022-02-24T08:02:48.171Z"
   },
   {
    "duration": 550,
    "start_time": "2022-02-24T08:02:48.316Z"
   },
   {
    "duration": 4,
    "start_time": "2022-02-24T08:02:48.870Z"
   },
   {
    "duration": 4,
    "start_time": "2022-02-24T08:02:48.877Z"
   },
   {
    "duration": 14,
    "start_time": "2022-02-24T08:02:48.883Z"
   },
   {
    "duration": 49,
    "start_time": "2022-02-24T08:02:48.898Z"
   },
   {
    "duration": 4,
    "start_time": "2022-02-24T08:02:48.949Z"
   },
   {
    "duration": 112,
    "start_time": "2022-02-24T08:02:48.954Z"
   },
   {
    "duration": 4,
    "start_time": "2022-02-24T08:02:49.067Z"
   },
   {
    "duration": 15,
    "start_time": "2022-02-24T08:02:49.073Z"
   },
   {
    "duration": 50,
    "start_time": "2022-02-24T08:02:49.089Z"
   },
   {
    "duration": 32,
    "start_time": "2022-02-24T08:02:49.141Z"
   },
   {
    "duration": 101,
    "start_time": "2022-02-24T08:02:49.174Z"
   },
   {
    "duration": 11,
    "start_time": "2022-02-24T08:02:49.277Z"
   },
   {
    "duration": 2,
    "start_time": "2022-02-24T08:02:49.290Z"
   },
   {
    "duration": 11,
    "start_time": "2022-02-24T08:02:49.293Z"
   },
   {
    "duration": 7,
    "start_time": "2022-02-24T08:02:49.305Z"
   },
   {
    "duration": 15134,
    "start_time": "2022-02-24T08:02:49.313Z"
   },
   {
    "duration": 14,
    "start_time": "2022-02-24T08:03:04.449Z"
   },
   {
    "duration": 11,
    "start_time": "2022-02-24T08:03:04.464Z"
   },
   {
    "duration": 36,
    "start_time": "2022-02-24T08:03:04.477Z"
   },
   {
    "duration": 24,
    "start_time": "2022-02-24T08:03:04.514Z"
   },
   {
    "duration": 68,
    "start_time": "2022-02-24T08:03:04.539Z"
   },
   {
    "duration": 29,
    "start_time": "2022-02-24T08:03:04.608Z"
   },
   {
    "duration": 8,
    "start_time": "2022-02-24T08:03:04.638Z"
   },
   {
    "duration": 393,
    "start_time": "2022-02-24T08:03:04.647Z"
   },
   {
    "duration": 4,
    "start_time": "2022-02-24T08:03:05.041Z"
   },
   {
    "duration": 6,
    "start_time": "2022-02-24T08:03:05.046Z"
   },
   {
    "duration": 4,
    "start_time": "2022-02-24T08:03:05.054Z"
   },
   {
    "duration": 73,
    "start_time": "2022-02-24T08:03:05.060Z"
   },
   {
    "duration": 28,
    "start_time": "2022-02-24T08:03:05.134Z"
   },
   {
    "duration": 76,
    "start_time": "2022-02-24T08:03:05.164Z"
   },
   {
    "duration": 33,
    "start_time": "2022-02-24T08:03:05.242Z"
   },
   {
    "duration": 7,
    "start_time": "2022-02-24T08:03:05.276Z"
   },
   {
    "duration": 48,
    "start_time": "2022-02-24T08:03:05.284Z"
   },
   {
    "duration": 7,
    "start_time": "2022-02-24T08:03:05.333Z"
   },
   {
    "duration": 7,
    "start_time": "2022-02-24T08:03:05.341Z"
   },
   {
    "duration": 13,
    "start_time": "2022-02-24T08:03:05.349Z"
   },
   {
    "duration": 10,
    "start_time": "2022-02-24T08:03:05.364Z"
   },
   {
    "duration": 4,
    "start_time": "2022-02-24T08:03:05.375Z"
   },
   {
    "duration": 11,
    "start_time": "2022-02-24T08:03:05.380Z"
   },
   {
    "duration": 53,
    "start_time": "2022-02-24T08:03:05.393Z"
   },
   {
    "duration": 70,
    "start_time": "2022-02-24T08:03:05.448Z"
   },
   {
    "duration": 80,
    "start_time": "2022-02-24T08:03:05.531Z"
   },
   {
    "duration": 92,
    "start_time": "2022-02-24T08:03:05.613Z"
   },
   {
    "duration": 5,
    "start_time": "2022-02-24T08:03:05.706Z"
   },
   {
    "duration": 32,
    "start_time": "2022-02-24T08:03:05.713Z"
   },
   {
    "duration": 3,
    "start_time": "2022-02-25T06:10:13.038Z"
   },
   {
    "duration": 66358,
    "start_time": "2022-02-25T06:10:13.045Z"
   },
   {
    "duration": 73898,
    "start_time": "2022-02-25T06:11:19.406Z"
   },
   {
    "duration": 47629,
    "start_time": "2022-02-25T06:12:33.307Z"
   },
   {
    "duration": 1861,
    "start_time": "2022-02-25T06:13:20.938Z"
   },
   {
    "duration": 628,
    "start_time": "2022-02-25T06:13:22.801Z"
   },
   {
    "duration": 18,
    "start_time": "2022-02-25T06:13:23.431Z"
   },
   {
    "duration": 18,
    "start_time": "2022-02-25T06:13:23.451Z"
   },
   {
    "duration": 12,
    "start_time": "2022-02-25T06:13:23.473Z"
   },
   {
    "duration": 186,
    "start_time": "2022-02-25T06:13:23.488Z"
   },
   {
    "duration": 18,
    "start_time": "2022-02-25T06:13:23.676Z"
   },
   {
    "duration": 96,
    "start_time": "2022-02-25T06:13:23.696Z"
   },
   {
    "duration": 60,
    "start_time": "2022-02-25T06:13:23.794Z"
   },
   {
    "duration": 66,
    "start_time": "2022-02-25T06:13:23.855Z"
   },
   {
    "duration": 254,
    "start_time": "2022-02-25T06:13:23.923Z"
   },
   {
    "duration": 62,
    "start_time": "2022-02-25T06:13:24.179Z"
   },
   {
    "duration": 155,
    "start_time": "2022-02-25T06:13:24.243Z"
   },
   {
    "duration": 20,
    "start_time": "2022-02-25T06:13:24.400Z"
   },
   {
    "duration": 5,
    "start_time": "2022-02-25T06:13:24.421Z"
   },
   {
    "duration": 40,
    "start_time": "2022-02-25T06:13:24.428Z"
   },
   {
    "duration": 178,
    "start_time": "2022-02-25T06:13:24.470Z"
   },
   {
    "duration": 160,
    "start_time": "2022-02-25T06:13:24.650Z"
   },
   {
    "duration": 656,
    "start_time": "2022-02-25T06:13:24.812Z"
   },
   {
    "duration": 6,
    "start_time": "2022-02-25T06:13:25.471Z"
   },
   {
    "duration": 6,
    "start_time": "2022-02-25T06:13:25.479Z"
   },
   {
    "duration": 19,
    "start_time": "2022-02-25T06:13:25.486Z"
   },
   {
    "duration": 37,
    "start_time": "2022-02-25T06:13:25.506Z"
   },
   {
    "duration": 4,
    "start_time": "2022-02-25T06:13:25.545Z"
   },
   {
    "duration": 131,
    "start_time": "2022-02-25T06:13:25.551Z"
   },
   {
    "duration": 5,
    "start_time": "2022-02-25T06:13:25.684Z"
   },
   {
    "duration": 29,
    "start_time": "2022-02-25T06:13:25.690Z"
   },
   {
    "duration": 37,
    "start_time": "2022-02-25T06:13:25.721Z"
   },
   {
    "duration": 38,
    "start_time": "2022-02-25T06:13:25.760Z"
   },
   {
    "duration": 115,
    "start_time": "2022-02-25T06:13:25.819Z"
   },
   {
    "duration": 14,
    "start_time": "2022-02-25T06:13:25.936Z"
   },
   {
    "duration": 4,
    "start_time": "2022-02-25T06:13:25.952Z"
   },
   {
    "duration": 12,
    "start_time": "2022-02-25T06:13:25.958Z"
   },
   {
    "duration": 8,
    "start_time": "2022-02-25T06:13:25.971Z"
   },
   {
    "duration": 16250,
    "start_time": "2022-02-25T06:13:25.981Z"
   },
   {
    "duration": 14,
    "start_time": "2022-02-25T06:13:42.233Z"
   },
   {
    "duration": 18,
    "start_time": "2022-02-25T06:13:42.249Z"
   },
   {
    "duration": 54,
    "start_time": "2022-02-25T06:13:42.268Z"
   },
   {
    "duration": 8,
    "start_time": "2022-02-25T06:13:42.324Z"
   },
   {
    "duration": 90,
    "start_time": "2022-02-25T06:13:42.333Z"
   },
   {
    "duration": 11,
    "start_time": "2022-02-25T06:13:42.424Z"
   },
   {
    "duration": 12,
    "start_time": "2022-02-25T06:13:42.437Z"
   },
   {
    "duration": 14961,
    "start_time": "2022-02-25T06:13:42.451Z"
   },
   {
    "duration": 3,
    "start_time": "2022-02-25T06:13:57.414Z"
   },
   {
    "duration": 7,
    "start_time": "2022-02-25T06:13:57.419Z"
   },
   {
    "duration": 5,
    "start_time": "2022-02-25T06:13:57.428Z"
   },
   {
    "duration": 25,
    "start_time": "2022-02-25T06:13:57.435Z"
   },
   {
    "duration": 75,
    "start_time": "2022-02-25T06:13:57.461Z"
   },
   {
    "duration": 80,
    "start_time": "2022-02-25T06:13:57.538Z"
   },
   {
    "duration": 44,
    "start_time": "2022-02-25T06:13:57.620Z"
   },
   {
    "duration": 9,
    "start_time": "2022-02-25T06:13:57.666Z"
   },
   {
    "duration": 48,
    "start_time": "2022-02-25T06:13:57.677Z"
   },
   {
    "duration": 10,
    "start_time": "2022-02-25T06:13:57.727Z"
   },
   {
    "duration": 8,
    "start_time": "2022-02-25T06:13:57.739Z"
   },
   {
    "duration": 24,
    "start_time": "2022-02-25T06:13:57.748Z"
   },
   {
    "duration": 13,
    "start_time": "2022-02-25T06:13:57.773Z"
   },
   {
    "duration": 4,
    "start_time": "2022-02-25T06:13:57.788Z"
   },
   {
    "duration": 35,
    "start_time": "2022-02-25T06:13:57.794Z"
   },
   {
    "duration": 21,
    "start_time": "2022-02-25T06:13:57.831Z"
   },
   {
    "duration": 110,
    "start_time": "2022-02-25T06:13:57.854Z"
   },
   {
    "duration": 103,
    "start_time": "2022-02-25T06:13:57.965Z"
   },
   {
    "duration": 115,
    "start_time": "2022-02-25T06:13:58.070Z"
   },
   {
    "duration": 6,
    "start_time": "2022-02-25T06:13:58.187Z"
   },
   {
    "duration": 34,
    "start_time": "2022-02-25T06:13:58.195Z"
   },
   {
    "duration": 6,
    "start_time": "2022-02-25T06:37:47.932Z"
   },
   {
    "duration": 17,
    "start_time": "2022-02-25T06:37:49.717Z"
   },
   {
    "duration": 17,
    "start_time": "2022-02-25T06:37:50.022Z"
   },
   {
    "duration": 5,
    "start_time": "2022-02-25T06:37:50.381Z"
   },
   {
    "duration": 14,
    "start_time": "2022-02-25T06:37:50.701Z"
   },
   {
    "duration": 24,
    "start_time": "2022-02-25T06:37:51.405Z"
   },
   {
    "duration": 92,
    "start_time": "2022-02-25T06:37:53.148Z"
   },
   {
    "duration": 98,
    "start_time": "2022-02-25T06:37:53.484Z"
   },
   {
    "duration": 102,
    "start_time": "2022-02-25T06:37:53.638Z"
   },
   {
    "duration": 6,
    "start_time": "2022-02-25T06:37:53.808Z"
   },
   {
    "duration": 18,
    "start_time": "2022-02-25T06:37:53.920Z"
   },
   {
    "duration": 5,
    "start_time": "2022-02-25T06:38:19.348Z"
   },
   {
    "duration": 22,
    "start_time": "2022-02-25T06:38:19.819Z"
   },
   {
    "duration": 16,
    "start_time": "2022-02-25T06:42:25.509Z"
   },
   {
    "duration": 5,
    "start_time": "2022-02-25T06:44:31.758Z"
   },
   {
    "duration": 6,
    "start_time": "2022-02-25T06:44:46.974Z"
   },
   {
    "duration": 446,
    "start_time": "2022-02-25T06:45:13.571Z"
   },
   {
    "duration": 556,
    "start_time": "2022-02-25T06:45:25.835Z"
   },
   {
    "duration": 6,
    "start_time": "2022-02-25T06:45:45.682Z"
   },
   {
    "duration": 239,
    "start_time": "2022-02-25T06:45:46.770Z"
   },
   {
    "duration": 323,
    "start_time": "2022-02-25T06:45:58.297Z"
   },
   {
    "duration": 436,
    "start_time": "2022-02-25T08:12:10.668Z"
   },
   {
    "duration": 3,
    "start_time": "2022-02-25T08:12:18.898Z"
   },
   {
    "duration": 7252,
    "start_time": "2022-02-25T08:12:18.904Z"
   },
   {
    "duration": 16635,
    "start_time": "2022-02-25T08:12:26.157Z"
   },
   {
    "duration": 5256,
    "start_time": "2022-02-25T08:12:42.795Z"
   },
   {
    "duration": 1706,
    "start_time": "2022-02-25T08:12:48.053Z"
   },
   {
    "duration": 114,
    "start_time": "2022-02-25T08:12:49.761Z"
   },
   {
    "duration": 15,
    "start_time": "2022-02-25T08:12:49.877Z"
   },
   {
    "duration": 14,
    "start_time": "2022-02-25T08:12:49.893Z"
   },
   {
    "duration": 11,
    "start_time": "2022-02-25T08:12:49.908Z"
   },
   {
    "duration": 154,
    "start_time": "2022-02-25T08:12:49.922Z"
   },
   {
    "duration": 13,
    "start_time": "2022-02-25T08:12:50.079Z"
   },
   {
    "duration": 86,
    "start_time": "2022-02-25T08:12:50.094Z"
   },
   {
    "duration": 45,
    "start_time": "2022-02-25T08:12:50.182Z"
   },
   {
    "duration": 58,
    "start_time": "2022-02-25T08:12:50.228Z"
   },
   {
    "duration": 215,
    "start_time": "2022-02-25T08:12:50.288Z"
   },
   {
    "duration": 53,
    "start_time": "2022-02-25T08:12:50.504Z"
   },
   {
    "duration": 142,
    "start_time": "2022-02-25T08:12:50.559Z"
   },
   {
    "duration": 15,
    "start_time": "2022-02-25T08:12:50.702Z"
   },
   {
    "duration": 5,
    "start_time": "2022-02-25T08:12:50.718Z"
   },
   {
    "duration": 48,
    "start_time": "2022-02-25T08:12:50.724Z"
   },
   {
    "duration": 142,
    "start_time": "2022-02-25T08:12:50.774Z"
   },
   {
    "duration": 145,
    "start_time": "2022-02-25T08:12:50.918Z"
   },
   {
    "duration": 588,
    "start_time": "2022-02-25T08:12:51.064Z"
   },
   {
    "duration": 4,
    "start_time": "2022-02-25T08:12:51.653Z"
   },
   {
    "duration": 6,
    "start_time": "2022-02-25T08:12:51.659Z"
   },
   {
    "duration": 13,
    "start_time": "2022-02-25T08:12:51.666Z"
   },
   {
    "duration": 23,
    "start_time": "2022-02-25T08:12:51.681Z"
   },
   {
    "duration": 4,
    "start_time": "2022-02-25T08:12:51.709Z"
   },
   {
    "duration": 137,
    "start_time": "2022-02-25T08:12:51.715Z"
   },
   {
    "duration": 4,
    "start_time": "2022-02-25T08:12:51.854Z"
   },
   {
    "duration": 19,
    "start_time": "2022-02-25T08:12:51.859Z"
   },
   {
    "duration": 32,
    "start_time": "2022-02-25T08:12:51.880Z"
   },
   {
    "duration": 59,
    "start_time": "2022-02-25T08:12:51.914Z"
   },
   {
    "duration": 102,
    "start_time": "2022-02-25T08:12:51.974Z"
   },
   {
    "duration": 13,
    "start_time": "2022-02-25T08:12:52.077Z"
   },
   {
    "duration": 5,
    "start_time": "2022-02-25T08:12:52.091Z"
   },
   {
    "duration": 11,
    "start_time": "2022-02-25T08:12:52.097Z"
   },
   {
    "duration": 9,
    "start_time": "2022-02-25T08:12:52.110Z"
   },
   {
    "duration": 15330,
    "start_time": "2022-02-25T08:12:52.120Z"
   },
   {
    "duration": 13,
    "start_time": "2022-02-25T08:13:07.451Z"
   },
   {
    "duration": 25,
    "start_time": "2022-02-25T08:13:07.465Z"
   },
   {
    "duration": 38,
    "start_time": "2022-02-25T08:13:07.491Z"
   },
   {
    "duration": 15,
    "start_time": "2022-02-25T08:13:07.531Z"
   },
   {
    "duration": 65,
    "start_time": "2022-02-25T08:13:07.547Z"
   },
   {
    "duration": 11,
    "start_time": "2022-02-25T08:13:07.613Z"
   },
   {
    "duration": 34,
    "start_time": "2022-02-25T08:13:07.625Z"
   },
   {
    "duration": 451,
    "start_time": "2022-02-25T08:13:07.660Z"
   },
   {
    "duration": 4,
    "start_time": "2022-02-25T08:13:08.112Z"
   },
   {
    "duration": 18,
    "start_time": "2022-02-25T08:13:08.117Z"
   },
   {
    "duration": 10,
    "start_time": "2022-02-25T08:13:08.136Z"
   },
   {
    "duration": 27,
    "start_time": "2022-02-25T08:13:08.147Z"
   },
   {
    "duration": 77,
    "start_time": "2022-02-25T08:13:08.176Z"
   },
   {
    "duration": 27,
    "start_time": "2022-02-25T08:13:08.254Z"
   },
   {
    "duration": 74,
    "start_time": "2022-02-25T08:13:08.282Z"
   },
   {
    "duration": 8,
    "start_time": "2022-02-25T08:13:08.358Z"
   },
   {
    "duration": 17,
    "start_time": "2022-02-25T08:13:08.367Z"
   },
   {
    "duration": 6,
    "start_time": "2022-02-25T08:13:08.386Z"
   },
   {
    "duration": 5,
    "start_time": "2022-02-25T08:13:08.394Z"
   },
   {
    "duration": 14,
    "start_time": "2022-02-25T08:13:08.400Z"
   },
   {
    "duration": 34,
    "start_time": "2022-02-25T08:13:08.415Z"
   },
   {
    "duration": 4,
    "start_time": "2022-02-25T08:13:08.451Z"
   },
   {
    "duration": 16,
    "start_time": "2022-02-25T08:13:08.456Z"
   },
   {
    "duration": 26,
    "start_time": "2022-02-25T08:13:08.473Z"
   },
   {
    "duration": 92,
    "start_time": "2022-02-25T08:13:08.501Z"
   },
   {
    "duration": 99,
    "start_time": "2022-02-25T08:13:08.595Z"
   },
   {
    "duration": 88,
    "start_time": "2022-02-25T08:13:08.695Z"
   },
   {
    "duration": 4,
    "start_time": "2022-02-25T08:13:08.785Z"
   },
   {
    "duration": 22,
    "start_time": "2022-02-25T08:13:08.791Z"
   },
   {
    "duration": 227,
    "start_time": "2022-02-25T08:13:08.814Z"
   },
   {
    "duration": 139,
    "start_time": "2022-02-25T08:13:22.937Z"
   },
   {
    "duration": 124,
    "start_time": "2022-02-25T08:16:41.007Z"
   },
   {
    "duration": 23,
    "start_time": "2022-02-25T08:16:46.223Z"
   },
   {
    "duration": 31,
    "start_time": "2022-02-25T08:17:01.257Z"
   },
   {
    "duration": 23,
    "start_time": "2022-02-25T08:17:17.359Z"
   },
   {
    "duration": 22,
    "start_time": "2022-02-25T08:17:29.847Z"
   },
   {
    "duration": 21,
    "start_time": "2022-02-25T08:17:36.281Z"
   },
   {
    "duration": 24,
    "start_time": "2022-02-25T08:17:49.573Z"
   },
   {
    "duration": 108,
    "start_time": "2022-02-25T08:18:52.213Z"
   },
   {
    "duration": 145,
    "start_time": "2022-02-25T08:19:19.337Z"
   },
   {
    "duration": 3,
    "start_time": "2022-02-25T08:19:38.537Z"
   },
   {
    "duration": 6,
    "start_time": "2022-02-25T08:19:44.984Z"
   },
   {
    "duration": 5,
    "start_time": "2022-02-25T08:20:09.473Z"
   },
   {
    "duration": 5,
    "start_time": "2022-02-25T08:20:25.735Z"
   },
   {
    "duration": 6,
    "start_time": "2022-02-25T08:20:30.717Z"
   },
   {
    "duration": 4,
    "start_time": "2022-02-25T08:20:54.683Z"
   },
   {
    "duration": 190,
    "start_time": "2022-02-25T09:46:30.125Z"
   },
   {
    "duration": 200,
    "start_time": "2022-02-25T09:47:03.421Z"
   },
   {
    "duration": 1103,
    "start_time": "2022-02-25T09:54:49.658Z"
   },
   {
    "duration": 8331,
    "start_time": "2022-02-25T09:55:19.834Z"
   },
   {
    "duration": 112,
    "start_time": "2022-02-25T09:57:34.953Z"
   },
   {
    "duration": 110,
    "start_time": "2022-02-25T09:57:52.843Z"
   },
   {
    "duration": 66,
    "start_time": "2022-02-25T09:57:59.727Z"
   },
   {
    "duration": 36,
    "start_time": "2022-02-25T10:04:13.856Z"
   },
   {
    "duration": 36,
    "start_time": "2022-02-25T10:04:58.885Z"
   },
   {
    "duration": 8,
    "start_time": "2022-02-25T10:04:59.720Z"
   },
   {
    "duration": 71,
    "start_time": "2022-02-25T10:05:01.587Z"
   },
   {
    "duration": 71,
    "start_time": "2022-02-25T10:06:33.514Z"
   },
   {
    "duration": 70,
    "start_time": "2022-02-25T10:07:46.794Z"
   },
   {
    "duration": 14,
    "start_time": "2022-02-25T10:07:48.398Z"
   },
   {
    "duration": 8,
    "start_time": "2022-02-25T10:07:51.036Z"
   },
   {
    "duration": 48,
    "start_time": "2022-02-25T10:08:04.533Z"
   },
   {
    "duration": 116,
    "start_time": "2022-02-25T10:15:02.994Z"
   },
   {
    "duration": 10630,
    "start_time": "2022-02-25T10:15:12.454Z"
   },
   {
    "duration": 8748,
    "start_time": "2022-02-25T10:15:35.506Z"
   },
   {
    "duration": 327,
    "start_time": "2022-02-25T10:15:54.653Z"
   },
   {
    "duration": 121,
    "start_time": "2022-02-25T10:16:14.758Z"
   },
   {
    "duration": 371,
    "start_time": "2022-02-25T10:16:38.965Z"
   },
   {
    "duration": 114,
    "start_time": "2022-02-25T10:18:46.222Z"
   },
   {
    "duration": 131,
    "start_time": "2022-02-25T10:18:56.926Z"
   },
   {
    "duration": 355,
    "start_time": "2022-02-25T10:21:48.975Z"
   },
   {
    "duration": 109,
    "start_time": "2022-02-25T10:21:59.728Z"
   },
   {
    "duration": 324,
    "start_time": "2022-02-25T10:22:05.191Z"
   },
   {
    "duration": 226,
    "start_time": "2022-02-25T13:36:43.778Z"
   },
   {
    "duration": 4,
    "start_time": "2022-02-25T13:36:50.614Z"
   },
   {
    "duration": 105164,
    "start_time": "2022-02-25T13:36:50.621Z"
   },
   {
    "duration": 105097,
    "start_time": "2022-02-25T13:38:35.788Z"
   },
   {
    "duration": 54145,
    "start_time": "2022-02-25T13:40:20.888Z"
   },
   {
    "duration": 1375,
    "start_time": "2022-02-25T13:41:15.035Z"
   },
   {
    "duration": 121,
    "start_time": "2022-02-25T13:41:16.412Z"
   },
   {
    "duration": 17,
    "start_time": "2022-02-25T13:41:16.535Z"
   },
   {
    "duration": 15,
    "start_time": "2022-02-25T13:41:16.554Z"
   },
   {
    "duration": 12,
    "start_time": "2022-02-25T13:41:16.571Z"
   },
   {
    "duration": 184,
    "start_time": "2022-02-25T13:41:16.585Z"
   },
   {
    "duration": 14,
    "start_time": "2022-02-25T13:41:16.771Z"
   },
   {
    "duration": 91,
    "start_time": "2022-02-25T13:41:16.787Z"
   },
   {
    "duration": 73,
    "start_time": "2022-02-25T13:41:16.880Z"
   },
   {
    "duration": 56,
    "start_time": "2022-02-25T13:41:16.954Z"
   },
   {
    "duration": 234,
    "start_time": "2022-02-25T13:41:17.012Z"
   },
   {
    "duration": 50,
    "start_time": "2022-02-25T13:41:17.247Z"
   },
   {
    "duration": 150,
    "start_time": "2022-02-25T13:41:17.299Z"
   },
   {
    "duration": 15,
    "start_time": "2022-02-25T13:41:17.451Z"
   },
   {
    "duration": 6,
    "start_time": "2022-02-25T13:41:17.470Z"
   },
   {
    "duration": 43,
    "start_time": "2022-02-25T13:41:17.478Z"
   },
   {
    "duration": 219,
    "start_time": "2022-02-25T13:41:17.523Z"
   },
   {
    "duration": 224,
    "start_time": "2022-02-25T13:41:17.744Z"
   },
   {
    "duration": 165,
    "start_time": "2022-02-25T13:41:17.970Z"
   },
   {
    "duration": 565,
    "start_time": "2022-02-25T13:41:18.136Z"
   },
   {
    "duration": 16,
    "start_time": "2022-02-25T13:41:18.703Z"
   },
   {
    "duration": 10,
    "start_time": "2022-02-25T13:41:18.720Z"
   },
   {
    "duration": 33,
    "start_time": "2022-02-25T13:41:18.732Z"
   },
   {
    "duration": 39,
    "start_time": "2022-02-25T13:41:18.767Z"
   },
   {
    "duration": 5,
    "start_time": "2022-02-25T13:41:18.808Z"
   },
   {
    "duration": 151,
    "start_time": "2022-02-25T13:41:18.814Z"
   },
   {
    "duration": 5,
    "start_time": "2022-02-25T13:41:18.967Z"
   },
   {
    "duration": 31,
    "start_time": "2022-02-25T13:41:18.974Z"
   },
   {
    "duration": 35,
    "start_time": "2022-02-25T13:41:19.007Z"
   },
   {
    "duration": 46,
    "start_time": "2022-02-25T13:41:19.044Z"
   },
   {
    "duration": 18,
    "start_time": "2022-02-25T13:41:19.092Z"
   },
   {
    "duration": 44,
    "start_time": "2022-02-25T13:41:19.112Z"
   },
   {
    "duration": 37,
    "start_time": "2022-02-25T13:41:19.159Z"
   },
   {
    "duration": 108,
    "start_time": "2022-02-25T13:41:19.198Z"
   },
   {
    "duration": 19,
    "start_time": "2022-02-25T13:41:19.308Z"
   },
   {
    "duration": 18,
    "start_time": "2022-02-25T13:41:19.329Z"
   },
   {
    "duration": 29,
    "start_time": "2022-02-25T13:41:19.349Z"
   },
   {
    "duration": 22,
    "start_time": "2022-02-25T13:41:19.380Z"
   },
   {
    "duration": 16557,
    "start_time": "2022-02-25T13:41:19.404Z"
   },
   {
    "duration": 14,
    "start_time": "2022-02-25T13:41:35.963Z"
   },
   {
    "duration": 14,
    "start_time": "2022-02-25T13:41:35.979Z"
   },
   {
    "duration": 62,
    "start_time": "2022-02-25T13:41:35.995Z"
   },
   {
    "duration": 9,
    "start_time": "2022-02-25T13:41:36.059Z"
   },
   {
    "duration": 100,
    "start_time": "2022-02-25T13:41:36.070Z"
   },
   {
    "duration": 12,
    "start_time": "2022-02-25T13:41:36.171Z"
   },
   {
    "duration": 7,
    "start_time": "2022-02-25T13:41:36.185Z"
   },
   {
    "duration": 319,
    "start_time": "2022-02-25T13:41:36.194Z"
   },
   {
    "duration": -67472,
    "start_time": "2022-02-25T13:42:43.988Z"
   },
   {
    "duration": -67476,
    "start_time": "2022-02-25T13:42:43.993Z"
   },
   {
    "duration": -67482,
    "start_time": "2022-02-25T13:42:44.000Z"
   },
   {
    "duration": -67487,
    "start_time": "2022-02-25T13:42:44.006Z"
   },
   {
    "duration": -67492,
    "start_time": "2022-02-25T13:42:44.012Z"
   },
   {
    "duration": -67497,
    "start_time": "2022-02-25T13:42:44.018Z"
   },
   {
    "duration": -67501,
    "start_time": "2022-02-25T13:42:44.023Z"
   },
   {
    "duration": -67523,
    "start_time": "2022-02-25T13:42:44.047Z"
   },
   {
    "duration": -67536,
    "start_time": "2022-02-25T13:42:44.061Z"
   },
   {
    "duration": -67542,
    "start_time": "2022-02-25T13:42:44.068Z"
   },
   {
    "duration": -67546,
    "start_time": "2022-02-25T13:42:44.073Z"
   },
   {
    "duration": -67550,
    "start_time": "2022-02-25T13:42:44.078Z"
   },
   {
    "duration": -67554,
    "start_time": "2022-02-25T13:42:44.083Z"
   },
   {
    "duration": -67558,
    "start_time": "2022-02-25T13:42:44.088Z"
   },
   {
    "duration": -67562,
    "start_time": "2022-02-25T13:42:44.093Z"
   },
   {
    "duration": -67566,
    "start_time": "2022-02-25T13:42:44.098Z"
   },
   {
    "duration": -67569,
    "start_time": "2022-02-25T13:42:44.102Z"
   },
   {
    "duration": -67573,
    "start_time": "2022-02-25T13:42:44.107Z"
   },
   {
    "duration": -67575,
    "start_time": "2022-02-25T13:42:44.111Z"
   },
   {
    "duration": -67579,
    "start_time": "2022-02-25T13:42:44.116Z"
   },
   {
    "duration": -67583,
    "start_time": "2022-02-25T13:42:44.121Z"
   },
   {
    "duration": -67587,
    "start_time": "2022-02-25T13:42:44.126Z"
   },
   {
    "duration": 196,
    "start_time": "2022-02-25T13:42:41.767Z"
   },
   {
    "duration": 3,
    "start_time": "2022-02-25T13:42:51.975Z"
   },
   {
    "duration": 4,
    "start_time": "2022-02-25T13:43:17.809Z"
   },
   {
    "duration": 83732,
    "start_time": "2022-02-25T13:43:17.814Z"
   },
   {
    "duration": 3,
    "start_time": "2022-02-25T13:45:53.900Z"
   },
   {
    "duration": 66235,
    "start_time": "2022-02-25T13:45:53.911Z"
   },
   {
    "duration": 2242,
    "start_time": "2022-02-25T13:47:00.148Z"
   },
   {
    "duration": 17300,
    "start_time": "2022-02-25T13:47:02.393Z"
   },
   {
    "duration": 1930,
    "start_time": "2022-02-25T13:47:19.695Z"
   },
   {
    "duration": 121,
    "start_time": "2022-02-25T13:47:21.627Z"
   },
   {
    "duration": 18,
    "start_time": "2022-02-25T13:47:21.750Z"
   },
   {
    "duration": 17,
    "start_time": "2022-02-25T13:47:21.770Z"
   },
   {
    "duration": 34,
    "start_time": "2022-02-25T13:47:21.788Z"
   },
   {
    "duration": 154,
    "start_time": "2022-02-25T13:47:21.826Z"
   },
   {
    "duration": 17,
    "start_time": "2022-02-25T13:47:21.982Z"
   },
   {
    "duration": 86,
    "start_time": "2022-02-25T13:47:22.001Z"
   },
   {
    "duration": 67,
    "start_time": "2022-02-25T13:47:22.089Z"
   },
   {
    "duration": 65,
    "start_time": "2022-02-25T13:47:22.158Z"
   },
   {
    "duration": 245,
    "start_time": "2022-02-25T13:47:22.225Z"
   },
   {
    "duration": 61,
    "start_time": "2022-02-25T13:47:22.472Z"
   },
   {
    "duration": 146,
    "start_time": "2022-02-25T13:47:22.535Z"
   },
   {
    "duration": 17,
    "start_time": "2022-02-25T13:47:22.683Z"
   },
   {
    "duration": 22,
    "start_time": "2022-02-25T13:47:22.701Z"
   },
   {
    "duration": 39,
    "start_time": "2022-02-25T13:47:22.724Z"
   },
   {
    "duration": 166,
    "start_time": "2022-02-25T13:47:22.766Z"
   },
   {
    "duration": 163,
    "start_time": "2022-02-25T13:47:22.934Z"
   },
   {
    "duration": 161,
    "start_time": "2022-02-25T13:47:23.099Z"
   },
   {
    "duration": 711,
    "start_time": "2022-02-25T13:47:23.261Z"
   },
   {
    "duration": 5,
    "start_time": "2022-02-25T13:47:23.973Z"
   },
   {
    "duration": 6,
    "start_time": "2022-02-25T13:47:23.980Z"
   },
   {
    "duration": 22,
    "start_time": "2022-02-25T13:47:23.987Z"
   },
   {
    "duration": 26,
    "start_time": "2022-02-25T13:47:24.014Z"
   },
   {
    "duration": 6,
    "start_time": "2022-02-25T13:47:24.043Z"
   },
   {
    "duration": 144,
    "start_time": "2022-02-25T13:47:24.051Z"
   },
   {
    "duration": 4,
    "start_time": "2022-02-25T13:47:24.219Z"
   },
   {
    "duration": 7,
    "start_time": "2022-02-25T13:47:24.225Z"
   },
   {
    "duration": 11,
    "start_time": "2022-02-25T13:47:24.234Z"
   },
   {
    "duration": 29,
    "start_time": "2022-02-25T13:47:24.247Z"
   },
   {
    "duration": 15,
    "start_time": "2022-02-25T13:47:24.278Z"
   },
   {
    "duration": 36,
    "start_time": "2022-02-25T13:47:24.295Z"
   },
   {
    "duration": 38,
    "start_time": "2022-02-25T13:47:24.333Z"
   },
   {
    "duration": 105,
    "start_time": "2022-02-25T13:47:24.373Z"
   },
   {
    "duration": 15,
    "start_time": "2022-02-25T13:47:24.480Z"
   },
   {
    "duration": 6,
    "start_time": "2022-02-25T13:47:24.497Z"
   },
   {
    "duration": 10,
    "start_time": "2022-02-25T13:47:24.504Z"
   },
   {
    "duration": 7,
    "start_time": "2022-02-25T13:47:24.519Z"
   },
   {
    "duration": 16903,
    "start_time": "2022-02-25T13:47:24.527Z"
   },
   {
    "duration": 17,
    "start_time": "2022-02-25T13:47:41.432Z"
   },
   {
    "duration": 16,
    "start_time": "2022-02-25T13:47:41.452Z"
   },
   {
    "duration": 67,
    "start_time": "2022-02-25T13:47:41.470Z"
   },
   {
    "duration": 10,
    "start_time": "2022-02-25T13:47:41.539Z"
   },
   {
    "duration": 111,
    "start_time": "2022-02-25T13:47:41.551Z"
   },
   {
    "duration": 11,
    "start_time": "2022-02-25T13:47:41.664Z"
   },
   {
    "duration": 9,
    "start_time": "2022-02-25T13:47:41.677Z"
   },
   {
    "duration": 511,
    "start_time": "2022-02-25T13:47:41.687Z"
   },
   {
    "duration": 452,
    "start_time": "2022-02-25T13:47:42.200Z"
   },
   {
    "duration": -71815,
    "start_time": "2022-02-25T13:48:54.470Z"
   },
   {
    "duration": -71818,
    "start_time": "2022-02-25T13:48:54.474Z"
   },
   {
    "duration": -71821,
    "start_time": "2022-02-25T13:48:54.479Z"
   },
   {
    "duration": -71826,
    "start_time": "2022-02-25T13:48:54.485Z"
   },
   {
    "duration": -71828,
    "start_time": "2022-02-25T13:48:54.489Z"
   },
   {
    "duration": -71831,
    "start_time": "2022-02-25T13:48:54.493Z"
   },
   {
    "duration": -71834,
    "start_time": "2022-02-25T13:48:54.498Z"
   },
   {
    "duration": -71837,
    "start_time": "2022-02-25T13:48:54.502Z"
   },
   {
    "duration": -71840,
    "start_time": "2022-02-25T13:48:54.507Z"
   },
   {
    "duration": -71843,
    "start_time": "2022-02-25T13:48:54.511Z"
   },
   {
    "duration": -71845,
    "start_time": "2022-02-25T13:48:54.516Z"
   },
   {
    "duration": -71849,
    "start_time": "2022-02-25T13:48:54.521Z"
   },
   {
    "duration": -71852,
    "start_time": "2022-02-25T13:48:54.525Z"
   },
   {
    "duration": -71855,
    "start_time": "2022-02-25T13:48:54.529Z"
   },
   {
    "duration": -71859,
    "start_time": "2022-02-25T13:48:54.534Z"
   },
   {
    "duration": -71861,
    "start_time": "2022-02-25T13:48:54.538Z"
   },
   {
    "duration": -71865,
    "start_time": "2022-02-25T13:48:54.543Z"
   },
   {
    "duration": -71869,
    "start_time": "2022-02-25T13:48:54.548Z"
   },
   {
    "duration": -71872,
    "start_time": "2022-02-25T13:48:54.553Z"
   },
   {
    "duration": -71875,
    "start_time": "2022-02-25T13:48:54.557Z"
   },
   {
    "duration": 10,
    "start_time": "2022-02-25T13:53:10.838Z"
   },
   {
    "duration": 285,
    "start_time": "2022-02-25T13:55:29.244Z"
   },
   {
    "duration": 53,
    "start_time": "2022-02-25T13:56:20.203Z"
   },
   {
    "duration": 80,
    "start_time": "2022-02-25T13:57:20.162Z"
   },
   {
    "duration": 60,
    "start_time": "2022-02-25T13:57:26.834Z"
   },
   {
    "duration": 50,
    "start_time": "2022-02-25T13:58:13.604Z"
   },
   {
    "duration": 128,
    "start_time": "2022-02-25T13:58:35.831Z"
   },
   {
    "duration": 53,
    "start_time": "2022-02-25T13:59:44.613Z"
   },
   {
    "duration": 56,
    "start_time": "2022-02-25T14:00:07.690Z"
   },
   {
    "duration": 55,
    "start_time": "2022-02-25T14:00:14.735Z"
   },
   {
    "duration": 53,
    "start_time": "2022-02-25T14:00:25.229Z"
   },
   {
    "duration": 57,
    "start_time": "2022-02-25T14:00:37.733Z"
   },
   {
    "duration": 64,
    "start_time": "2022-02-25T14:03:52.669Z"
   },
   {
    "duration": 211,
    "start_time": "2022-02-25T14:03:57.336Z"
   },
   {
    "duration": 57,
    "start_time": "2022-02-25T14:04:08.741Z"
   },
   {
    "duration": 60,
    "start_time": "2022-02-25T14:06:28.084Z"
   },
   {
    "duration": 61,
    "start_time": "2022-02-25T14:06:41.112Z"
   },
   {
    "duration": 60,
    "start_time": "2022-02-25T14:06:52.746Z"
   },
   {
    "duration": 348,
    "start_time": "2022-02-25T17:12:30.972Z"
   },
   {
    "duration": 3,
    "start_time": "2022-02-25T17:12:37.327Z"
   },
   {
    "duration": 6781,
    "start_time": "2022-02-25T17:12:37.331Z"
   },
   {
    "duration": 17276,
    "start_time": "2022-02-25T17:12:44.114Z"
   },
   {
    "duration": 3094,
    "start_time": "2022-02-25T17:13:01.392Z"
   },
   {
    "duration": 1800,
    "start_time": "2022-02-25T17:13:04.488Z"
   },
   {
    "duration": 127,
    "start_time": "2022-02-25T17:13:06.289Z"
   },
   {
    "duration": 15,
    "start_time": "2022-02-25T17:13:06.419Z"
   },
   {
    "duration": 20,
    "start_time": "2022-02-25T17:13:06.436Z"
   },
   {
    "duration": 27,
    "start_time": "2022-02-25T17:13:06.458Z"
   },
   {
    "duration": 155,
    "start_time": "2022-02-25T17:13:06.486Z"
   },
   {
    "duration": 16,
    "start_time": "2022-02-25T17:13:06.642Z"
   },
   {
    "duration": 82,
    "start_time": "2022-02-25T17:13:06.659Z"
   },
   {
    "duration": 44,
    "start_time": "2022-02-25T17:13:06.743Z"
   },
   {
    "duration": 54,
    "start_time": "2022-02-25T17:13:06.789Z"
   },
   {
    "duration": 209,
    "start_time": "2022-02-25T17:13:06.845Z"
   },
   {
    "duration": 45,
    "start_time": "2022-02-25T17:13:07.055Z"
   },
   {
    "duration": 132,
    "start_time": "2022-02-25T17:13:07.102Z"
   },
   {
    "duration": 14,
    "start_time": "2022-02-25T17:13:07.236Z"
   },
   {
    "duration": 17,
    "start_time": "2022-02-25T17:13:07.253Z"
   },
   {
    "duration": 44,
    "start_time": "2022-02-25T17:13:07.273Z"
   },
   {
    "duration": 174,
    "start_time": "2022-02-25T17:13:07.319Z"
   },
   {
    "duration": 238,
    "start_time": "2022-02-25T17:13:07.495Z"
   },
   {
    "duration": 203,
    "start_time": "2022-02-25T17:13:07.735Z"
   },
   {
    "duration": 597,
    "start_time": "2022-02-25T17:13:07.939Z"
   },
   {
    "duration": 5,
    "start_time": "2022-02-25T17:13:08.537Z"
   },
   {
    "duration": 31,
    "start_time": "2022-02-25T17:13:08.543Z"
   },
   {
    "duration": 15,
    "start_time": "2022-02-25T17:13:08.576Z"
   },
   {
    "duration": 26,
    "start_time": "2022-02-25T17:13:08.592Z"
   },
   {
    "duration": 7,
    "start_time": "2022-02-25T17:13:08.620Z"
   },
   {
    "duration": 131,
    "start_time": "2022-02-25T17:13:08.628Z"
   },
   {
    "duration": 4,
    "start_time": "2022-02-25T17:13:08.761Z"
   },
   {
    "duration": 13,
    "start_time": "2022-02-25T17:13:08.767Z"
   },
   {
    "duration": 24,
    "start_time": "2022-02-25T17:13:08.781Z"
   },
   {
    "duration": 38,
    "start_time": "2022-02-25T17:13:08.806Z"
   },
   {
    "duration": 14,
    "start_time": "2022-02-25T17:13:08.845Z"
   },
   {
    "duration": 44,
    "start_time": "2022-02-25T17:13:08.861Z"
   },
   {
    "duration": 37,
    "start_time": "2022-02-25T17:13:08.907Z"
   },
   {
    "duration": 99,
    "start_time": "2022-02-25T17:13:08.946Z"
   },
   {
    "duration": 12,
    "start_time": "2022-02-25T17:13:09.047Z"
   },
   {
    "duration": 6,
    "start_time": "2022-02-25T17:13:09.061Z"
   },
   {
    "duration": 10,
    "start_time": "2022-02-25T17:13:09.069Z"
   },
   {
    "duration": 6,
    "start_time": "2022-02-25T17:13:09.081Z"
   },
   {
    "duration": 14706,
    "start_time": "2022-02-25T17:13:09.089Z"
   },
   {
    "duration": 14,
    "start_time": "2022-02-25T17:13:23.796Z"
   },
   {
    "duration": 23,
    "start_time": "2022-02-25T17:13:23.811Z"
   },
   {
    "duration": 35,
    "start_time": "2022-02-25T17:13:23.836Z"
   },
   {
    "duration": 6,
    "start_time": "2022-02-25T17:13:23.873Z"
   },
   {
    "duration": 90,
    "start_time": "2022-02-25T17:13:23.881Z"
   },
   {
    "duration": 10,
    "start_time": "2022-02-25T17:13:23.972Z"
   },
   {
    "duration": 8,
    "start_time": "2022-02-25T17:13:23.984Z"
   },
   {
    "duration": 388,
    "start_time": "2022-02-25T17:13:23.993Z"
   },
   {
    "duration": 494,
    "start_time": "2022-02-25T17:13:24.382Z"
   },
   {
    "duration": -69968,
    "start_time": "2022-02-25T17:14:34.847Z"
   },
   {
    "duration": -69975,
    "start_time": "2022-02-25T17:14:34.855Z"
   },
   {
    "duration": -69980,
    "start_time": "2022-02-25T17:14:34.861Z"
   },
   {
    "duration": -69986,
    "start_time": "2022-02-25T17:14:34.869Z"
   },
   {
    "duration": -69991,
    "start_time": "2022-02-25T17:14:34.875Z"
   },
   {
    "duration": -69996,
    "start_time": "2022-02-25T17:14:34.881Z"
   },
   {
    "duration": -70000,
    "start_time": "2022-02-25T17:14:34.887Z"
   },
   {
    "duration": -70005,
    "start_time": "2022-02-25T17:14:34.893Z"
   },
   {
    "duration": -70009,
    "start_time": "2022-02-25T17:14:34.898Z"
   },
   {
    "duration": -70015,
    "start_time": "2022-02-25T17:14:34.905Z"
   },
   {
    "duration": -70018,
    "start_time": "2022-02-25T17:14:34.910Z"
   },
   {
    "duration": -70023,
    "start_time": "2022-02-25T17:14:34.916Z"
   },
   {
    "duration": -70055,
    "start_time": "2022-02-25T17:14:34.949Z"
   },
   {
    "duration": -70061,
    "start_time": "2022-02-25T17:14:34.956Z"
   },
   {
    "duration": -70066,
    "start_time": "2022-02-25T17:14:34.962Z"
   },
   {
    "duration": -70075,
    "start_time": "2022-02-25T17:14:34.973Z"
   },
   {
    "duration": -70080,
    "start_time": "2022-02-25T17:14:34.979Z"
   },
   {
    "duration": -70087,
    "start_time": "2022-02-25T17:14:34.987Z"
   },
   {
    "duration": -70091,
    "start_time": "2022-02-25T17:14:34.993Z"
   },
   {
    "duration": -70097,
    "start_time": "2022-02-25T17:14:35.000Z"
   },
   {
    "duration": 39,
    "start_time": "2022-02-25T17:13:33.692Z"
   },
   {
    "duration": 36,
    "start_time": "2022-02-25T17:13:40.605Z"
   },
   {
    "duration": 12,
    "start_time": "2022-02-25T17:13:55.628Z"
   },
   {
    "duration": 134,
    "start_time": "2022-02-25T17:14:43.057Z"
   },
   {
    "duration": 138,
    "start_time": "2022-02-25T17:14:47.969Z"
   },
   {
    "duration": 144,
    "start_time": "2022-02-25T17:15:10.069Z"
   },
   {
    "duration": 1408,
    "start_time": "2022-02-25T17:16:41.275Z"
   },
   {
    "duration": 138,
    "start_time": "2022-02-25T17:17:03.997Z"
   },
   {
    "duration": 304,
    "start_time": "2022-02-25T17:18:03.396Z"
   },
   {
    "duration": 316,
    "start_time": "2022-02-25T17:18:09.361Z"
   },
   {
    "duration": 303,
    "start_time": "2022-02-25T17:37:25.611Z"
   },
   {
    "duration": 329,
    "start_time": "2022-02-25T17:37:42.383Z"
   },
   {
    "duration": 4,
    "start_time": "2022-02-26T07:58:05.020Z"
   },
   {
    "duration": 104939,
    "start_time": "2022-02-26T07:58:05.026Z"
   },
   {
    "duration": 107021,
    "start_time": "2022-02-26T07:59:49.967Z"
   },
   {
    "duration": 3,
    "start_time": "2022-02-26T08:02:31.618Z"
   },
   {
    "duration": 3,
    "start_time": "2022-02-26T08:04:17.650Z"
   },
   {
    "duration": 3,
    "start_time": "2022-02-26T08:05:13.422Z"
   },
   {
    "duration": 7510,
    "start_time": "2022-02-26T08:05:13.429Z"
   },
   {
    "duration": 7275,
    "start_time": "2022-02-26T08:05:20.942Z"
   },
   {
    "duration": 7988,
    "start_time": "2022-02-26T08:05:28.219Z"
   },
   {
    "duration": 1695,
    "start_time": "2022-02-26T08:05:36.210Z"
   },
   {
    "duration": 129,
    "start_time": "2022-02-26T08:05:37.907Z"
   },
   {
    "duration": 16,
    "start_time": "2022-02-26T08:05:38.038Z"
   },
   {
    "duration": 17,
    "start_time": "2022-02-26T08:05:38.056Z"
   },
   {
    "duration": 14,
    "start_time": "2022-02-26T08:05:38.076Z"
   },
   {
    "duration": 186,
    "start_time": "2022-02-26T08:05:38.093Z"
   },
   {
    "duration": 15,
    "start_time": "2022-02-26T08:05:38.280Z"
   },
   {
    "duration": 85,
    "start_time": "2022-02-26T08:05:38.297Z"
   },
   {
    "duration": 62,
    "start_time": "2022-02-26T08:05:38.384Z"
   },
   {
    "duration": 54,
    "start_time": "2022-02-26T08:05:38.448Z"
   },
   {
    "duration": 241,
    "start_time": "2022-02-26T08:05:38.503Z"
   },
   {
    "duration": 57,
    "start_time": "2022-02-26T08:05:38.746Z"
   },
   {
    "duration": 178,
    "start_time": "2022-02-26T08:05:38.805Z"
   },
   {
    "duration": 15,
    "start_time": "2022-02-26T08:05:38.985Z"
   },
   {
    "duration": 5,
    "start_time": "2022-02-26T08:05:39.002Z"
   },
   {
    "duration": 55,
    "start_time": "2022-02-26T08:05:39.008Z"
   },
   {
    "duration": 155,
    "start_time": "2022-02-26T08:05:39.065Z"
   },
   {
    "duration": 157,
    "start_time": "2022-02-26T08:05:39.222Z"
   },
   {
    "duration": 146,
    "start_time": "2022-02-26T08:05:39.381Z"
   },
   {
    "duration": 631,
    "start_time": "2022-02-26T08:05:39.535Z"
   },
   {
    "duration": 5,
    "start_time": "2022-02-26T08:05:40.169Z"
   },
   {
    "duration": 6,
    "start_time": "2022-02-26T08:05:40.175Z"
   },
   {
    "duration": 17,
    "start_time": "2022-02-26T08:05:40.183Z"
   },
   {
    "duration": 36,
    "start_time": "2022-02-26T08:05:40.202Z"
   },
   {
    "duration": 4,
    "start_time": "2022-02-26T08:05:40.240Z"
   },
   {
    "duration": 123,
    "start_time": "2022-02-26T08:05:40.245Z"
   },
   {
    "duration": 5,
    "start_time": "2022-02-26T08:05:40.370Z"
   },
   {
    "duration": 5,
    "start_time": "2022-02-26T08:05:40.376Z"
   },
   {
    "duration": 6,
    "start_time": "2022-02-26T08:05:40.382Z"
   },
   {
    "duration": 48,
    "start_time": "2022-02-26T08:05:40.390Z"
   },
   {
    "duration": 17,
    "start_time": "2022-02-26T08:05:40.440Z"
   },
   {
    "duration": 35,
    "start_time": "2022-02-26T08:05:40.458Z"
   },
   {
    "duration": 52,
    "start_time": "2022-02-26T08:05:40.494Z"
   },
   {
    "duration": 102,
    "start_time": "2022-02-26T08:05:40.547Z"
   },
   {
    "duration": 13,
    "start_time": "2022-02-26T08:05:40.650Z"
   },
   {
    "duration": 5,
    "start_time": "2022-02-26T08:05:40.665Z"
   },
   {
    "duration": 11,
    "start_time": "2022-02-26T08:05:40.671Z"
   },
   {
    "duration": 8,
    "start_time": "2022-02-26T08:05:40.683Z"
   },
   {
    "duration": 15969,
    "start_time": "2022-02-26T08:05:40.692Z"
   },
   {
    "duration": 11,
    "start_time": "2022-02-26T08:05:56.662Z"
   },
   {
    "duration": 12,
    "start_time": "2022-02-26T08:05:56.675Z"
   },
   {
    "duration": 55,
    "start_time": "2022-02-26T08:05:56.688Z"
   },
   {
    "duration": 8,
    "start_time": "2022-02-26T08:05:56.745Z"
   },
   {
    "duration": 93,
    "start_time": "2022-02-26T08:05:56.754Z"
   },
   {
    "duration": 12,
    "start_time": "2022-02-26T08:05:56.849Z"
   },
   {
    "duration": 9,
    "start_time": "2022-02-26T08:05:56.862Z"
   },
   {
    "duration": 399,
    "start_time": "2022-02-26T08:05:56.873Z"
   },
   {
    "duration": 62,
    "start_time": "2022-02-26T08:05:57.274Z"
   },
   {
    "duration": -3802,
    "start_time": "2022-02-26T08:06:01.142Z"
   },
   {
    "duration": -3806,
    "start_time": "2022-02-26T08:06:01.147Z"
   },
   {
    "duration": -3812,
    "start_time": "2022-02-26T08:06:01.154Z"
   },
   {
    "duration": -3817,
    "start_time": "2022-02-26T08:06:01.161Z"
   },
   {
    "duration": -3823,
    "start_time": "2022-02-26T08:06:01.168Z"
   },
   {
    "duration": -3829,
    "start_time": "2022-02-26T08:06:01.175Z"
   },
   {
    "duration": -3834,
    "start_time": "2022-02-26T08:06:01.181Z"
   },
   {
    "duration": -3840,
    "start_time": "2022-02-26T08:06:01.188Z"
   },
   {
    "duration": -3845,
    "start_time": "2022-02-26T08:06:01.194Z"
   },
   {
    "duration": -3849,
    "start_time": "2022-02-26T08:06:01.200Z"
   },
   {
    "duration": -3853,
    "start_time": "2022-02-26T08:06:01.205Z"
   },
   {
    "duration": -3860,
    "start_time": "2022-02-26T08:06:01.213Z"
   },
   {
    "duration": -3864,
    "start_time": "2022-02-26T08:06:01.218Z"
   },
   {
    "duration": -3883,
    "start_time": "2022-02-26T08:06:01.238Z"
   },
   {
    "duration": -3888,
    "start_time": "2022-02-26T08:06:01.244Z"
   },
   {
    "duration": -3894,
    "start_time": "2022-02-26T08:06:01.251Z"
   },
   {
    "duration": -3900,
    "start_time": "2022-02-26T08:06:01.258Z"
   },
   {
    "duration": -3905,
    "start_time": "2022-02-26T08:06:01.265Z"
   },
   {
    "duration": -3910,
    "start_time": "2022-02-26T08:06:01.271Z"
   },
   {
    "duration": -3916,
    "start_time": "2022-02-26T08:06:01.278Z"
   },
   {
    "duration": 393,
    "start_time": "2022-02-26T08:06:26.925Z"
   },
   {
    "duration": 268,
    "start_time": "2022-02-26T08:06:52.308Z"
   },
   {
    "duration": 6,
    "start_time": "2022-02-26T08:13:49.026Z"
   },
   {
    "duration": 6,
    "start_time": "2022-02-26T08:14:02.152Z"
   },
   {
    "duration": 10,
    "start_time": "2022-02-26T08:14:24.167Z"
   },
   {
    "duration": 378,
    "start_time": "2022-02-26T08:18:41.949Z"
   },
   {
    "duration": 10,
    "start_time": "2022-02-26T08:20:05.301Z"
   },
   {
    "duration": 13,
    "start_time": "2022-02-26T08:21:18.127Z"
   },
   {
    "duration": 13,
    "start_time": "2022-02-26T08:21:26.645Z"
   },
   {
    "duration": 11,
    "start_time": "2022-02-26T08:21:38.437Z"
   },
   {
    "duration": 13,
    "start_time": "2022-02-26T08:24:16.422Z"
   },
   {
    "duration": 6,
    "start_time": "2022-02-26T08:24:54.811Z"
   },
   {
    "duration": 7,
    "start_time": "2022-02-26T08:29:05.101Z"
   },
   {
    "duration": 6,
    "start_time": "2022-02-26T13:22:37.751Z"
   },
   {
    "duration": 41037,
    "start_time": "2022-02-26T13:22:37.760Z"
   },
   {
    "duration": 57666,
    "start_time": "2022-02-26T13:23:18.801Z"
   },
   {
    "duration": 32694,
    "start_time": "2022-02-26T13:24:16.470Z"
   },
   {
    "duration": 2781,
    "start_time": "2022-02-26T13:24:49.167Z"
   },
   {
    "duration": 337,
    "start_time": "2022-02-26T13:24:51.951Z"
   },
   {
    "duration": 22,
    "start_time": "2022-02-26T13:24:52.291Z"
   },
   {
    "duration": 23,
    "start_time": "2022-02-26T13:24:52.317Z"
   },
   {
    "duration": 15,
    "start_time": "2022-02-26T13:24:52.343Z"
   },
   {
    "duration": 285,
    "start_time": "2022-02-26T13:24:52.361Z"
   },
   {
    "duration": 21,
    "start_time": "2022-02-26T13:24:52.648Z"
   },
   {
    "duration": 122,
    "start_time": "2022-02-26T13:24:52.671Z"
   },
   {
    "duration": 73,
    "start_time": "2022-02-26T13:24:52.796Z"
   },
   {
    "duration": 98,
    "start_time": "2022-02-26T13:24:52.871Z"
   },
   {
    "duration": 353,
    "start_time": "2022-02-26T13:24:52.972Z"
   },
   {
    "duration": 82,
    "start_time": "2022-02-26T13:24:53.328Z"
   },
   {
    "duration": 229,
    "start_time": "2022-02-26T13:24:53.412Z"
   },
   {
    "duration": 23,
    "start_time": "2022-02-26T13:24:53.643Z"
   },
   {
    "duration": 20,
    "start_time": "2022-02-26T13:24:53.668Z"
   },
   {
    "duration": 44,
    "start_time": "2022-02-26T13:24:53.690Z"
   },
   {
    "duration": 246,
    "start_time": "2022-02-26T13:24:53.736Z"
   },
   {
    "duration": 234,
    "start_time": "2022-02-26T13:24:53.987Z"
   },
   {
    "duration": 230,
    "start_time": "2022-02-26T13:24:54.227Z"
   },
   {
    "duration": 918,
    "start_time": "2022-02-26T13:24:54.462Z"
   },
   {
    "duration": 8,
    "start_time": "2022-02-26T13:24:55.383Z"
   },
   {
    "duration": 11,
    "start_time": "2022-02-26T13:24:55.394Z"
   },
   {
    "duration": 22,
    "start_time": "2022-02-26T13:24:55.407Z"
   },
   {
    "duration": 31,
    "start_time": "2022-02-26T13:24:55.431Z"
   },
   {
    "duration": 23,
    "start_time": "2022-02-26T13:24:55.464Z"
   },
   {
    "duration": 178,
    "start_time": "2022-02-26T13:24:55.489Z"
   },
   {
    "duration": 18,
    "start_time": "2022-02-26T13:24:55.669Z"
   },
   {
    "duration": 6,
    "start_time": "2022-02-26T13:24:55.689Z"
   },
   {
    "duration": 7,
    "start_time": "2022-02-26T13:24:55.697Z"
   },
   {
    "duration": 35,
    "start_time": "2022-02-26T13:24:55.706Z"
   },
   {
    "duration": 56,
    "start_time": "2022-02-26T13:24:55.743Z"
   },
   {
    "duration": 46,
    "start_time": "2022-02-26T13:24:55.801Z"
   },
   {
    "duration": 67,
    "start_time": "2022-02-26T13:24:55.849Z"
   },
   {
    "duration": 148,
    "start_time": "2022-02-26T13:24:55.919Z"
   },
   {
    "duration": 23,
    "start_time": "2022-02-26T13:24:56.070Z"
   },
   {
    "duration": 8,
    "start_time": "2022-02-26T13:24:56.096Z"
   },
   {
    "duration": 15,
    "start_time": "2022-02-26T13:24:56.106Z"
   },
   {
    "duration": 11,
    "start_time": "2022-02-26T13:24:56.123Z"
   },
   {
    "duration": 26256,
    "start_time": "2022-02-26T13:24:56.136Z"
   },
   {
    "duration": 16,
    "start_time": "2022-02-26T13:25:22.394Z"
   },
   {
    "duration": 13,
    "start_time": "2022-02-26T13:25:22.413Z"
   },
   {
    "duration": 81,
    "start_time": "2022-02-26T13:25:22.428Z"
   },
   {
    "duration": 12,
    "start_time": "2022-02-26T13:25:22.511Z"
   },
   {
    "duration": 132,
    "start_time": "2022-02-26T13:25:22.525Z"
   },
   {
    "duration": 29,
    "start_time": "2022-02-26T13:25:22.659Z"
   },
   {
    "duration": 15,
    "start_time": "2022-02-26T13:25:22.690Z"
   },
   {
    "duration": 10833,
    "start_time": "2022-02-26T13:25:22.707Z"
   },
   {
    "duration": 43,
    "start_time": "2022-02-26T13:25:33.543Z"
   },
   {
    "duration": 37,
    "start_time": "2022-02-26T13:25:33.589Z"
   },
   {
    "duration": 102,
    "start_time": "2022-02-26T13:25:33.630Z"
   },
   {
    "duration": 31,
    "start_time": "2022-02-26T13:25:33.787Z"
   },
   {
    "duration": 116,
    "start_time": "2022-02-26T13:25:33.820Z"
   },
   {
    "duration": 10,
    "start_time": "2022-02-26T13:25:33.938Z"
   },
   {
    "duration": 48,
    "start_time": "2022-02-26T13:25:33.950Z"
   },
   {
    "duration": 12,
    "start_time": "2022-02-26T13:25:34.001Z"
   },
   {
    "duration": 9,
    "start_time": "2022-02-26T13:25:34.015Z"
   },
   {
    "duration": 19,
    "start_time": "2022-02-26T13:25:34.028Z"
   },
   {
    "duration": 48,
    "start_time": "2022-02-26T13:25:34.049Z"
   },
   {
    "duration": 5,
    "start_time": "2022-02-26T13:25:34.100Z"
   },
   {
    "duration": 18,
    "start_time": "2022-02-26T13:25:34.107Z"
   },
   {
    "duration": 58,
    "start_time": "2022-02-26T13:25:34.128Z"
   },
   {
    "duration": 124,
    "start_time": "2022-02-26T13:25:34.189Z"
   },
   {
    "duration": 139,
    "start_time": "2022-02-26T13:25:34.315Z"
   },
   {
    "duration": 147,
    "start_time": "2022-02-26T13:25:34.461Z"
   },
   {
    "duration": 284,
    "start_time": "2022-02-26T13:25:34.611Z"
   },
   {
    "duration": 8,
    "start_time": "2022-05-22T17:27:25.579Z"
   },
   {
    "duration": 2358,
    "start_time": "2022-05-22T17:27:25.589Z"
   },
   {
    "duration": 2358,
    "start_time": "2022-05-22T17:27:27.949Z"
   },
   {
    "duration": 2090,
    "start_time": "2022-05-22T17:27:30.309Z"
   },
   {
    "duration": 1416,
    "start_time": "2022-05-22T17:27:32.401Z"
   },
   {
    "duration": 454,
    "start_time": "2022-05-22T17:27:33.818Z"
   },
   {
    "duration": 18,
    "start_time": "2022-05-22T17:27:34.274Z"
   },
   {
    "duration": 16,
    "start_time": "2022-05-22T17:27:34.293Z"
   },
   {
    "duration": 12,
    "start_time": "2022-05-22T17:27:34.311Z"
   },
   {
    "duration": 149,
    "start_time": "2022-05-22T17:27:34.325Z"
   },
   {
    "duration": 23,
    "start_time": "2022-05-22T17:27:34.475Z"
   },
   {
    "duration": 71,
    "start_time": "2022-05-22T17:27:34.499Z"
   },
   {
    "duration": 65,
    "start_time": "2022-05-22T17:27:34.572Z"
   },
   {
    "duration": 67,
    "start_time": "2022-05-22T17:27:34.638Z"
   },
   {
    "duration": 248,
    "start_time": "2022-05-22T17:27:34.707Z"
   },
   {
    "duration": 61,
    "start_time": "2022-05-22T17:27:34.957Z"
   },
   {
    "duration": 239,
    "start_time": "2022-05-22T17:27:35.019Z"
   },
   {
    "duration": 25,
    "start_time": "2022-05-22T17:27:35.259Z"
   },
   {
    "duration": 7,
    "start_time": "2022-05-22T17:27:35.293Z"
   },
   {
    "duration": 25,
    "start_time": "2022-05-22T17:27:35.301Z"
   },
   {
    "duration": 47,
    "start_time": "2022-05-22T17:27:35.327Z"
   },
   {
    "duration": 57,
    "start_time": "2022-05-22T17:27:35.376Z"
   },
   {
    "duration": 61,
    "start_time": "2022-05-22T17:27:35.435Z"
   },
   {
    "duration": 579,
    "start_time": "2022-05-22T17:27:35.498Z"
   },
   {
    "duration": 4,
    "start_time": "2022-05-22T17:27:36.079Z"
   },
   {
    "duration": 23,
    "start_time": "2022-05-22T17:27:36.084Z"
   },
   {
    "duration": 55,
    "start_time": "2022-05-22T17:27:36.108Z"
   },
   {
    "duration": 20,
    "start_time": "2022-05-22T17:27:36.166Z"
   },
   {
    "duration": 9,
    "start_time": "2022-05-22T17:27:36.188Z"
   },
   {
    "duration": 59,
    "start_time": "2022-05-22T17:27:36.198Z"
   },
   {
    "duration": 6,
    "start_time": "2022-05-22T17:27:36.259Z"
   },
   {
    "duration": 17,
    "start_time": "2022-05-22T17:27:36.267Z"
   },
   {
    "duration": 17,
    "start_time": "2022-05-22T17:27:36.286Z"
   },
   {
    "duration": 33,
    "start_time": "2022-05-22T17:27:36.305Z"
   },
   {
    "duration": 19,
    "start_time": "2022-05-22T17:27:36.340Z"
   },
   {
    "duration": 35,
    "start_time": "2022-05-22T17:27:36.361Z"
   },
   {
    "duration": 34,
    "start_time": "2022-05-22T17:27:36.398Z"
   },
   {
    "duration": 97,
    "start_time": "2022-05-22T17:27:36.434Z"
   },
   {
    "duration": 13,
    "start_time": "2022-05-22T17:27:36.532Z"
   },
   {
    "duration": 9,
    "start_time": "2022-05-22T17:27:36.546Z"
   },
   {
    "duration": 27,
    "start_time": "2022-05-22T17:27:36.556Z"
   },
   {
    "duration": 15,
    "start_time": "2022-05-22T17:27:36.585Z"
   },
   {
    "duration": 11397,
    "start_time": "2022-05-22T17:27:36.602Z"
   },
   {
    "duration": 9,
    "start_time": "2022-05-22T17:27:48.000Z"
   },
   {
    "duration": 110,
    "start_time": "2022-05-22T17:27:48.011Z"
   },
   {
    "duration": 39,
    "start_time": "2022-05-22T17:27:48.122Z"
   },
   {
    "duration": 8,
    "start_time": "2022-05-22T17:27:48.162Z"
   },
   {
    "duration": 92,
    "start_time": "2022-05-22T17:27:48.172Z"
   },
   {
    "duration": 28,
    "start_time": "2022-05-22T17:27:48.266Z"
   },
   {
    "duration": 8,
    "start_time": "2022-05-22T17:27:48.295Z"
   },
   {
    "duration": 398,
    "start_time": "2022-05-22T17:27:48.305Z"
   },
   {
    "duration": 8,
    "start_time": "2022-05-22T17:27:48.705Z"
   },
   {
    "duration": 82,
    "start_time": "2022-05-22T17:27:48.714Z"
   },
   {
    "duration": 34,
    "start_time": "2022-05-22T17:27:48.798Z"
   },
   {
    "duration": 72,
    "start_time": "2022-05-22T17:27:48.834Z"
   },
   {
    "duration": 37,
    "start_time": "2022-05-22T17:27:48.907Z"
   },
   {
    "duration": 7,
    "start_time": "2022-05-22T17:27:48.945Z"
   },
   {
    "duration": 16,
    "start_time": "2022-05-22T17:27:48.953Z"
   },
   {
    "duration": 9,
    "start_time": "2022-05-22T17:27:48.970Z"
   },
   {
    "duration": 15,
    "start_time": "2022-05-22T17:27:48.980Z"
   },
   {
    "duration": 19,
    "start_time": "2022-05-22T17:27:48.996Z"
   },
   {
    "duration": 11,
    "start_time": "2022-05-22T17:27:49.016Z"
   },
   {
    "duration": 3,
    "start_time": "2022-05-22T17:27:49.029Z"
   },
   {
    "duration": 12,
    "start_time": "2022-05-22T17:27:49.033Z"
   },
   {
    "duration": 18,
    "start_time": "2022-05-22T17:27:49.047Z"
   },
   {
    "duration": 109,
    "start_time": "2022-05-22T17:27:49.095Z"
   },
   {
    "duration": 106,
    "start_time": "2022-05-22T17:27:49.207Z"
   },
   {
    "duration": 88,
    "start_time": "2022-05-22T17:27:49.314Z"
   },
   {
    "duration": 181,
    "start_time": "2022-05-22T17:27:49.404Z"
   },
   {
    "duration": 55,
    "start_time": "2022-07-28T17:57:52.448Z"
   },
   {
    "duration": 9,
    "start_time": "2022-07-28T17:57:58.891Z"
   },
   {
    "duration": 6492,
    "start_time": "2022-07-28T17:57:58.902Z"
   },
   {
    "duration": 12130,
    "start_time": "2022-07-28T17:58:05.397Z"
   },
   {
    "duration": 3228,
    "start_time": "2022-07-28T17:58:17.530Z"
   },
   {
    "duration": 1458,
    "start_time": "2022-07-28T17:58:20.760Z"
   },
   {
    "duration": 662,
    "start_time": "2022-07-28T17:58:22.219Z"
   },
   {
    "duration": 18,
    "start_time": "2022-07-28T17:58:22.883Z"
   },
   {
    "duration": 22,
    "start_time": "2022-07-28T17:58:22.903Z"
   },
   {
    "duration": 8,
    "start_time": "2022-07-28T17:58:22.926Z"
   },
   {
    "duration": 185,
    "start_time": "2022-07-28T17:58:22.937Z"
   },
   {
    "duration": 22,
    "start_time": "2022-07-28T17:58:23.123Z"
   },
   {
    "duration": 103,
    "start_time": "2022-07-28T17:58:23.147Z"
   },
   {
    "duration": 69,
    "start_time": "2022-07-28T17:58:23.251Z"
   },
   {
    "duration": 66,
    "start_time": "2022-07-28T17:58:23.322Z"
   },
   {
    "duration": 306,
    "start_time": "2022-07-28T17:58:23.391Z"
   },
   {
    "duration": 66,
    "start_time": "2022-07-28T17:58:23.700Z"
   },
   {
    "duration": 211,
    "start_time": "2022-07-28T17:58:23.768Z"
   },
   {
    "duration": 40,
    "start_time": "2022-07-28T17:58:23.981Z"
   },
   {
    "duration": 8,
    "start_time": "2022-07-28T17:58:24.023Z"
   },
   {
    "duration": 56,
    "start_time": "2022-07-28T17:58:24.032Z"
   },
   {
    "duration": 64,
    "start_time": "2022-07-28T17:58:24.090Z"
   },
   {
    "duration": 68,
    "start_time": "2022-07-28T17:58:24.155Z"
   },
   {
    "duration": 60,
    "start_time": "2022-07-28T17:58:24.226Z"
   },
   {
    "duration": 506,
    "start_time": "2022-07-28T17:58:24.288Z"
   },
   {
    "duration": 6,
    "start_time": "2022-07-28T17:58:24.795Z"
   },
   {
    "duration": 15,
    "start_time": "2022-07-28T17:58:24.811Z"
   },
   {
    "duration": 37,
    "start_time": "2022-07-28T17:58:24.828Z"
   },
   {
    "duration": 25,
    "start_time": "2022-07-28T17:58:24.869Z"
   },
   {
    "duration": 15,
    "start_time": "2022-07-28T17:58:24.896Z"
   },
   {
    "duration": 135,
    "start_time": "2022-07-28T17:58:24.913Z"
   },
   {
    "duration": 7,
    "start_time": "2022-07-28T17:58:25.050Z"
   },
   {
    "duration": 21,
    "start_time": "2022-07-28T17:58:25.060Z"
   },
   {
    "duration": 20,
    "start_time": "2022-07-28T17:58:25.083Z"
   },
   {
    "duration": 57,
    "start_time": "2022-07-28T17:58:25.105Z"
   },
   {
    "duration": 23,
    "start_time": "2022-07-28T17:58:25.164Z"
   },
   {
    "duration": 55,
    "start_time": "2022-07-28T17:58:25.189Z"
   },
   {
    "duration": 52,
    "start_time": "2022-07-28T17:58:25.246Z"
   },
   {
    "duration": 127,
    "start_time": "2022-07-28T17:58:25.309Z"
   },
   {
    "duration": 14,
    "start_time": "2022-07-28T17:58:25.438Z"
   },
   {
    "duration": 13,
    "start_time": "2022-07-28T17:58:25.454Z"
   },
   {
    "duration": 10,
    "start_time": "2022-07-28T17:58:25.469Z"
   },
   {
    "duration": 9,
    "start_time": "2022-07-28T17:58:25.480Z"
   },
   {
    "duration": 13630,
    "start_time": "2022-07-28T17:58:25.511Z"
   },
   {
    "duration": 12,
    "start_time": "2022-07-28T17:58:39.143Z"
   },
   {
    "duration": 120,
    "start_time": "2022-07-28T17:58:39.157Z"
   },
   {
    "duration": 0,
    "start_time": "2022-07-28T17:58:39.278Z"
   },
   {
    "duration": 0,
    "start_time": "2022-07-28T17:58:39.280Z"
   },
   {
    "duration": 0,
    "start_time": "2022-07-28T17:58:39.281Z"
   },
   {
    "duration": 0,
    "start_time": "2022-07-28T17:58:39.282Z"
   },
   {
    "duration": 0,
    "start_time": "2022-07-28T17:58:39.283Z"
   },
   {
    "duration": 0,
    "start_time": "2022-07-28T17:58:39.284Z"
   },
   {
    "duration": 0,
    "start_time": "2022-07-28T17:58:39.285Z"
   },
   {
    "duration": 0,
    "start_time": "2022-07-28T17:58:39.286Z"
   },
   {
    "duration": 0,
    "start_time": "2022-07-28T17:58:39.287Z"
   },
   {
    "duration": 0,
    "start_time": "2022-07-28T17:58:39.288Z"
   },
   {
    "duration": 0,
    "start_time": "2022-07-28T17:58:39.289Z"
   },
   {
    "duration": 0,
    "start_time": "2022-07-28T17:58:39.310Z"
   },
   {
    "duration": 0,
    "start_time": "2022-07-28T17:58:39.311Z"
   },
   {
    "duration": 0,
    "start_time": "2022-07-28T17:58:39.313Z"
   },
   {
    "duration": 0,
    "start_time": "2022-07-28T17:58:39.314Z"
   },
   {
    "duration": 0,
    "start_time": "2022-07-28T17:58:39.315Z"
   },
   {
    "duration": 0,
    "start_time": "2022-07-28T17:58:39.316Z"
   },
   {
    "duration": 0,
    "start_time": "2022-07-28T17:58:39.318Z"
   },
   {
    "duration": 0,
    "start_time": "2022-07-28T17:58:39.319Z"
   },
   {
    "duration": 0,
    "start_time": "2022-07-28T17:58:39.320Z"
   },
   {
    "duration": 0,
    "start_time": "2022-07-28T17:58:39.321Z"
   },
   {
    "duration": 0,
    "start_time": "2022-07-28T17:58:39.322Z"
   },
   {
    "duration": 0,
    "start_time": "2022-07-28T17:58:39.323Z"
   },
   {
    "duration": 0,
    "start_time": "2022-07-28T17:58:39.324Z"
   },
   {
    "duration": 9,
    "start_time": "2022-08-02T17:16:36.160Z"
   },
   {
    "duration": 6952,
    "start_time": "2022-08-02T17:16:36.171Z"
   },
   {
    "duration": 12658,
    "start_time": "2022-08-02T17:16:43.125Z"
   },
   {
    "duration": 3224,
    "start_time": "2022-08-02T17:16:55.785Z"
   },
   {
    "duration": 1633,
    "start_time": "2022-08-02T17:16:59.012Z"
   },
   {
    "duration": 760,
    "start_time": "2022-08-02T17:17:00.647Z"
   },
   {
    "duration": 21,
    "start_time": "2022-08-02T17:17:01.409Z"
   },
   {
    "duration": 25,
    "start_time": "2022-08-02T17:17:01.433Z"
   },
   {
    "duration": 11,
    "start_time": "2022-08-02T17:17:01.460Z"
   },
   {
    "duration": 198,
    "start_time": "2022-08-02T17:17:01.473Z"
   },
   {
    "duration": 22,
    "start_time": "2022-08-02T17:17:01.673Z"
   },
   {
    "duration": 108,
    "start_time": "2022-08-02T17:17:01.709Z"
   },
   {
    "duration": 94,
    "start_time": "2022-08-02T17:17:01.819Z"
   },
   {
    "duration": 105,
    "start_time": "2022-08-02T17:17:01.919Z"
   },
   {
    "duration": 348,
    "start_time": "2022-08-02T17:17:02.026Z"
   },
   {
    "duration": 81,
    "start_time": "2022-08-02T17:17:02.377Z"
   },
   {
    "duration": 201,
    "start_time": "2022-08-02T17:17:02.460Z"
   },
   {
    "duration": 48,
    "start_time": "2022-08-02T17:17:02.663Z"
   },
   {
    "duration": 11,
    "start_time": "2022-08-02T17:17:02.713Z"
   },
   {
    "duration": 27,
    "start_time": "2022-08-02T17:17:02.726Z"
   },
   {
    "duration": 95,
    "start_time": "2022-08-02T17:17:02.755Z"
   },
   {
    "duration": 79,
    "start_time": "2022-08-02T17:17:02.852Z"
   },
   {
    "duration": 78,
    "start_time": "2022-08-02T17:17:02.933Z"
   },
   {
    "duration": 507,
    "start_time": "2022-08-02T17:17:03.013Z"
   },
   {
    "duration": 5,
    "start_time": "2022-08-02T17:17:03.522Z"
   },
   {
    "duration": 9,
    "start_time": "2022-08-02T17:17:03.529Z"
   },
   {
    "duration": 36,
    "start_time": "2022-08-02T17:17:03.540Z"
   },
   {
    "duration": 58,
    "start_time": "2022-08-02T17:17:03.578Z"
   },
   {
    "duration": 5,
    "start_time": "2022-08-02T17:17:03.638Z"
   },
   {
    "duration": 126,
    "start_time": "2022-08-02T17:17:03.645Z"
   },
   {
    "duration": 139,
    "start_time": "2022-08-02T17:17:03.774Z"
   },
   {
    "duration": 7,
    "start_time": "2022-08-02T17:17:03.915Z"
   },
   {
    "duration": 6,
    "start_time": "2022-08-02T17:17:03.924Z"
   },
   {
    "duration": 34,
    "start_time": "2022-08-02T17:17:03.932Z"
   },
   {
    "duration": 20,
    "start_time": "2022-08-02T17:17:03.968Z"
   },
   {
    "duration": 140,
    "start_time": "2022-08-02T17:17:03.990Z"
   },
   {
    "duration": 47,
    "start_time": "2022-08-02T17:17:04.132Z"
   },
   {
    "duration": 136,
    "start_time": "2022-08-02T17:17:04.181Z"
   },
   {
    "duration": 16,
    "start_time": "2022-08-02T17:17:04.319Z"
   },
   {
    "duration": 6,
    "start_time": "2022-08-02T17:17:04.337Z"
   },
   {
    "duration": 9,
    "start_time": "2022-08-02T17:17:04.348Z"
   },
   {
    "duration": 9,
    "start_time": "2022-08-02T17:17:04.358Z"
   }
  ],
  "kernelspec": {
   "display_name": "Python 3 (ipykernel)",
   "language": "python",
   "name": "python3"
  },
  "language_info": {
   "codemirror_mode": {
    "name": "ipython",
    "version": 3
   },
   "file_extension": ".py",
   "mimetype": "text/x-python",
   "name": "python",
   "nbconvert_exporter": "python",
   "pygments_lexer": "ipython3",
   "version": "3.9.5"
  },
  "toc": {
   "base_numbering": 1,
   "nav_menu": {},
   "number_sections": true,
   "sideBar": true,
   "skip_h1_title": true,
   "title_cell": "Table of Contents",
   "title_sidebar": "Contents",
   "toc_cell": false,
   "toc_position": {},
   "toc_section_display": true,
   "toc_window_display": false
  }
 },
 "nbformat": 4,
 "nbformat_minor": 2
}
